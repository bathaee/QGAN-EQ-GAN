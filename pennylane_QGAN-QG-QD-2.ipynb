{
 "cells": [
  {
   "cell_type": "code",
   "execution_count": 1,
   "id": "d5a26f54",
   "metadata": {},
   "outputs": [
    {
     "name": "stderr",
     "output_type": "stream",
     "text": [
      "2023-05-24 09:26:34.700282: I tensorflow/core/platform/cpu_feature_guard.cc:193] This TensorFlow binary is optimized with oneAPI Deep Neural Network Library (oneDNN) to use the following CPU instructions in performance-critical operations:  AVX2 FMA\n",
      "To enable them in other operations, rebuild TensorFlow with the appropriate compiler flags.\n"
     ]
    }
   ],
   "source": [
    "import pennylane as qml\n",
    "from pennylane import numpy as np\n",
    "import tensorflow as tf"
   ]
  },
  {
   "cell_type": "code",
   "execution_count": 2,
   "id": "b0875df7",
   "metadata": {},
   "outputs": [],
   "source": [
    "dev = qml.device('cirq.simulator',wires=3)"
   ]
  },
  {
   "cell_type": "code",
   "execution_count": 3,
   "id": "805fb7ca",
   "metadata": {},
   "outputs": [],
   "source": [
    "#@qml.qnode(dev)\n",
    "def real(angles,**kwargs):\n",
    "    qml.Hadamard(wires=0)\n",
    "    qml.Rot(*angles,wires=0)\n",
    "    #return qml.expval(qml.PauliZ(0))\n",
    "    #return qml.probs(wires=0)\n",
    "#real([0,0,0])"
   ]
  },
  {
   "cell_type": "code",
   "execution_count": 4,
   "id": "b6bc8d03",
   "metadata": {},
   "outputs": [
    {
     "name": "stdout",
     "output_type": "stream",
     "text": [
      "0: ──H──Rot(phi,theta,omega)─┤  \n"
     ]
    }
   ],
   "source": [
    "drawer = qml.draw(real)\n",
    "w = ['phi', 'theta', 'omega']\n",
    "print(drawer(w))\n",
    "\n",
    "#cir = qml.QNode(real,dev)\n",
    "#import matplotlib.pyplot as plt\n",
    "\n",
    "#qml.drawer.use_style(\"black_white\")\n",
    "#fig, ax = qml.draw_mpl(cir)([np.pi/4,np.pi/4,np.pi/4])\n",
    "#plt.show()"
   ]
  },
  {
   "cell_type": "code",
   "execution_count": 5,
   "id": "7f31d51d",
   "metadata": {},
   "outputs": [],
   "source": [
    "def generator(w,**kwargs):\n",
    "    qml.Hadamard(wires=0)\n",
    "    qml.RX(w[0], wires=0)\n",
    "    qml.RX(w[1], wires=1)\n",
    "    qml.RY(w[2], wires=0)\n",
    "    qml.RY(w[3], wires=1)\n",
    "    qml.RZ(w[4], wires=0)\n",
    "    qml.RZ(w[5], wires=1)\n",
    "    qml.CNOT(wires=[0,1])\n",
    "    qml.RX(w[6], wires=0)\n",
    "    qml.RY(w[7], wires=0)\n",
    "    qml.RZ(w[8], wires=0)"
   ]
  },
  {
   "cell_type": "code",
   "execution_count": 6,
   "id": "30609543",
   "metadata": {},
   "outputs": [
    {
     "name": "stdout",
     "output_type": "stream",
     "text": [
      "0: ──H───────RX(w0)──RY(w2)──RZ(w4)─╭●──RX(w6)──RY(w7)──RZ(w8)─┤  \n",
      "1: ──RX(w1)──RY(w3)──RZ(w5)─────────╰X─────────────────────────┤  \n",
      "2: ────────────────────────────────────────────────────────────┤  \n"
     ]
    }
   ],
   "source": [
    "drawer = qml.draw(generator,show_all_wires=True,wire_order=[0,1,2])\n",
    "w = ['w0','w1','w2','w3','w4','w5','w6','w7','w8']\n",
    "#w = ['w0','w1','w2']\n",
    "print(drawer(w))"
   ]
  },
  {
   "cell_type": "code",
   "execution_count": 7,
   "id": "53ae54d1",
   "metadata": {},
   "outputs": [],
   "source": [
    "def discriminator(w):\n",
    "    qml.Hadamard(wires=0)\n",
    "    qml.RX(w[0], wires=0)\n",
    "    qml.RX(w[1], wires=2)\n",
    "    qml.RY(w[2], wires=0)\n",
    "    qml.RY(w[3], wires=2)\n",
    "    qml.RZ(w[4], wires=0)\n",
    "    qml.RZ(w[5], wires=2)\n",
    "    qml.CNOT(wires=[0, 2])\n",
    "    qml.RX(w[6], wires=2)\n",
    "    qml.RY(w[7], wires=2)\n",
    "    qml.RZ(w[8], wires=2)"
   ]
  },
  {
   "cell_type": "code",
   "execution_count": 8,
   "id": "34f94571",
   "metadata": {},
   "outputs": [
    {
     "name": "stdout",
     "output_type": "stream",
     "text": [
      "0: ──H───────RX(w0)──RY(w2)──RZ(w4)─╭●─────────────────────────┤  \n",
      "1: ─────────────────────────────────│──────────────────────────┤  \n",
      "2: ──RX(w1)──RY(w3)──RZ(w5)─────────╰X──RX(w6)──RY(w7)──RZ(w8)─┤  \n"
     ]
    }
   ],
   "source": [
    "drawer = qml.draw(discriminator,show_all_wires=True,wire_order=[0,1,2])\n",
    "w = ['w0','w1','w2','w3','w4','w5','w6','w7','w8']\n",
    "#w = ['w0','w1','w2']\n",
    "print(drawer(w))"
   ]
  },
  {
   "cell_type": "code",
   "execution_count": 10,
   "id": "462060ea",
   "metadata": {},
   "outputs": [],
   "source": [
    "@qml.qnode(dev, interface='tf')\n",
    "def real_disc_circuit(phi, theta, omega, disc_weights):\n",
    "    real([phi,theta,omega])\n",
    "    discriminator(disc_weights)\n",
    "    return qml.expval(qml.PauliZ(2))\n",
    "\n",
    "@qml.qnode(dev,interface='tf')\n",
    "def gen_disc_circuit(gen_weights,disc_weights):\n",
    "    generator(gen_weights)\n",
    "    discriminator(disc_weights)\n",
    "    return qml.expval(qml.PauliZ(2))\n",
    "\n",
    "#cost_real = qml.QNode(real_disc_circuit, device)\n",
    "#cost_gen = qml.QNode(gen_disc_circuit, device)"
   ]
  },
  {
   "cell_type": "code",
   "execution_count": 11,
   "id": "4b664e9a",
   "metadata": {},
   "outputs": [],
   "source": [
    "def prob_real_true(disc_weights):\n",
    "    true_disc_output = real_disc_circuit(phi,theta,omega,disc_weights)\n",
    "    #convert to probability\n",
    "    prob_real_true = (true_disc_output+1)/2\n",
    "    return prob_real_true"
   ]
  },
  {
   "cell_type": "code",
   "execution_count": 12,
   "id": "edae4bce",
   "metadata": {},
   "outputs": [],
   "source": [
    "def prob_fake_true(gen_weights,disc_weights):\n",
    "    fake_disc_output = gen_disc_circuit(gen_weights,disc_weights)\n",
    "    #convert to probability\n",
    "    prob_fake_true = (fake_disc_output+1)/2\n",
    "    return prob_fake_true"
   ]
  },
  {
   "cell_type": "code",
   "execution_count": 13,
   "id": "17da74bd",
   "metadata": {},
   "outputs": [],
   "source": [
    "def disc_cost(disc_weights):\n",
    "    cost = prob_fake_true(gen_weights,disc_weights)-prob_real_true(disc_weights)\n",
    "    return cost\n",
    "def gen_cost(gen_weights):\n",
    "    cost = -prob_fake_true(gen_weights,disc_weights)\n",
    "    return cost"
   ]
  },
  {
   "cell_type": "code",
   "execution_count": 36,
   "id": "3cd2b1f5",
   "metadata": {},
   "outputs": [
    {
     "name": "stdout",
     "output_type": "stream",
     "text": [
      "disc_weights = <tf.Variable 'Variable:0' shape=(9,) dtype=float64, numpy=\n",
      "array([ 0.4105985 ,  0.14404357,  1.45427351,  0.76103773,  0.12167502,\n",
      "        0.44386323,  0.33367433,  1.49407907, -0.20515826])>\n",
      "loss = tf.Tensor(-0.02251306176185608, shape=(), dtype=float64)\n"
     ]
    }
   ],
   "source": [
    "phi = np.pi / 6\n",
    "theta = np.pi / 2\n",
    "omega = np.pi / 7\n",
    "np.random.seed(0)\n",
    "eps = 1e-2\n",
    "init_gen_weights = np.array([np.pi] + [0] * 8) + \\\n",
    "                   np.random.normal(scale=eps, size=(9,))\n",
    "\n",
    "init_disc_weights = np.random.normal(size=(9,))\n",
    "gen_weights = tf.Variable(init_gen_weights,dtype=tf.float64)\n",
    "disc_weights = tf.Variable(init_disc_weights,dtype=tf.float64)\n",
    "\n",
    "print('disc_weights =',disc_weights)\n",
    "print('loss =',disc_cost(disc_weights))\n",
    "#print(gen_cost(gen_weights))\n",
    "#print(prob_fake_true(gen_weights,disc_weights))\n"
   ]
  },
  {
   "cell_type": "code",
   "execution_count": 37,
   "id": "51d23f5a",
   "metadata": {},
   "outputs": [
    {
     "name": "stdout",
     "output_type": "stream",
     "text": [
      "var = <tf.Variable 'Variable:0' shape=(9,) dtype=float64, numpy=\n",
      "array([ 0.4105985 ,  0.14404357,  1.45427351,  0.76103773,  0.12167502,\n",
      "        0.44386323,  0.33367433,  1.49407907, -0.20515826])>\n",
      "loss = tf.Tensor(-0.02251306176185608, shape=(), dtype=float64)\n",
      "Step 0: cost = -0.05727693438529968\n",
      "Step 5: cost = -0.2634810581803322\n",
      "Step 10: cost = -0.42739150300621986\n",
      "Step 15: cost = -0.4726157411932945\n",
      "Step 20: cost = -0.48406897485256195\n",
      "Step 25: cost = -0.48946385085582733\n",
      "Step 30: cost = -0.4928187355399132\n",
      "Step 35: cost = -0.49494922906160355\n",
      "Step 40: cost = -0.4962702915072441\n",
      "Step 45: cost = -0.4970718249678612\n"
     ]
    }
   ],
   "source": [
    "opt = tf.keras.optimizers.experimental.SGD(learning_rate=0.4)\n",
    "\n",
    "var = disc_weights\n",
    "print('var =',var)\n",
    "\n",
    "loss = lambda: disc_cost(disc_weights)         # d(loss)/d(var1) = var1\n",
    "print('loss =',disc_cost(disc_weights) )\n",
    "\n",
    "for step in range(50):\n",
    "    opt.minimize(loss, [var])\n",
    "    if step % 5 == 0:\n",
    "        loss_val = loss().numpy()\n",
    "        print(\"Step {}: cost = {}\".format(step, loss_val))\n",
    "        "
   ]
  },
  {
   "cell_type": "code",
   "execution_count": 38,
   "id": "8cb3489c",
   "metadata": {},
   "outputs": [
    {
     "name": "stdout",
     "output_type": "stream",
     "text": [
      "Prob(real classified as real):  0.9985871016979218\n"
     ]
    }
   ],
   "source": [
    "print(\"Prob(real classified as real): \", prob_real_true(var).numpy())"
   ]
  },
  {
   "cell_type": "code",
   "execution_count": 39,
   "id": "bad4e9b8",
   "metadata": {},
   "outputs": [
    {
     "name": "stdout",
     "output_type": "stream",
     "text": [
      "Prob(fake classified as real):  0.5011128559708595\n"
     ]
    }
   ],
   "source": [
    "print(\"Prob(fake classified as real): \", prob_fake_true(gen_weights, var).numpy())"
   ]
  },
  {
   "cell_type": "code",
   "execution_count": 40,
   "id": "94964c72",
   "metadata": {},
   "outputs": [
    {
     "name": "stdout",
     "output_type": "stream",
     "text": [
      "var_g = <tf.Variable 'Variable:0' shape=(9,) dtype=float64, numpy=\n",
      "array([ 3.15923318e+00,  4.00157208e-03,  9.78737984e-03,  2.24089320e-02,\n",
      "        1.86755799e-02, -9.77277880e-03,  9.50088418e-03, -1.51357208e-03,\n",
      "       -1.03218852e-03])>\n",
      "loss = tf.Tensor(-0.5011128559708595, shape=(), dtype=float64)\n",
      "Step 0: cost = -0.5833386555314064\n",
      "Step 5: cost = -0.8915733397006989\n",
      "Step 10: cost = -0.9784241914749146\n",
      "Step 15: cost = -0.9946482479572296\n",
      "Step 20: cost = -0.9984995126724243\n",
      "Step 25: cost = -0.9995638430118561\n",
      "Step 30: cost = -0.9998717308044434\n",
      "Step 35: cost = -0.9999619722366333\n",
      "Step 40: cost = -0.9999887645244598\n",
      "Step 45: cost = -0.9999964833259583\n"
     ]
    }
   ],
   "source": [
    "opt = tf.keras.optimizers.legacy.SGD(learning_rate=0.4)\n",
    "var_g = gen_weights\n",
    "print('var_g =',var_g)\n",
    "\n",
    "loss = lambda: gen_cost(gen_weights)         # d(loss)/d(var1) = var1\n",
    "print('loss =',gen_cost(gen_weights))\n",
    "\n",
    "for step in range(50):\n",
    "    opt.minimize(loss, [var_g])\n",
    "    if step % 5 == 0:\n",
    "        loss_val = loss().numpy()\n",
    "        print(\"Step {}: cost = {}\".format(step, loss_val))\n",
    "        "
   ]
  },
  {
   "cell_type": "code",
   "execution_count": 41,
   "id": "0d64dcfa",
   "metadata": {},
   "outputs": [
    {
     "name": "stdout",
     "output_type": "stream",
     "text": [
      "Prob(fake classified as real):  0.9999986886978149\n"
     ]
    }
   ],
   "source": [
    "print(\"Prob(fake classified as real): \", prob_fake_true(var_g, var).numpy())"
   ]
  },
  {
   "cell_type": "code",
   "execution_count": 42,
   "id": "2f3ab687",
   "metadata": {},
   "outputs": [
    {
     "name": "stdout",
     "output_type": "stream",
     "text": [
      "Discriminator cost:  0.0014115869998931885\n"
     ]
    }
   ],
   "source": [
    "print(\"Discriminator cost: \", disc_cost(var).numpy())"
   ]
  },
  {
   "cell_type": "code",
   "execution_count": 43,
   "id": "5687499c",
   "metadata": {},
   "outputs": [
    {
     "name": "stdout",
     "output_type": "stream",
     "text": [
      "Real Bloch vector: [<tf.Tensor: shape=(), dtype=float64, numpy=-0.21694186329841614>, <tf.Tensor: shape=(), dtype=float64, numpy=0.45048442482948303>, <tf.Tensor: shape=(), dtype=float64, numpy=-0.8660252094268799>]\n",
      "Generator Bloch vector: [<tf.Tensor: shape=(), dtype=float64, numpy=-0.28404659032821655>, <tf.Tensor: shape=(), dtype=float64, numpy=0.4189322590827942>, <tf.Tensor: shape=(), dtype=float64, numpy=-0.8624440431594849>]\n"
     ]
    }
   ],
   "source": [
    "obs = [qml.PauliX(0), qml.PauliY(0), qml.PauliZ(0)]\n",
    "\n",
    "@qml.qnode(dev, interface=\"tf\")\n",
    "def bloch_vector_real(angles):\n",
    "    real(angles)\n",
    "    return [qml.expval(o) for o in obs]\n",
    "\n",
    "@qml.qnode(dev, interface=\"tf\")\n",
    "def bloch_vector_generator(angles):\n",
    "    generator(angles)\n",
    "    return [qml.expval(o) for o in obs]\n",
    "\n",
    "print(f\"Real Bloch vector: {bloch_vector_real([phi, theta, omega])}\")\n",
    "print(f\"Generator Bloch vector: {bloch_vector_generator(var_g)}\")"
   ]
  },
  {
   "cell_type": "code",
   "execution_count": 44,
   "id": "b3bef48d",
   "metadata": {},
   "outputs": [
    {
     "data": {
      "text/plain": [
       "0.9944922795846928"
      ]
     },
     "execution_count": 44,
     "metadata": {},
     "output_type": "execute_result"
    }
   ],
   "source": [
    "qml.math.fidelity(bloch_vector_real([phi, theta, omega]), bloch_vector_generator(var_g))"
   ]
  },
  {
   "cell_type": "code",
   "execution_count": null,
   "id": "6c90a934",
   "metadata": {},
   "outputs": [],
   "source": []
  }
 ],
 "metadata": {
  "kernelspec": {
   "display_name": "Python 3 (ipykernel)",
   "language": "python",
   "name": "python3"
  },
  "language_info": {
   "codemirror_mode": {
    "name": "ipython",
    "version": 3
   },
   "file_extension": ".py",
   "mimetype": "text/x-python",
   "name": "python",
   "nbconvert_exporter": "python",
   "pygments_lexer": "ipython3",
   "version": "3.9.13"
  }
 },
 "nbformat": 4,
 "nbformat_minor": 5
}
