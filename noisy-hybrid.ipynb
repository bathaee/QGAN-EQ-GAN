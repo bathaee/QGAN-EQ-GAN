{
 "cells": [
  {
   "cell_type": "code",
   "execution_count": 1,
   "metadata": {
    "id": "yUIh5KnTSvt_"
   },
   "outputs": [
    {
     "name": "stderr",
     "output_type": "stream",
     "text": [
      "2023-05-28 09:30:48.661612: I tensorflow/core/platform/cpu_feature_guard.cc:193] This TensorFlow binary is optimized with oneAPI Deep Neural Network Library (oneDNN) to use the following CPU instructions in performance-critical operations:  AVX2 FMA\n",
      "To enable them in other operations, rebuild TensorFlow with the appropriate compiler flags.\n"
     ]
    }
   ],
   "source": [
    "import pennylane as qml\n",
    "import tensorflow as tf\n",
    "from pennylane import numpy as np\n",
    "import matplotlib.pyplot as plt"
   ]
  },
  {
   "cell_type": "code",
   "execution_count": 2,
   "metadata": {
    "id": "IEWib84pSvuC"
   },
   "outputs": [],
   "source": [
    "wires = range(5)\n",
    "n_layers = 1\n",
    "dev = qml.device('default.mixed', wires=len(wires))"
   ]
  },
  {
   "cell_type": "code",
   "execution_count": 3,
   "metadata": {
    "id": "2PWDzTGPSvuD",
    "scrolled": true
   },
   "outputs": [
    {
     "name": "stdout",
     "output_type": "stream",
     "text": [
      "(6, 2)\n",
      "(2,)\n",
      "(2418, 2)\n",
      "(605, 2)\n"
     ]
    },
    {
     "name": "stderr",
     "output_type": "stream",
     "text": [
      "/Applications/anaconda3/lib/python3.9/site-packages/autograd/numpy/numpy_wrapper.py:77: VisibleDeprecationWarning: Creating an ndarray from ragged nested sequences (which is a list-or-tuple of lists-or-tuples-or ndarrays with different lengths or shapes) is deprecated. If you meant to do this, you must specify 'dtype=object' when creating the ndarray.\n",
      "  return _np.array(args, *array_args, **array_kwargs)\n"
     ]
    },
    {
     "name": "stdout",
     "output_type": "stream",
     "text": [
      "2418\n",
      "(2,)\n",
      "(15,)\n",
      "[-0.32630116 -0.52672888  0.22980389  0.45905497  1.         -0.13749332\n",
      " -0.25141721 -0.33721648  0.16609539  0.35541316 -0.23296043 -0.34555093\n",
      "  0.49395614  0.52312879 -0.08387162]\n",
      "<class 'pennylane.numpy.tensor.tensor'>\n"
     ]
    }
   ],
   "source": [
    "dataset = np.load('/Users/neda/Dropbox/My Mac (Marzieh’s MacBook)/Downloads/dataset.npy', allow_pickle=True)\n",
    "\n",
    "dis_dataset = dataset[1]\n",
    "print(dataset.shape)\n",
    "print(dataset[1].shape)\n",
    "print(dataset[1][0].shape)\n",
    "print(dataset[1][1].shape)\n",
    "print(len(dataset[1][0]))\n",
    "print(dataset[1][0][0].shape)\n",
    "print(dataset[1][0][0][0].shape)\n",
    "print(dataset[1][0][0][0])\n",
    "print(type(dataset))"
   ]
  },
  {
   "cell_type": "code",
   "execution_count": 4,
   "metadata": {},
   "outputs": [
    {
     "name": "stderr",
     "output_type": "stream",
     "text": [
      "/Applications/anaconda3/lib/python3.9/site-packages/autograd/numpy/numpy_wrapper.py:77: VisibleDeprecationWarning: Creating an ndarray from ragged nested sequences (which is a list-or-tuple of lists-or-tuples-or ndarrays with different lengths or shapes) is deprecated. If you meant to do this, you must specify 'dtype=object' when creating the ndarray.\n",
      "  return _np.array(args, *array_args, **array_kwargs)\n"
     ]
    },
    {
     "name": "stdout",
     "output_type": "stream",
     "text": [
      "<class 'list'>\n",
      "<class 'pennylane.numpy.tensor.tensor'>\n"
     ]
    }
   ],
   "source": [
    "import torch\n",
    "transformed_dataset = [[[[tensor[:5] for tensor in inner] for inner in middle] for middle in outer] for outer in dataset]\n",
    "print(type(transformed_dataset))\n",
    "array_dataset = np.array(transformed_dataset)\n",
    "print(type(array_dataset))\n",
    "# Check the shape of the first tensor in the transformed dataset\n",
    "#print(transformed_dataset[0][0][0][0].shape)"
   ]
  },
  {
   "cell_type": "code",
   "execution_count": null,
   "metadata": {},
   "outputs": [],
   "source": [
    "#print(transformed_dataset[1][0][:50]) \n"
   ]
  },
  {
   "cell_type": "code",
   "execution_count": 5,
   "metadata": {
    "id": "09FKQFWoSvuF"
   },
   "outputs": [],
   "source": [
    "#blocks = 3\n",
    "p = 0.01\n",
    "@qml.qnode(dev, interface=\"tf\", diff_method=\"best\")\n",
    "def gen_circuit(b_seq, gen_weights):\n",
    "    # Embedding past time series onto circuit as conditional labels\n",
    "    qml.templates.AngleEmbedding(b_seq, wires, rotation='X')\n",
    "    # Adjusting parameters of generator ansatz\n",
    "    qml.templates.StronglyEntanglingLayers(gen_weights, wires=wires)\n",
    "    qml.DepolarizingChannel(p, wires=0)\n",
    "    qml.DepolarizingChannel(p, wires=1)\n",
    "    # Returning normalized percentage price predictions for next 4 days in dataset \n",
    "    return [qml.expval(qml.PauliZ(i)) for i in range(len(dis_dataset[0][1][1]))]"
   ]
  },
  {
   "cell_type": "code",
   "execution_count": 6,
   "metadata": {},
   "outputs": [
    {
     "data": {
      "text/plain": [
       "4"
      ]
     },
     "execution_count": 6,
     "metadata": {},
     "output_type": "execute_result"
    }
   ],
   "source": [
    "len(dis_dataset[0][1][1])"
   ]
  },
  {
   "cell_type": "code",
   "execution_count": 7,
   "metadata": {},
   "outputs": [
    {
     "name": "stdout",
     "output_type": "stream",
     "text": [
      "(1, 5, 3)\n"
     ]
    }
   ],
   "source": [
    "shape = qml.StronglyEntanglingLayers.shape(n_layers, n_wires=len(wires))\n",
    "print(shape)"
   ]
  },
  {
   "cell_type": "code",
   "execution_count": 8,
   "metadata": {
    "id": "dR7vaWY0SvuG"
   },
   "outputs": [
    {
     "name": "stderr",
     "output_type": "stream",
     "text": [
      "2023-05-28 09:32:35.011077: I tensorflow/core/platform/cpu_feature_guard.cc:193] This TensorFlow binary is optimized with oneAPI Deep Neural Network Library (oneDNN) to use the following CPU instructions in performance-critical operations:  AVX2 FMA\n",
      "To enable them in other operations, rebuild TensorFlow with the appropriate compiler flags.\n"
     ]
    }
   ],
   "source": [
    "init_gen_weights = tf.Variable(np.random.uniform(-np.pi, np.pi, shape))"
   ]
  },
  {
   "cell_type": "code",
   "execution_count": 9,
   "metadata": {
    "colab": {
     "base_uri": "https://localhost:8080/"
    },
    "id": "zlQ2KL1FTtxA",
    "outputId": "a8f38bf5-d7e9-4361-b8ca-0933aa79fbfc"
   },
   "outputs": [
    {
     "data": {
      "text/plain": [
       "<tf.Tensor: shape=(5, 3), dtype=float64, numpy=\n",
       "array([[-2.64888631, -0.33491316,  1.1768369 ],\n",
       "       [ 2.916831  ,  1.09470403,  1.22116918],\n",
       "       [-2.02110229,  1.9650393 ,  1.06619134],\n",
       "       [-0.98159868, -2.01505295, -0.92087857],\n",
       "       [-1.23885574,  1.62421531,  1.71267918]])>"
      ]
     },
     "execution_count": 9,
     "metadata": {},
     "output_type": "execute_result"
    }
   ],
   "source": [
    "init_gen_weights[0]"
   ]
  },
  {
   "cell_type": "code",
   "execution_count": 10,
   "metadata": {},
   "outputs": [
    {
     "name": "stdout",
     "output_type": "stream",
     "text": [
      "[ 0.06052519  0.30713055 -0.03775722  1.          0.07177394]\n",
      "[ 0.06052519  0.30713055 -0.03775722  1.          0.07177394  0.31660608\n",
      "  0.16565594 -0.05471963  0.13472587 -0.58454127  0.32745685  0.04524029\n",
      " -0.16046781 -0.29319074  0.01568178]\n"
     ]
    }
   ],
   "source": [
    "dis_dataset[0][1][0]\n",
    "#feature = tf.Variable(np.random.uniform(-np.pi, np.pi, len(wires)))\n",
    "feature = array_dataset[1][0][1][0]\n",
    "print(feature)\n",
    "print(dis_dataset[0][1][0])"
   ]
  },
  {
   "cell_type": "code",
   "execution_count": 11,
   "metadata": {
    "colab": {
     "base_uri": "https://localhost:8080/"
    },
    "id": "u4VxSH5jTr6e",
    "outputId": "f700e889-b0a0-4327-b298-82fe95dbca32"
   },
   "outputs": [
    {
     "name": "stderr",
     "output_type": "stream",
     "text": [
      "/Applications/anaconda3/lib/python3.9/site-packages/pennylane/math/utils.py:223: UserWarning: Contains tensors of types {'tensorflow', 'autograd'}; dispatch will prioritize TensorFlow, PyTorch, and  Jax over Autograd. Consider replacing Autograd with vanilla NumPy.\n",
      "  warnings.warn(\n"
     ]
    },
    {
     "data": {
      "text/plain": [
       "[<tf.Tensor: shape=(), dtype=float64, numpy=0.0019272109444113394>,\n",
       " <tf.Tensor: shape=(), dtype=float64, numpy=0.34714238003219333>,\n",
       " <tf.Tensor: shape=(), dtype=float64, numpy=-0.1460861119101759>,\n",
       " <tf.Tensor: shape=(), dtype=float64, numpy=0.12620290953364838>]"
      ]
     },
     "execution_count": 11,
     "metadata": {},
     "output_type": "execute_result"
    }
   ],
   "source": [
    "# Testing generator circuit QNode\n",
    "gen_circuit(feature, init_gen_weights)"
   ]
  },
  {
   "cell_type": "code",
   "execution_count": 12,
   "metadata": {
    "id": "R8XPDksNSvuJ"
   },
   "outputs": [],
   "source": [
    "def make_discrim():\n",
    "    model = tf.keras.models.Sequential()\n",
    "    model.add(tf.keras.layers.Conv1D(filters=16, kernel_size=1, input_shape=[1, 9]))\n",
    "    model.add(tf.keras.layers.LeakyReLU(alpha=0.2))\n",
    "    \n",
    "    model.add(tf.keras.layers.Conv1D(filters=16, kernel_size=1))\n",
    "    model.add(tf.keras.layers.LeakyReLU(alpha=0.2))\n",
    "    \n",
    "    model.add(tf.keras.layers.Dropout(.3))\n",
    "    model.add(tf.keras.layers.Dense(units=128, activation='relu'))\n",
    "    model.add(tf.keras.layers.Dense(units=1, activation='sigmoid'))\n",
    "    \n",
    "    return model"
   ]
  },
  {
   "cell_type": "code",
   "execution_count": 13,
   "metadata": {
    "colab": {
     "base_uri": "https://localhost:8080/"
    },
    "id": "a8n-2ExLSvuJ",
    "outputId": "d66ac79d-02ab-41ad-ea5b-1de1a88dbe45",
    "scrolled": true
   },
   "outputs": [
    {
     "name": "stdout",
     "output_type": "stream",
     "text": [
      "Model: \"sequential\"\n",
      "_________________________________________________________________\n",
      " Layer (type)                Output Shape              Param #   \n",
      "=================================================================\n",
      " conv1d (Conv1D)             (None, 1, 16)             160       \n",
      "                                                                 \n",
      " leaky_re_lu (LeakyReLU)     (None, 1, 16)             0         \n",
      "                                                                 \n",
      " conv1d_1 (Conv1D)           (None, 1, 16)             272       \n",
      "                                                                 \n",
      " leaky_re_lu_1 (LeakyReLU)   (None, 1, 16)             0         \n",
      "                                                                 \n",
      " dropout (Dropout)           (None, 1, 16)             0         \n",
      "                                                                 \n",
      " dense (Dense)               (None, 1, 128)            2176      \n",
      "                                                                 \n",
      " dense_1 (Dense)             (None, 1, 1)              129       \n",
      "                                                                 \n",
      "=================================================================\n",
      "Total params: 2,737\n",
      "Trainable params: 2,737\n",
      "Non-trainable params: 0\n",
      "_________________________________________________________________\n"
     ]
    }
   ],
   "source": [
    "discriminator = make_discrim()\n",
    "discriminator.summary()"
   ]
  },
  {
   "cell_type": "code",
   "execution_count": 14,
   "metadata": {
    "id": "nICWzgAOSvuK"
   },
   "outputs": [],
   "source": [
    "cross_entropy = tf.keras.losses.BinaryCrossentropy()\n",
    "\n",
    "def generator_loss(fake_output):\n",
    "    \"\"\"Calculating loss\"\"\"\n",
    "    return cross_entropy(np.ones_like(fake_output), fake_output)"
   ]
  },
  {
   "cell_type": "code",
   "execution_count": 15,
   "metadata": {
    "id": "PrCV9nAMSvuL"
   },
   "outputs": [],
   "source": [
    "def discriminator_loss(fake_output, real_output):    \n",
    "    \"\"\"Compute discriminator loss.\"\"\" \n",
    "    real_loss = cross_entropy(tf.ones_like(real_output), real_output)\n",
    "    fake_loss = cross_entropy(tf.zeros_like(fake_output), fake_output)\n",
    "    total_loss = real_loss + fake_loss\n",
    "    return total_loss"
   ]
  },
  {
   "cell_type": "code",
   "execution_count": 16,
   "metadata": {
    "id": "8Ov3igXwTr6o"
   },
   "outputs": [],
   "source": [
    "def accuracy(real_data, fake_data):\n",
    "    m = tf.keras.metrics.MeanAbsoluteError()\n",
    "    m.update_state(real_data, fake_data)\n",
    "    acc = 1 - m.result().numpy()\n",
    "    return acc"
   ]
  },
  {
   "cell_type": "code",
   "execution_count": 28,
   "metadata": {
    "colab": {
     "base_uri": "https://localhost:8080/"
    },
    "id": "yD2pNAF7SvuL",
    "outputId": "0829daa9-215f-43a4-9e9a-6967b52f34b2"
   },
   "outputs": [],
   "source": [
    "generator_optimizer = tf.keras.optimizers.legacy.Adam(learning_rate=0.0001)\n",
    "discriminator_optimizer = tf.keras.optimizers.Adam(learning_rate=0.0001)"
   ]
  },
  {
   "cell_type": "code",
   "execution_count": 29,
   "metadata": {
    "id": "tYUv2VaJSvuL"
   },
   "outputs": [],
   "source": [
    "def train_step(equity_data, gen_weights):\n",
    "    \"\"\"Run train step on provided image batch.\"\"\"\n",
    "    with tf.GradientTape() as disc_tape, tf.GradientTape() as gen_tape: \n",
    "        generated_prices = tf.concat([equity_data[0], gen_circuit(equity_data[0], gen_weights)], 0)\n",
    "        generated_prices = tf.reshape(generated_prices, (1,1,(len(equity_data[0]) + len(equity_data[1]))))\n",
    "\n",
    "        real_prices = tf.concat([equity_data[0], equity_data[1]], 0)\n",
    "        real_prices = tf.reshape(real_prices, (1,1,(len(equity_data[0]) + len(equity_data[1]))))\n",
    "        \n",
    "        \"\"\"Getting outputs from discrim\"\"\"\n",
    "        real_output = discriminator(real_prices)\n",
    "        fake_output = discriminator(generated_prices)\n",
    "        \n",
    "        \"\"\"Calculating loss\"\"\"\n",
    "        gen_loss = generator_loss(fake_output)\n",
    "        disc_loss = discriminator_loss(fake_output, real_output)\n",
    "    \n",
    "    gradients_of_generator = gen_tape.gradient(gen_loss, gen_weights)\n",
    "    gradients_of_discriminator = disc_tape.gradient(disc_loss, discriminator.trainable_variables)\n",
    "\n",
    "    generator_optimizer.apply_gradients(\n",
    "        zip([gradients_of_generator], [gen_weights]))\n",
    "    discriminator_optimizer.apply_gradients(\n",
    "        zip(gradients_of_discriminator, discriminator.trainable_variables))\n",
    "    \n",
    "    \"\"\"Accuracy\"\"\"\n",
    "    acc = accuracy(equity_data[1], gen_circuit(equity_data[0], gen_weights))\n",
    "    \n",
    "    return gen_loss, disc_loss, gen_weights, acc"
   ]
  },
  {
   "cell_type": "code",
   "execution_count": 30,
   "metadata": {
    "id": "Wul7KDWPTr6s"
   },
   "outputs": [],
   "source": [
    "gloss = []\n",
    "dloss = []\n",
    "acc_results = []\n",
    "epoch_acc_results = []\n"
   ]
  },
  {
   "cell_type": "code",
   "execution_count": null,
   "metadata": {
    "id": "UZyhmx6jur3I"
   },
   "outputs": [],
   "source": []
  },
  {
   "cell_type": "code",
   "execution_count": 31,
   "metadata": {
    "id": "fp7cBqT2SvuM"
   },
   "outputs": [],
   "source": [
    "EPOCHS = 10\n",
    "batch_size = 1\n",
    "\n",
    "def train(dataset, epochs, start_epoch=1, new_gen_w=None):    \n",
    "    for epoch in range(start_epoch, start_epoch + epochs):\n",
    "        if epoch == 1:\n",
    "            new_gen_w = tf.Variable(np.ones_like(init_gen_weights.numpy()), dtype=\"float64\")\n",
    "            new_gen_w.assign(init_gen_weights)\n",
    "        \n",
    "        for i, sample in enumerate(dataset[0:batch_size]):\n",
    "            sample_b = sample[0]\n",
    "            sample_f = sample[1]\n",
    "            gl, dl, w, acc = train_step(dataset[i], new_gen_w)\n",
    "            \n",
    "            new_gen_w.assign(w)\n",
    "            acc_results.append(acc)\n",
    "            gloss.append(gl)\n",
    "            dloss.append(dl)\n",
    "        \n",
    "            if epoch % 10 == 0:\n",
    "                print(f\"Step {i} in {epoch} epoch: Gen loss: {gl} \\n         Disc loss: {dl} \\n             Accuracy: {acc}\")\n",
    "        \n",
    "        epoch_acc = 0\n",
    "        for i, sample in enumerate(dataset[0:batch_size]):\n",
    "            epoch_acc += accuracy(sample[1], gen_circuit(sample[0], new_gen_w))\n",
    "        epoch_acc = epoch_acc / len(dataset[0:batch_size])\n",
    "        epoch_acc_results.append(epoch_acc)\n",
    "\n",
    "    return new_gen_w\n",
    "    "
   ]
  },
  {
   "cell_type": "code",
   "execution_count": 32,
   "metadata": {
    "scrolled": false
   },
   "outputs": [
    {
     "name": "stdout",
     "output_type": "stream",
     "text": [
      "[[tensor([-0.32630116, -0.52672888,  0.22980389,  0.45905497,  1.        ], requires_grad=True)\n",
      "  tensor([-0.08387162, -0.629808  ,  0.04090421, -0.04757502], requires_grad=True)]]\n",
      "------------------------------------\n",
      "[[tensor([-0.32630116, -0.52672888,  0.22980389,  0.45905497,  1.        ,\n",
      "          -0.13749332, -0.25141721, -0.33721648,  0.16609539,  0.35541316,\n",
      "          -0.23296043, -0.34555093,  0.49395614,  0.52312879, -0.08387162], requires_grad=True)\n",
      "  tensor([-0.08387162, -0.629808  ,  0.04090421, -0.04757502], requires_grad=True)]]\n"
     ]
    }
   ],
   "source": [
    "#print(dis_dataset[0].shape)\n",
    "dis_transformed_dataset = array_dataset[1]\n",
    "print(dis_transformed_dataset[0][:1])\n",
    "print('------------------------------------')\n",
    "print(dis_dataset[0][:1])"
   ]
  },
  {
   "cell_type": "code",
   "execution_count": 33,
   "metadata": {
    "colab": {
     "base_uri": "https://localhost:8080/"
    },
    "id": "L8EiB3fUTr6t",
    "jupyter": {
     "outputs_hidden": true
    },
    "outputId": "233c683e-08d7-4c41-febb-b04a881ea8b9",
    "scrolled": false
   },
   "outputs": [
    {
     "name": "stdout",
     "output_type": "stream",
     "text": [
      "Step 0 in 10 epoch: Gen loss: 0.6998463869094849 \n",
      "         Disc loss: 1.3665332794189453 \n",
      "             Accuracy: 0.6351791322231293\n"
     ]
    }
   ],
   "source": [
    "new_gen_w = train(dis_transformed_dataset[0], EPOCHS, start_epoch=1) "
   ]
  },
  {
   "cell_type": "code",
   "execution_count": 34,
   "metadata": {
    "colab": {
     "base_uri": "https://localhost:8080/",
     "height": 295
    },
    "id": "eM2WQTNFTr6t",
    "outputId": "2e1d1c27-68a2-42fd-a82f-51feb8c3e212"
   },
   "outputs": [
    {
     "data": {
      "image/png": "[encoded data removed]",
      "text/plain": [
       "<Figure size 640x480 with 1 Axes>"
      ]
     },
     "metadata": {},
     "output_type": "display_data"
    }
   ],
   "source": [
    "plt.plot(range(len(epoch_acc_results)), epoch_acc_results)\n",
    "plt.title(\"Training Accuracy\")\n",
    "plt.xlabel(\"Epoch\")\n",
    "plt.show()"
   ]
  },
  {
   "cell_type": "code",
   "execution_count": 24,
   "metadata": {
    "colab": {
     "base_uri": "https://localhost:8080/",
     "height": 350
    },
    "id": "V101-kPeTr6u",
    "outputId": "96c581b0-c764-4dd1-bfd9-21af1b2d5271"
   },
   "outputs": [
    {
     "data": {
      "image/png": "[encoded data removed]",
      "text/plain": [
       "<Figure size 1000x500 with 1 Axes>"
      ]
     },
     "metadata": {},
     "output_type": "display_data"
    }
   ],
   "source": [
    "plt.figure(figsize=(10, 5))\n",
    "plt.plot(range(len(acc_results)), acc_results)\n",
    "plt.title(\"Batch wise accuracy\")\n",
    "plt.xlabel(f\"Batch number (take % {batch_size})\")\n",
    "plt.show()"
   ]
  },
  {
   "cell_type": "code",
   "execution_count": null,
   "metadata": {
    "colab": {
     "base_uri": "https://localhost:8080/",
     "height": 350
    },
    "id": "mybkmR5RTr6v",
    "outputId": "5f6d32e5-4e18-4cb4-8210-c03f693397a7"
   },
   "outputs": [],
   "source": [
    "plt.figure(figsize=(10, 5))\n",
    "plt.plot(range(len(gloss)), gloss, label=\"Generator loss\")\n",
    "plt.plot(range(len(dloss)), dloss, label=\"Discriminator loss\")\n",
    "plt.title(\"Loss\")\n",
    "plt.xlabel(\"Epoch\")\n",
    "plt.legend()\n",
    "plt.show()"
   ]
  },
  {
   "cell_type": "code",
   "execution_count": null,
   "metadata": {
    "id": "RiPFKZqZrg0h"
   },
   "outputs": [],
   "source": []
  },
  {
   "cell_type": "code",
   "execution_count": null,
   "metadata": {
    "id": "N2K_W7hA2PCb"
   },
   "outputs": [],
   "source": []
  },
  {
   "cell_type": "code",
   "execution_count": null,
   "metadata": {
    "id": "caHopHWzyAPj"
   },
   "outputs": [],
   "source": []
  },
  {
   "cell_type": "markdown",
   "metadata": {
    "id": "erU1wShjTr60"
   },
   "source": [
    "![](./images/qgan_ex_1.png)\n",
    "![](./images/qgan_ex_2.png)\n",
    "![](./images/qgan_ex_3.png)\n",
    "![](./images/qgan_ex_4.png)\n",
    "![](./images/qgan_ex_5.png)"
   ]
  },
  {
   "cell_type": "markdown",
   "metadata": {
    "id": "NpUWg2qeTr61"
   },
   "source": [
    "<hr>"
   ]
  }
 ],
 "metadata": {
  "colab": {
   "provenance": []
  },
  "instance_type": "ml.m5.4xlarge",
  "kernelspec": {
   "display_name": "Python 3 (ipykernel)",
   "language": "python",
   "name": "python3"
  },
  "language_info": {
   "codemirror_mode": {
    "name": "ipython",
    "version": 3
   },
   "file_extension": ".py",
   "mimetype": "text/x-python",
   "name": "python",
   "nbconvert_exporter": "python",
   "pygments_lexer": "ipython3",
   "version": "3.9.13"
  }
 },
 "nbformat": 4,
 "nbformat_minor": 1
}
