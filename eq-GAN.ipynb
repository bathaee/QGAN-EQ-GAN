{
 "cells": [
  {
   "cell_type": "code",
   "execution_count": 1,
   "id": "b016c7f6",
   "metadata": {},
   "outputs": [
    {
     "name": "stderr",
     "output_type": "stream",
     "text": [
      "2023-06-01 00:44:51.031767: I tensorflow/core/platform/cpu_feature_guard.cc:193] This TensorFlow binary is optimized with oneAPI Deep Neural Network Library (oneDNN) to use the following CPU instructions in performance-critical operations:  AVX2 FMA\n",
      "To enable them in other operations, rebuild TensorFlow with the appropriate compiler flags.\n"
     ]
    }
   ],
   "source": [
    "import pennylane as qml\n",
    "from pennylane import numpy as np\n",
    "import tensorflow as tf"
   ]
  },
  {
   "cell_type": "code",
   "execution_count": 2,
   "id": "43818268",
   "metadata": {},
   "outputs": [],
   "source": [
    "dev = qml.device('default.mixed', wires=3)"
   ]
  },
  {
   "cell_type": "code",
   "execution_count": 3,
   "id": "d53a7bd2",
   "metadata": {},
   "outputs": [],
   "source": [
    "def real():\n",
    "    qml.Rot( 0.0,np.pi/2, np.pi/6,wires=0)"
   ]
  },
  {
   "cell_type": "code",
   "execution_count": 4,
   "id": "e7aecbde",
   "metadata": {},
   "outputs": [
    {
     "name": "stdout",
     "output_type": "stream",
     "text": [
      "0: ──Rot(0.00,1.57,0.52)─┤  \n"
     ]
    }
   ],
   "source": [
    "print(qml.draw(real)())"
   ]
  },
  {
   "cell_type": "code",
   "execution_count": 5,
   "id": "3e64a7ee",
   "metadata": {},
   "outputs": [],
   "source": [
    "def generator(w,**kwargs):\n",
    "    qml.RX(w[0], wires=1)\n",
    "    qml.RX(w[1], wires=2)\n",
    "    qml.RY(w[2], wires=1)\n",
    "    qml.RY(w[3], wires=2)\n",
    "    qml.RZ(w[4], wires=1)\n",
    "    qml.RZ(w[5], wires=2)\n",
    "    qml.CNOT(wires=[1,2])\n",
    "    qml.RX(w[6], wires=1)\n",
    "    qml.RY(w[7], wires=1)\n",
    "    qml.RZ(w[8], wires=1)\n",
    "    qml.Rot(0.0, np.pi/2, -np.pi/6,wires=1)"
   ]
  },
  {
   "cell_type": "code",
   "execution_count": 6,
   "id": "2b531645",
   "metadata": {},
   "outputs": [
    {
     "name": "stdout",
     "output_type": "stream",
     "text": [
      "1: ──RX(0.00)──RY(0.00)──RZ(0.00)─╭●──RX(0.00)──RY(0.00)──RZ(0.00)──Rot(0.00,1.57,-0.52)─┤  \n",
      "2: ──RX(0.00)──RY(0.00)──RZ(0.00)─╰X─────────────────────────────────────────────────────┤  \n"
     ]
    }
   ],
   "source": [
    "print(qml.draw(generator)([ 0,0,0,0,0,0,0,0,0]))"
   ]
  },
  {
   "cell_type": "code",
   "execution_count": 7,
   "id": "22fd8b44",
   "metadata": {},
   "outputs": [],
   "source": [
    "def discriminator(w):\n",
    "    qml.Hadamard(wires=0)\n",
    "    qml.CZ(wires=[1, 0])\n",
    "    qml.RZ(w[0], wires=0)\n",
    "    qml.RZ(w[1], wires=1)\n",
    "    qml.Hadamard(wires=0)\n",
    "    qml.Hadamard(wires=1)"
   ]
  },
  {
   "cell_type": "code",
   "execution_count": 8,
   "id": "f456fcb9",
   "metadata": {},
   "outputs": [
    {
     "name": "stdout",
     "output_type": "stream",
     "text": [
      "0: ──H─╭Z──RZ(0.00)──H─┤  \n",
      "1: ────╰●──RZ(1.00)──H─┤  \n"
     ]
    }
   ],
   "source": [
    "print(qml.draw(discriminator)([ 0,1]))"
   ]
  },
  {
   "cell_type": "code",
   "execution_count": 9,
   "id": "6848033f",
   "metadata": {},
   "outputs": [],
   "source": [
    "@qml.qnode(dev, interface='tf')\n",
    "def real_gen_disc_circuit(gen_weights, disc_weights):\n",
    "    real()\n",
    "    generator(gen_weights)\n",
    "    discriminator(disc_weights)\n",
    "    return qml.expval((qml.PauliZ(0)+qml.Identity(0))@ (qml.PauliZ(1)+qml.Identity(1)))\n",
    "#qml.expval(qml.PauliZ(0) @ qml.PauliX(2))\n"
   ]
  },
  {
   "cell_type": "code",
   "execution_count": 10,
   "id": "e3a9a809",
   "metadata": {},
   "outputs": [
    {
     "name": "stdout",
     "output_type": "stream",
     "text": [
      "0: ──Rot(0.00,1.57,0.52)──H────────────────────────────────────────────────────────────────────────\n",
      "1: ──RX(0.00)─────────────RY(0.00)──RZ(0.00)─╭●──RX(0.00)──RY(0.00)──RZ(0.00)──Rot(0.00,1.57,-0.52)\n",
      "2: ──RX(0.00)─────────────RY(0.00)──RZ(0.00)─╰X────────────────────────────────────────────────────\n",
      "\n",
      "──╭Z──RZ(0.00)──H─┤ ╭<𝓗>\n",
      "──╰●──RZ(1.00)──H─┤ ╰<𝓗>\n",
      "──────────────────┤     \n"
     ]
    }
   ],
   "source": [
    "print(qml.draw(real_gen_disc_circuit)([ 0,0,0,0,0,0,0,0,0],[ 0,1]))"
   ]
  },
  {
   "cell_type": "code",
   "execution_count": 11,
   "id": "ca780bc0",
   "metadata": {},
   "outputs": [],
   "source": [
    "def prob_discriminated(gen_weights,disc_weights):\n",
    "    discriminated_output = real_gen_disc_circuit(gen_weights, disc_weights)\n",
    "    #convert to probability\n",
    "    prob_discriminated_output = (discriminated_output)/2\n",
    "    return prob_discriminated_output"
   ]
  },
  {
   "cell_type": "code",
   "execution_count": 12,
   "id": "3126385e",
   "metadata": {},
   "outputs": [],
   "source": [
    "def disc_cost(disc_weights):\n",
    "    cost = 1-prob_discriminated(gen_weights,disc_weights)\n",
    "    return cost\n",
    "def gen_cost(gen_weights):\n",
    "    cost = prob_discriminated(gen_weights,disc_weights)\n",
    "    return cost"
   ]
  },
  {
   "cell_type": "code",
   "execution_count": 13,
   "id": "dca7409a",
   "metadata": {},
   "outputs": [
    {
     "name": "stderr",
     "output_type": "stream",
     "text": [
      "2023-06-01 00:44:59.854400: I tensorflow/core/platform/cpu_feature_guard.cc:193] This TensorFlow binary is optimized with oneAPI Deep Neural Network Library (oneDNN) to use the following CPU instructions in performance-critical operations:  AVX2 FMA\n",
      "To enable them in other operations, rebuild TensorFlow with the appropriate compiler flags.\n"
     ]
    }
   ],
   "source": [
    "np.random.seed(0)\n",
    "eps = 1e-2\n",
    "#init_gen_weights = np.array([np.pi] + [0] * 8) + \\\n",
    "                   #np.random.normal(scale=eps, size=(9,))\n",
    "    \n",
    "init_gen_weights = np.array([0]*9)\n",
    "init_disc_weights = np.random.normal(size=(9,))\n",
    "gen_weights = tf.Variable(init_gen_weights,dtype=tf.float64)\n",
    "disc_weights = tf.Variable(init_disc_weights,dtype=tf.float64)"
   ]
  },
  {
   "cell_type": "code",
   "execution_count": 14,
   "id": "e97a52bc",
   "metadata": {},
   "outputs": [
    {
     "data": {
      "text/plain": [
       "<tf.Tensor: shape=(), dtype=float64, numpy=0.9238059425981906>"
      ]
     },
     "execution_count": 14,
     "metadata": {},
     "output_type": "execute_result"
    }
   ],
   "source": [
    "real_gen_disc_circuit(gen_weights, disc_weights)\n",
    "prob_discriminated(gen_weights,disc_weights)"
   ]
  },
  {
   "cell_type": "code",
   "execution_count": 15,
   "id": "65298d21",
   "metadata": {},
   "outputs": [
    {
     "name": "stdout",
     "output_type": "stream",
     "text": [
      "Step 0: cost = 0.0722169611690362\n",
      "Step 5: cost = 0.0660113354825893\n",
      "Step 10: cost = 0.0647025638697456\n",
      "Step 15: cost = 0.0634115364067076\n",
      "Step 20: cost = 0.06153952616697378\n",
      "Step 25: cost = 0.058809578774053906\n",
      "Step 30: cost = 0.05495547462442496\n",
      "Step 35: cost = 0.049771374086292175\n",
      "Step 40: cost = 0.04324360374679237\n",
      "Step 45: cost = 0.03569093236947585\n",
      "Step 0: cost = 0.9581812980133078\n",
      "Step 5: cost = 0.7821139638615364\n",
      "Step 10: cost = 0.33988306345838815\n",
      "Step 15: cost = 0.05918268664644799\n",
      "Step 20: cost = 0.006931248665881462\n",
      "Step 25: cost = 0.0007568220809839321\n",
      "Step 30: cost = 8.184332067828759e-05\n",
      "Step 35: cost = 8.837027237806883e-06\n",
      "Step 40: cost = 9.538751519211353e-07\n",
      "Step 45: cost = 1.0295382146807697e-07\n",
      "Step 0: cost = 0.9999999816859291\n",
      "Step 5: cost = 0.9999999759596118\n",
      "Step 10: cost = 0.9999999684402108\n",
      "Step 15: cost = 0.9999999585602315\n",
      "Step 20: cost = 0.9999999455451649\n",
      "Step 25: cost = 0.9999999281991492\n",
      "Step 30: cost = 0.9999999038496243\n",
      "Step 35: cost = 0.9999998621734439\n",
      "Step 40: cost = 0.9999997474612605\n",
      "Step 45: cost = 0.999999225725863\n",
      "Step 0: cost = 1.6281851286104043e-06\n",
      "Step 5: cost = 1.3577411367426961e-07\n",
      "Step 10: cost = 1.1438156199972127e-08\n",
      "Step 15: cost = 9.756178087627632e-10\n",
      "Step 20: cost = 8.445444343863073e-11\n",
      "Step 25: cost = 7.437050975056536e-12\n",
      "Step 30: cost = 6.676881270095691e-13\n",
      "Step 35: cost = 6.128431095930864e-14\n",
      "Step 40: cost = 5.773159728050814e-15\n",
      "Step 45: cost = 6.661338147750939e-16\n",
      "Step 0: cost = 0.9999999999999998\n",
      "Step 5: cost = 0.9999999999999996\n",
      "Step 10: cost = 0.9999999999999982\n",
      "Step 15: cost = 0.9999999999999905\n",
      "Step 20: cost = 0.9999999999999414\n",
      "Step 25: cost = 0.9999999999996376\n",
      "Step 30: cost = 0.9999999999977585\n",
      "Step 35: cost = 0.9999999999861222\n",
      "Step 40: cost = 0.9999999999140752\n",
      "Step 45: cost = 0.9999999994679795\n",
      "Step 0: cost = 1.382186864962165e-09\n",
      "Step 5: cost = 1.1130396604386306e-10\n",
      "Step 10: cost = 8.963274567008739e-12\n",
      "Step 15: cost = 7.220335440649706e-13\n",
      "Step 20: cost = 5.839773109528323e-14\n",
      "Step 25: cost = 4.718447854656915e-15\n",
      "Step 30: cost = 5.551115123125783e-16\n",
      "Step 35: cost = 0.0\n",
      "Step 40: cost = 5.551115123125783e-17\n",
      "Step 45: cost = 1.1102230246251565e-16\n",
      "Step 0: cost = 1.0\n",
      "Step 5: cost = 1.0\n",
      "Step 10: cost = 1.0\n",
      "Step 15: cost = 1.0\n",
      "Step 20: cost = 1.0\n",
      "Step 25: cost = 1.0\n",
      "Step 30: cost = 0.9999999999999998\n",
      "Step 35: cost = 0.9999999999999994\n",
      "Step 40: cost = 0.9999999999999964\n",
      "Step 45: cost = 0.9999999999999779\n",
      "Step 0: cost = 5.728750807065808e-14\n",
      "Step 5: cost = 4.496403249731884e-15\n",
      "Step 10: cost = 6.106226635438361e-16\n",
      "Step 15: cost = 0.0\n",
      "Step 20: cost = -1.1102230246251565e-16\n",
      "Step 25: cost = -1.1102230246251565e-16\n",
      "Step 30: cost = 1.1102230246251565e-16\n",
      "Step 35: cost = 0.0\n",
      "Step 40: cost = 1.6653345369377348e-16\n",
      "Step 45: cost = 0.0\n",
      "Step 0: cost = 1.0\n",
      "Step 5: cost = 1.0\n",
      "Step 10: cost = 1.0\n",
      "Step 15: cost = 1.0\n",
      "Step 20: cost = 1.0\n",
      "Step 25: cost = 1.0\n",
      "Step 30: cost = 1.0\n",
      "Step 35: cost = 1.0\n",
      "Step 40: cost = 1.0\n",
      "Step 45: cost = 1.0\n",
      "Step 0: cost = 1.1102230246251565e-16\n",
      "Step 5: cost = 0.0\n",
      "Step 10: cost = 0.0\n",
      "Step 15: cost = 0.0\n",
      "Step 20: cost = 0.0\n",
      "Step 25: cost = 0.0\n",
      "Step 30: cost = 0.0\n",
      "Step 35: cost = 0.0\n",
      "Step 40: cost = 0.0\n",
      "Step 45: cost = -5.551115123125783e-17\n",
      "Step 0: cost = 1.0\n",
      "Step 5: cost = 1.0\n",
      "Step 10: cost = 1.0\n",
      "Step 15: cost = 1.0\n",
      "Step 20: cost = 1.0\n",
      "Step 25: cost = 1.0\n",
      "Step 30: cost = 1.0\n",
      "Step 35: cost = 1.0\n",
      "Step 40: cost = 1.0\n",
      "Step 45: cost = 1.0\n",
      "Step 0: cost = -5.551115123125783e-17\n",
      "Step 5: cost = 0.0\n",
      "Step 10: cost = 0.0\n",
      "Step 15: cost = 0.0\n",
      "Step 20: cost = 1.6653345369377348e-16\n",
      "Step 25: cost = 2.7755575615628914e-16\n",
      "Step 30: cost = 0.0\n",
      "Step 35: cost = 1.6653345369377348e-16\n",
      "Step 40: cost = 0.0\n",
      "Step 45: cost = 2.220446049250313e-16\n",
      "Step 0: cost = 1.0\n",
      "Step 5: cost = 0.9999999999999999\n",
      "Step 10: cost = 1.0\n",
      "Step 15: cost = 1.0\n",
      "Step 20: cost = 1.0\n",
      "Step 25: cost = 0.9999999999999999\n",
      "Step 30: cost = 1.0\n",
      "Step 35: cost = 1.0\n",
      "Step 40: cost = 1.0\n",
      "Step 45: cost = 1.0\n",
      "Step 0: cost = 0.0\n",
      "Step 5: cost = 0.0\n",
      "Step 10: cost = 1.1102230246251565e-16\n",
      "Step 15: cost = 2.220446049250313e-16\n",
      "Step 20: cost = 5.551115123125783e-17\n",
      "Step 25: cost = 1.6653345369377348e-16\n",
      "Step 30: cost = 0.0\n",
      "Step 35: cost = -5.551115123125783e-17\n",
      "Step 40: cost = -1.1102230246251565e-16\n",
      "Step 45: cost = 1.1102230246251565e-16\n",
      "Step 0: cost = 1.0\n",
      "Step 5: cost = 1.0\n",
      "Step 10: cost = 1.0\n",
      "Step 15: cost = 1.0\n",
      "Step 20: cost = 1.0\n",
      "Step 25: cost = 1.0\n",
      "Step 30: cost = 1.0\n",
      "Step 35: cost = 1.0\n",
      "Step 40: cost = 1.0\n",
      "Step 45: cost = 0.9999999999999999\n",
      "Step 0: cost = -1.1102230246251565e-16\n",
      "Step 5: cost = 1.6653345369377348e-16\n",
      "Step 10: cost = 1.1102230246251565e-16\n",
      "Step 15: cost = 1.1102230246251565e-16\n",
      "Step 20: cost = 0.0\n",
      "Step 25: cost = 1.6653345369377348e-16\n",
      "Step 30: cost = -5.551115123125783e-17\n",
      "Step 35: cost = 1.1102230246251565e-16\n",
      "Step 40: cost = 0.0\n",
      "Step 45: cost = 0.0\n",
      "Step 0: cost = 1.0\n",
      "Step 5: cost = 1.0\n",
      "Step 10: cost = 1.0\n",
      "Step 15: cost = 1.0\n",
      "Step 20: cost = 1.0\n",
      "Step 25: cost = 0.9999999999999998\n",
      "Step 30: cost = 1.0\n",
      "Step 35: cost = 0.9999999999999998\n",
      "Step 40: cost = 0.9999999999999998\n",
      "Step 45: cost = 1.0\n",
      "Step 0: cost = 0.0\n",
      "Step 5: cost = 0.0\n",
      "Step 10: cost = -1.1102230246251565e-16\n",
      "Step 15: cost = -5.551115123125783e-17\n",
      "Step 20: cost = -1.1102230246251565e-16\n",
      "Step 25: cost = 0.0\n",
      "Step 30: cost = 1.1102230246251565e-16\n",
      "Step 35: cost = -5.551115123125783e-17\n",
      "Step 40: cost = 0.0\n",
      "Step 45: cost = 0.0\n",
      "Step 0: cost = 1.0\n",
      "Step 5: cost = 0.9999999999999998\n",
      "Step 10: cost = 1.0\n",
      "Step 15: cost = 1.0\n",
      "Step 20: cost = 1.0\n",
      "Step 25: cost = 1.0\n",
      "Step 30: cost = 1.0\n",
      "Step 35: cost = 0.9999999999999998\n",
      "Step 40: cost = 1.0\n",
      "Step 45: cost = 1.0\n",
      "Step 0: cost = 0.0\n",
      "Step 5: cost = 1.6653345369377348e-16\n",
      "Step 10: cost = 2.220446049250313e-16\n",
      "Step 15: cost = 1.6653345369377348e-16\n",
      "Step 20: cost = 0.0\n",
      "Step 25: cost = 1.1102230246251565e-16\n",
      "Step 30: cost = 1.6653345369377348e-16\n",
      "Step 35: cost = 2.220446049250313e-16\n",
      "Step 40: cost = 1.1102230246251565e-16\n",
      "Step 45: cost = 1.1102230246251565e-16\n"
     ]
    },
    {
     "data": {
      "image/png": "[encoded data removed]",
      "text/plain": [
       "<Figure size 1000x500 with 1 Axes>"
      ]
     },
     "metadata": {},
     "output_type": "display_data"
    }
   ],
   "source": [
    "loss_val_d = []\n",
    "loss_val_g = []\n",
    "step_d = []\n",
    "step_g = []\n",
    "p = 0.1\n",
    "epochs = 10\n",
    "for i in range(epochs):\n",
    "    opt = tf.keras.optimizers.experimental.SGD(learning_rate=0.4)\n",
    "    var = disc_weights\n",
    "    loss = lambda: disc_cost(disc_weights)         # d(loss)/d(var1) = var1\n",
    "    for step in range(50):\n",
    "        opt.minimize(loss, [var])\n",
    "        if step % 5 == 0:\n",
    "            loss_val = loss().numpy()\n",
    "            loss_val_d.append(loss_val)\n",
    "            step_d.append(step)\n",
    "            print(\"Step {}: cost = {}\".format(step, loss_val))\n",
    "            \n",
    "    opt = tf.keras.optimizers.legacy.SGD(learning_rate=0.4)\n",
    "    var_g = gen_weights\n",
    "    loss = lambda: gen_cost(gen_weights)         # d(loss)/d(var1) = var1\n",
    "    for step in range(50):\n",
    "        opt.minimize(loss, [var_g])\n",
    "        if step % 5 == 0:\n",
    "            loss_val = loss().numpy()\n",
    "            loss_val_g.append(loss_val)\n",
    "            step_g.append(step)\n",
    "            print(\"Step {}: cost = {}\".format(step, loss_val))\n",
    "    \n",
    "loss_d = [ 1-x for x in loss_val_d]\n",
    "import matplotlib.pyplot as plt\n",
    "plt.figure(figsize=(10, 5))\n",
    "plt.plot(range(len(step_g)), loss_val_g, label=\"Generator loss-min\")\n",
    "plt.plot(range(len(step_d)), loss_d, label=\"Discriminator loss-max\")\n",
    "plt.title(\"Loss\")\n",
    "plt.xlabel(\"Epoch\")\n",
    "plt.legend()\n",
    "plt.show()"
   ]
  },
  {
   "cell_type": "code",
   "execution_count": 16,
   "id": "538ffcb8",
   "metadata": {},
   "outputs": [
    {
     "data": {
      "image/png": "[encoded data removed]",
      "text/plain": [
       "<Figure size 1000x500 with 1 Axes>"
      ]
     },
     "metadata": {},
     "output_type": "display_data"
    }
   ],
   "source": [
    "import matplotlib.pyplot as plt\n",
    "plt.figure(figsize=(10, 5))\n",
    "plt.plot(range(len(step_g)), loss_val_g, label=\"Generator loss-min\")\n",
    "plt.plot(range(len(step_d)), loss_val_d, label=\"Discriminator loss-min\")\n",
    "plt.title(\"Loss\")\n",
    "plt.xlabel(\"Epoch\")\n",
    "plt.legend()\n",
    "plt.show()"
   ]
  },
  {
   "cell_type": "code",
   "execution_count": null,
   "id": "a479c8a6",
   "metadata": {},
   "outputs": [],
   "source": []
  }
 ],
 "metadata": {
  "kernelspec": {
   "display_name": "Python 3 (ipykernel)",
   "language": "python",
   "name": "python3"
  },
  "language_info": {
   "codemirror_mode": {
    "name": "ipython",
    "version": 3
   },
   "file_extension": ".py",
   "mimetype": "text/x-python",
   "name": "python",
   "nbconvert_exporter": "python",
   "pygments_lexer": "ipython3",
   "version": "3.9.13"
  }
 },
 "nbformat": 4,
 "nbformat_minor": 5
}
