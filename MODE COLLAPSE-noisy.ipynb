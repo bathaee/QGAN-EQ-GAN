{
 "cells": [
  {
   "cell_type": "code",
   "execution_count": 1,
   "id": "7e1aee74",
   "metadata": {},
   "outputs": [
    {
     "name": "stderr",
     "output_type": "stream",
     "text": [
      "2023-05-31 10:45:27.643350: I tensorflow/core/platform/cpu_feature_guard.cc:193] This TensorFlow binary is optimized with oneAPI Deep Neural Network Library (oneDNN) to use the following CPU instructions in performance-critical operations:  AVX2 FMA\n",
      "To enable them in other operations, rebuild TensorFlow with the appropriate compiler flags.\n"
     ]
    }
   ],
   "source": [
    "import pennylane as qml\n",
    "from pennylane import numpy as np\n",
    "import tensorflow as tf"
   ]
  },
  {
   "cell_type": "code",
   "execution_count": 2,
   "id": "89e3fa67",
   "metadata": {},
   "outputs": [
    {
     "name": "stdout",
     "output_type": "stream",
     "text": [
      "2.11.0\n"
     ]
    }
   ],
   "source": [
    "print(tf. __version__)"
   ]
  },
  {
   "cell_type": "code",
   "execution_count": 3,
   "id": "ca1534ab",
   "metadata": {},
   "outputs": [],
   "source": [
    "dev = qml.device('default.mixed', wires=3)"
   ]
  },
  {
   "cell_type": "code",
   "execution_count": 4,
   "id": "ad2cea12",
   "metadata": {},
   "outputs": [],
   "source": [
    "def real():\n",
    "    qml.Rot( 0.0,np.pi/2, np.pi/6,wires=0)"
   ]
  },
  {
   "cell_type": "code",
   "execution_count": 5,
   "id": "3652708c",
   "metadata": {},
   "outputs": [
    {
     "name": "stdout",
     "output_type": "stream",
     "text": [
      "0: ──Rot(0.00,1.57,0.52)─┤  \n"
     ]
    }
   ],
   "source": [
    "print(qml.draw(real)())"
   ]
  },
  {
   "cell_type": "code",
   "execution_count": 6,
   "id": "56411d3f",
   "metadata": {},
   "outputs": [],
   "source": [
    "def generator(w,**kwargs):\n",
    "    qml.RX(w[0], wires=0)\n",
    "    qml.RX(w[1], wires=1)\n",
    "    qml.RY(w[2], wires=0)\n",
    "    qml.RY(w[3], wires=1)\n",
    "    qml.RZ(w[4], wires=0)\n",
    "    qml.RZ(w[5], wires=1)\n",
    "    qml.CNOT(wires=[0,1])\n",
    "    qml.RX(w[6], wires=0)\n",
    "    qml.RY(w[7], wires=0)\n",
    "    qml.RZ(w[8], wires=0)\n",
    "    qml.Rot(0.0, np.pi/2, -np.pi/6,wires=0)\n",
    "    qml.BitFlip(p, wires=0)\n",
    "    qml.BitFlip(p, wires=1)"
   ]
  },
  {
   "cell_type": "code",
   "execution_count": 7,
   "id": "3e917834",
   "metadata": {},
   "outputs": [
    {
     "name": "stdout",
     "output_type": "stream",
     "text": [
      "0: ──RX(0.00)──RY(0.00)──RZ(0.00)─╭●──RX(0.00)───────RY(0.00)──RZ(0.00)──Rot(0.00,1.57,-0.52)\n",
      "1: ──RX(0.00)──RY(0.00)──RZ(0.00)─╰X──BitFlip(0.00)──────────────────────────────────────────\n",
      "\n",
      "───BitFlip(0.00)─┤  \n",
      "─────────────────┤  \n"
     ]
    }
   ],
   "source": [
    "print(qml.draw(generator)([ 0,0,0,0,0,0,0,0,0]))"
   ]
  },
  {
   "cell_type": "code",
   "execution_count": 8,
   "id": "de1ffbcc",
   "metadata": {},
   "outputs": [],
   "source": [
    "def discriminator(w):\n",
    "    qml.Hadamard(wires=0)\n",
    "    qml.RX(w[0], wires=0)\n",
    "    qml.RX(w[1], wires=2)\n",
    "    qml.RY(w[2], wires=0)\n",
    "    qml.RY(w[3], wires=2)\n",
    "    qml.RZ(w[4], wires=0)\n",
    "    qml.RZ(w[5], wires=2)\n",
    "    qml.CNOT(wires=[0, 2])\n",
    "    qml.RX(w[6], wires=2)\n",
    "    qml.RY(w[7], wires=2)\n",
    "    qml.RZ(w[8], wires=2)\n",
    "    qml.BitFlip(p, wires=0)\n",
    "    qml.BitFlip(p, wires=2)"
   ]
  },
  {
   "cell_type": "code",
   "execution_count": 9,
   "id": "ab76fa43",
   "metadata": {},
   "outputs": [
    {
     "name": "stdout",
     "output_type": "stream",
     "text": [
      "0: ──H─────────RX(0.00)──RY(2.00)──RZ(4.00)─╭●──BitFlip(0.00)────────────────────────────────────┤  \n",
      "2: ──RX(1.00)──RY(3.00)──RZ(5.00)───────────╰X──RX(6.00)───────RY(7.00)──RZ(8.00)──BitFlip(0.00)─┤  \n"
     ]
    }
   ],
   "source": [
    "print(qml.draw(discriminator)([ 0,1,2,3,4,5,6,7,8]))"
   ]
  },
  {
   "cell_type": "code",
   "execution_count": 10,
   "id": "e4dfcec6",
   "metadata": {},
   "outputs": [],
   "source": [
    "@qml.qnode(dev, interface='tf')\n",
    "def real_disc_circuit(disc_weights):\n",
    "    real()\n",
    "    discriminator(disc_weights)\n",
    "    return qml.expval(qml.PauliZ(2))\n",
    "\n",
    "@qml.qnode(dev,interface='tf')\n",
    "def gen_disc_circuit(gen_weights,disc_weights):\n",
    "    generator(gen_weights)\n",
    "    discriminator(disc_weights)\n",
    "    return qml.expval(qml.PauliZ(2))"
   ]
  },
  {
   "cell_type": "code",
   "execution_count": 11,
   "id": "722374db",
   "metadata": {},
   "outputs": [],
   "source": [
    "def prob_real_true(disc_weights):\n",
    "    true_disc_output = real_disc_circuit(disc_weights)\n",
    "    #convert to probability\n",
    "    prob_real_true = (true_disc_output+1)/2\n",
    "    return prob_real_true"
   ]
  },
  {
   "cell_type": "code",
   "execution_count": 12,
   "id": "8ee99cab",
   "metadata": {},
   "outputs": [],
   "source": [
    "def prob_fake_true(gen_weights,disc_weights):\n",
    "    fake_disc_output = gen_disc_circuit(gen_weights,disc_weights)\n",
    "    #convert to probability\n",
    "    prob_fake_true = (fake_disc_output+1)/2\n",
    "    return prob_fake_true"
   ]
  },
  {
   "cell_type": "code",
   "execution_count": 13,
   "id": "27898557",
   "metadata": {},
   "outputs": [],
   "source": [
    "def disc_cost(disc_weights):\n",
    "    cost = prob_fake_true(gen_weights,disc_weights)-prob_real_true(disc_weights)\n",
    "    return cost\n",
    "def gen_cost(gen_weights):\n",
    "    cost = -prob_fake_true(gen_weights,disc_weights)\n",
    "    return cost"
   ]
  },
  {
   "cell_type": "code",
   "execution_count": 18,
   "id": "b88bd6f1",
   "metadata": {},
   "outputs": [],
   "source": [
    "np.random.seed(0)\n",
    "eps = 1e-2\n",
    "#init_gen_weights = np.array([np.pi] + [0] * 8) + \\\n",
    "                   #np.random.normal(scale=eps, size=(9,))\n",
    "    \n",
    "init_gen_weights = np.array([0]*9)\n",
    "init_disc_weights = np.random.normal(size=(9,))\n",
    "gen_weights = tf.Variable(init_gen_weights,dtype=tf.float64)\n",
    "disc_weights = tf.Variable(init_disc_weights,dtype=tf.float64)"
   ]
  },
  {
   "cell_type": "code",
   "execution_count": 19,
   "id": "6c90cb62",
   "metadata": {},
   "outputs": [
    {
     "name": "stdout",
     "output_type": "stream",
     "text": [
      "[0 0 0 0 0 0 0 0 0]\n"
     ]
    }
   ],
   "source": [
    "print(init_gen_weights)"
   ]
  },
  {
   "cell_type": "code",
   "execution_count": null,
   "id": "2a2988d6",
   "metadata": {},
   "outputs": [
    {
     "name": "stdout",
     "output_type": "stream",
     "text": [
      "Step 0: cost = -0.22749195292622004\n",
      "Step 5: cost = -0.32473604476518775\n",
      "Step 10: cost = -0.3521040326437952\n",
      "Step 15: cost = -0.35831112870132903\n",
      "Step 20: cost = -0.3596423561466814\n",
      "Step 25: cost = -0.35992441945344744\n",
      "Step 30: cost = -0.35998403423390085\n",
      "Step 35: cost = -0.35999662763359885\n",
      "Step 40: cost = -0.35999928768278755\n",
      "Step 45: cost = -0.35999984954344577\n",
      "Step 0: cost = -0.3716830356855156\n",
      "Step 5: cost = -0.5662846391890999\n",
      "Step 10: cost = -0.7244334384785384\n",
      "Step 15: cost = -0.7922031781174643\n",
      "Step 20: cost = -0.8126620553519734\n",
      "Step 25: cost = -0.8181162304518409\n",
      "Step 30: cost = -0.8195199444484037\n",
      "Step 35: cost = -0.8198778938810897\n",
      "Step 40: cost = -0.8199689561333391\n",
      "Step 45: cost = -0.8199921084119375\n",
      "Step 0: cost = 0.07143106055235326\n",
      "Step 5: cost = -0.1797669276151721\n",
      "Step 10: cost = -0.31541806181908083\n",
      "Step 15: cost = -0.3540976346488479\n",
      "Step 20: cost = -0.3627328090704318\n",
      "Step 25: cost = -0.364544873877664\n"
     ]
    }
   ],
   "source": [
    "loss_val_d = []\n",
    "loss_val_g = []\n",
    "step_d = []\n",
    "step_g = []\n",
    "p = 0.1\n",
    "epochs = 3\n",
    "for i in range(epochs):\n",
    "    opt = tf.keras.optimizers.experimental.SGD(learning_rate=0.4)\n",
    "    var = disc_weights\n",
    "    loss = lambda: disc_cost(disc_weights)         # d(loss)/d(var1) = var1\n",
    "    for step in range(50):\n",
    "        opt.minimize(loss, [var])\n",
    "        if step % 5 == 0:\n",
    "            loss_val = loss().numpy()\n",
    "            loss_val_d.append(loss_val)\n",
    "            step_d.append(step)\n",
    "            print(\"Step {}: cost = {}\".format(step, loss_val))\n",
    "            \n",
    "    opt = tf.keras.optimizers.legacy.SGD(learning_rate=0.4)\n",
    "    var_g = gen_weights\n",
    "    loss = lambda: gen_cost(gen_weights)         # d(loss)/d(var1) = var1\n",
    "    for step in range(50):\n",
    "        opt.minimize(loss, [var_g])\n",
    "        if step % 5 == 0:\n",
    "            loss_val = loss().numpy()\n",
    "            loss_val_g.append(loss_val)\n",
    "            step_g.append(step)\n",
    "            print(\"Step {}: cost = {}\".format(step, loss_val))\n",
    "    \n",
    "loss_d = [ -x for x in loss_val_d]\n",
    "import matplotlib.pyplot as plt\n",
    "plt.figure(figsize=(10, 5))\n",
    "plt.plot(range(len(step_g)), loss_val_g, label=\"Generator loss\")\n",
    "plt.plot(range(len(step_d)), loss_d, label=\"Discriminator loss\")\n",
    "plt.title(\"Loss\")\n",
    "plt.xlabel(\"Epoch\")\n",
    "plt.legend()\n",
    "plt.show()"
   ]
  },
  {
   "cell_type": "code",
   "execution_count": 17,
   "id": "ddb5fb15",
   "metadata": {},
   "outputs": [
    {
     "data": {
      "image/png": "[encoded data removed]",
      "text/plain": [
       "<Figure size 1000x500 with 1 Axes>"
      ]
     },
     "metadata": {},
     "output_type": "display_data"
    }
   ],
   "source": [
    "import matplotlib.pyplot as plt\n",
    "plt.figure(figsize=(10, 5))\n",
    "plt.plot(range(len(step_g)), loss_val_g, label=\"Generator loss\")\n",
    "plt.plot(range(len(step_d)), loss_d, label=\"Discriminator loss\")\n",
    "plt.title(\"Loss\")\n",
    "plt.xlabel(\"Epoch\")\n",
    "plt.legend()\n",
    "plt.show()"
   ]
  },
  {
   "cell_type": "code",
   "execution_count": null,
   "id": "4a34fa92",
   "metadata": {},
   "outputs": [],
   "source": []
  }
 ],
 "metadata": {
  "kernelspec": {
   "display_name": "Python 3 (ipykernel)",
   "language": "python",
   "name": "python3"
  },
  "language_info": {
   "codemirror_mode": {
    "name": "ipython",
    "version": 3
   },
   "file_extension": ".py",
   "mimetype": "text/x-python",
   "name": "python",
   "nbconvert_exporter": "python",
   "pygments_lexer": "ipython3",
   "version": "3.9.13"
  }
 },
 "nbformat": 4,
 "nbformat_minor": 5
}
