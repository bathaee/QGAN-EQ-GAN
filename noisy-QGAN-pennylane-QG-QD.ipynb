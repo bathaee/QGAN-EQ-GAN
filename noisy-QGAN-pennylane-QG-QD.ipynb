{
 "cells": [
  {
   "cell_type": "code",
   "execution_count": 1,
   "id": "29378fe4",
   "metadata": {},
   "outputs": [
    {
     "name": "stderr",
     "output_type": "stream",
     "text": [
      "2023-05-24 11:03:37.114738: I tensorflow/core/platform/cpu_feature_guard.cc:193] This TensorFlow binary is optimized with oneAPI Deep Neural Network Library (oneDNN) to use the following CPU instructions in performance-critical operations:  AVX2 FMA\n",
      "To enable them in other operations, rebuild TensorFlow with the appropriate compiler flags.\n"
     ]
    }
   ],
   "source": [
    "import pennylane as qml\n",
    "from pennylane import numpy as np\n",
    "import tensorflow as tf"
   ]
  },
  {
   "cell_type": "code",
   "execution_count": 2,
   "id": "4332dca8",
   "metadata": {},
   "outputs": [],
   "source": [
    "dev = qml.device('default.mixed', wires=3)"
   ]
  },
  {
   "cell_type": "code",
   "execution_count": 3,
   "id": "4cdc9b0d",
   "metadata": {},
   "outputs": [],
   "source": [
    "def real(angles,**kwargs):\n",
    "    qml.Hadamard(wires=0)\n",
    "    qml.Rot(*angles,wires=0)"
   ]
  },
  {
   "cell_type": "code",
   "execution_count": 10,
   "id": "409b2bd8",
   "metadata": {},
   "outputs": [],
   "source": [
    "def generator(w,**kwargs):\n",
    "    qml.Hadamard(wires=0)\n",
    "    qml.RX(w[0], wires=0)\n",
    "    qml.RX(w[1], wires=1)\n",
    "    qml.RY(w[2], wires=0)\n",
    "    qml.RY(w[3], wires=1)\n",
    "    qml.RZ(w[4], wires=0)\n",
    "    qml.RZ(w[5], wires=1)\n",
    "    qml.CNOT(wires=[0,1])\n",
    "    qml.RX(w[6], wires=0)\n",
    "    qml.RY(w[7], wires=0)\n",
    "    qml.RZ(w[8], wires=0)\n",
    "    qml.BitFlip(p, wires=0)\n",
    "    qml.BitFlip(p, wires=1)"
   ]
  },
  {
   "cell_type": "code",
   "execution_count": 11,
   "id": "cf9ab49f",
   "metadata": {},
   "outputs": [],
   "source": [
    "def discriminator(w):\n",
    "    qml.Hadamard(wires=0)\n",
    "    qml.RX(w[0], wires=0)\n",
    "    qml.RX(w[1], wires=2)\n",
    "    qml.RY(w[2], wires=0)\n",
    "    qml.RY(w[3], wires=2)\n",
    "    qml.RZ(w[4], wires=0)\n",
    "    qml.RZ(w[5], wires=2)\n",
    "    qml.CNOT(wires=[0, 2])\n",
    "    qml.RX(w[6], wires=2)\n",
    "    qml.RY(w[7], wires=2)\n",
    "    qml.RZ(w[8], wires=2)\n",
    "    qml.BitFlip(p, wires=0)\n",
    "    qml.BitFlip(p, wires=2)"
   ]
  },
  {
   "cell_type": "code",
   "execution_count": 12,
   "id": "0fec8baa",
   "metadata": {},
   "outputs": [],
   "source": [
    "@qml.qnode(dev, interface='tf')\n",
    "def real_disc_circuit(phi, theta, omega, disc_weights):\n",
    "    real([phi,theta,omega])\n",
    "    discriminator(disc_weights)\n",
    "    return qml.expval(qml.PauliZ(2))\n",
    "\n",
    "@qml.qnode(dev,interface='tf')\n",
    "def gen_disc_circuit(gen_weights,disc_weights):\n",
    "    generator(gen_weights)\n",
    "    discriminator(disc_weights)\n",
    "    return qml.expval(qml.PauliZ(2))"
   ]
  },
  {
   "cell_type": "code",
   "execution_count": 13,
   "id": "50255525",
   "metadata": {},
   "outputs": [],
   "source": [
    "def prob_real_true(disc_weights):\n",
    "    true_disc_output = real_disc_circuit(phi,theta,omega,disc_weights)\n",
    "    #convert to probability\n",
    "    prob_real_true = (true_disc_output+1)/2\n",
    "    return prob_real_true"
   ]
  },
  {
   "cell_type": "code",
   "execution_count": 14,
   "id": "24dbed63",
   "metadata": {},
   "outputs": [],
   "source": [
    "def prob_fake_true(gen_weights,disc_weights):\n",
    "    fake_disc_output = gen_disc_circuit(gen_weights,disc_weights)\n",
    "    #convert to probability\n",
    "    prob_fake_true = (fake_disc_output+1)/2\n",
    "    return prob_fake_true"
   ]
  },
  {
   "cell_type": "code",
   "execution_count": 15,
   "id": "fcb20110",
   "metadata": {},
   "outputs": [],
   "source": [
    "def disc_cost(disc_weights):\n",
    "    cost = prob_fake_true(gen_weights,disc_weights)-prob_real_true(disc_weights)\n",
    "    return cost\n",
    "def gen_cost(gen_weights):\n",
    "    cost = -prob_fake_true(gen_weights,disc_weights)\n",
    "    return cost"
   ]
  },
  {
   "cell_type": "code",
   "execution_count": 17,
   "id": "a47faba7",
   "metadata": {},
   "outputs": [],
   "source": [
    "p = 0.1\n",
    "phi = np.pi / 6\n",
    "theta = np.pi / 2\n",
    "omega = np.pi / 7\n",
    "np.random.seed(0)\n",
    "eps = 1e-2\n",
    "init_gen_weights = np.array([np.pi] + [0] * 8) + \\\n",
    "                   np.random.normal(scale=eps, size=(9,))\n",
    "\n",
    "init_disc_weights = np.random.normal(size=(9,))\n",
    "gen_weights = tf.Variable(init_gen_weights,dtype=tf.float64)\n",
    "disc_weights = tf.Variable(init_disc_weights,dtype=tf.float64)"
   ]
  },
  {
   "cell_type": "code",
   "execution_count": 18,
   "id": "ebd10090",
   "metadata": {},
   "outputs": [
    {
     "name": "stdout",
     "output_type": "stream",
     "text": [
      "var = <tf.Variable 'Variable:0' shape=(9,) dtype=float64, numpy=\n",
      "array([ 0.4105985 ,  0.14404357,  1.45427351,  0.76103773,  0.12167502,\n",
      "        0.44386323,  0.33367433,  1.49407907, -0.20515826])>\n",
      "loss = tf.Tensor(-0.018053712648460063, shape=(), dtype=float64)\n",
      "Step 0: cost = -0.04039486732759001\n",
      "Step 5: cost = -0.16955382257436336\n",
      "Step 10: cost = -0.30050000693654755\n",
      "Step 15: cost = -0.3624121623436303\n",
      "Step 20: cost = -0.38101630095055294\n",
      "Step 25: cost = -0.38778099174893677\n",
      "Step 30: cost = -0.391475234185672\n",
      "Step 35: cost = -0.39394727548181707\n",
      "Step 40: cost = -0.39567028538167304\n",
      "Step 45: cost = -0.39686166690611147\n"
     ]
    }
   ],
   "source": [
    "opt = tf.keras.optimizers.experimental.SGD(learning_rate=0.4)\n",
    "\n",
    "var = disc_weights\n",
    "print('var =',var)\n",
    "\n",
    "loss = lambda: disc_cost(disc_weights)         # d(loss)/d(var1) = var1\n",
    "print('loss =',disc_cost(disc_weights) )\n",
    "\n",
    "for step in range(50):\n",
    "    opt.minimize(loss, [var])\n",
    "    if step % 5 == 0:\n",
    "        loss_val = loss().numpy()\n",
    "        print(\"Step {}: cost = {}\".format(step, loss_val))"
   ]
  },
  {
   "cell_type": "code",
   "execution_count": 19,
   "id": "bea98084",
   "metadata": {},
   "outputs": [
    {
     "name": "stdout",
     "output_type": "stream",
     "text": [
      "var_g = <tf.Variable 'Variable:0' shape=(9,) dtype=float64, numpy=\n",
      "array([ 3.15923318e+00,  4.00157208e-03,  9.78737984e-03,  2.24089320e-02,\n",
      "        1.86755799e-02, -9.77277880e-03,  9.50088418e-03, -1.51357208e-03,\n",
      "       -1.03218852e-03])>\n",
      "loss = tf.Tensor(-0.4999885750980042, shape=(), dtype=float64)\n",
      "Step 0: cost = -0.5369006988043046\n",
      "Step 5: cost = -0.6961265890726314\n",
      "Step 10: cost = -0.7786430424654182\n",
      "Step 15: cost = -0.8081364125621053\n",
      "Step 20: cost = -0.8189018262844825\n",
      "Step 25: cost = -0.8235605265277395\n",
      "Step 30: cost = -0.8258495109301165\n",
      "Step 35: cost = -0.8270537190103742\n",
      "Step 40: cost = -0.8277100647121625\n",
      "Step 45: cost = -0.8280747525256973\n"
     ]
    }
   ],
   "source": [
    "opt = tf.keras.optimizers.legacy.SGD(learning_rate=0.4)\n",
    "var_g = gen_weights\n",
    "print('var_g =',var_g)\n",
    "\n",
    "loss = lambda: gen_cost(gen_weights)         # d(loss)/d(var1) = var1\n",
    "print('loss =',gen_cost(gen_weights))\n",
    "\n",
    "for step in range(50):\n",
    "    opt.minimize(loss, [var_g])\n",
    "    if step % 5 == 0:\n",
    "        loss_val = loss().numpy()\n",
    "        print(\"Step {}: cost = {}\".format(step, loss_val))"
   ]
  },
  {
   "cell_type": "code",
   "execution_count": 20,
   "id": "9a5c1bf7",
   "metadata": {},
   "outputs": [
    {
     "name": "stdout",
     "output_type": "stream",
     "text": [
      "Prob(fake classified as real):  0.8282474608727748\n"
     ]
    }
   ],
   "source": [
    "print(\"Prob(fake classified as real): \", prob_fake_true(var_g, var).numpy())"
   ]
  },
  {
   "cell_type": "code",
   "execution_count": 21,
   "id": "062b5c58",
   "metadata": {},
   "outputs": [
    {
     "name": "stdout",
     "output_type": "stream",
     "text": [
      "Discriminator cost:  -0.06927626049472946\n"
     ]
    }
   ],
   "source": [
    "print(\"Discriminator cost: \", disc_cost(var).numpy())"
   ]
  },
  {
   "cell_type": "code",
   "execution_count": 22,
   "id": "433388ab",
   "metadata": {},
   "outputs": [
    {
     "name": "stdout",
     "output_type": "stream",
     "text": [
      "Real Bloch vector: [tensor(-0.21694187, requires_grad=True), tensor(0.45048443, requires_grad=True), tensor(-0.8660254, requires_grad=True)]\n",
      "Generator Bloch vector: [<tf.Tensor: shape=(), dtype=float64, numpy=-0.3596466819965153>, <tf.Tensor: shape=(), dtype=float64, numpy=0.30033131263670876>, <tf.Tensor: shape=(), dtype=float64, numpy=-0.6827290020322043>]\n"
     ]
    }
   ],
   "source": [
    "obs = [qml.PauliX(0), qml.PauliY(0), qml.PauliZ(0)]\n",
    "\n",
    "@qml.qnode(dev, interface=\"tf\")\n",
    "def bloch_vector_real(angles):\n",
    "    real(angles)\n",
    "    return [qml.expval(o) for o in obs]\n",
    "\n",
    "@qml.qnode(dev, interface=\"tf\")\n",
    "def bloch_vector_generator(angles):\n",
    "    generator(angles)\n",
    "    return [qml.expval(o) for o in obs]\n",
    "\n",
    "print(f\"Real Bloch vector: {bloch_vector_real([phi, theta, omega])}\")\n",
    "print(f\"Generator Bloch vector: {bloch_vector_generator(var_g)}\")"
   ]
  },
  {
   "cell_type": "code",
   "execution_count": 24,
   "id": "3663de51",
   "metadata": {},
   "outputs": [
    {
     "data": {
      "text/plain": [
       "0.6473452183799383"
      ]
     },
     "execution_count": 24,
     "metadata": {},
     "output_type": "execute_result"
    }
   ],
   "source": [
    "qml.math.fidelity(bloch_vector_real([phi, theta, omega]), bloch_vector_generator(var_g))"
   ]
  },
  {
   "cell_type": "code",
   "execution_count": null,
   "id": "0df380a4",
   "metadata": {},
   "outputs": [],
   "source": []
  }
 ],
 "metadata": {
  "kernelspec": {
   "display_name": "Python 3 (ipykernel)",
   "language": "python",
   "name": "python3"
  },
  "language_info": {
   "codemirror_mode": {
    "name": "ipython",
    "version": 3
   },
   "file_extension": ".py",
   "mimetype": "text/x-python",
   "name": "python",
   "nbconvert_exporter": "python",
   "pygments_lexer": "ipython3",
   "version": "3.9.13"
  }
 },
 "nbformat": 4,
 "nbformat_minor": 5
}
