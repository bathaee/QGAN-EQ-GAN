{
  "cells": [
    {
      "cell_type": "markdown",
      "metadata": {
        "id": "view-in-github",
        "colab_type": "text"
      },
      "source": [
        "<a href=\"https://colab.research.google.com/github/bathaee/QGAN-EQ-GAN/blob/main/04_torch_qgan_(changed).ipynb\" target=\"_parent\"><img src=\"https://colab.research.google.com/assets/colab-badge.svg\" alt=\"Open In Colab\"/></a>"
      ]
    },
    {
      "cell_type": "markdown",
      "metadata": {
        "id": "RemGTknv47oh"
      },
      "source": [
        "# PyTorch qGAN Implementation\n",
        "\n",
        "\n",
        "## Overview (Chanded from its original code (qiskit) by Marzieh Bathaee)\n",
        "\n",
        "##We are trying to modify this code while the quantum circuit is noisy and with different ansatz.\n",
        "\n",
        "This tutorial introduces step-by-step how to build a PyTorch-based Quantum Generative Adversarial Network algorithm.\n",
        "\n",
        "The tutorial is structured as follows:\n",
        "\n",
        "1. [Introduction](#1.-Introduction)\n",
        "2. [Data and Represtation](#2.-Data-and-Representation)\n",
        "3. [Definitions of the Neural Networks](#3.-Definitions-of-the-Neural-Networks)\n",
        "4. [Setting up Parameters for the Training Loop](#4.-Setting-up-Parameters-for-the-Training-Loop)\n",
        "5. [Model Training](#5.-Model-Training)\n",
        "6. [Results: Cumulative Density Functions](#6.-Results:-Cumulative-Density-Functions)\n",
        "7. [Conclusion](#7.-Conclusion)\n",
        "\n",
        "## 1. Introduction\n",
        "\n",
        "The qGAN \\[1\\] is a hybrid quantum-classical algorithm used for generative modeling tasks. The algorithm uses the interplay of a quantum generator $G_{\\theta}$, i.e., an ansatz (parametrized quantum circuit), and a classical discriminator $D_{\\phi}$, a neural network, to learn the underlying probability distribution given training data.\n",
        "\n",
        "The generator and discriminator are trained in alternating optimization steps, where the generator aims at generating probabilities that will be classified by the discriminator as training data values (i.e, probabilities from the real training distribution), and the discriminator tries to differentiate between original distribution and probabilities from the generator (in other words, telling apart the real and generated distributions). The final goal is for the quantum generator to learn a representation for the target probability distribution.\n",
        "The trained quantum generator can, thus, be used to load a quantum state which is an approximate model of the target distribution.\n",
        "\n",
        "**References:**\n",
        "\n",
        "\\[1\\] Zoufal et al., [Quantum Generative Adversarial Networks for learning and loading random distributions](https://www.nature.com/articles/s41534-019-0223-2)\n",
        "\n",
        "### 1.1. qGANs for Loading Random Distributions\n",
        "\n",
        "Given $k$-dimensional data samples, we employ a quantum Generative Adversarial Network (qGAN) to learn a random distribution and to load it directly into a quantum state:\n",
        "\n",
        "$$ \\big| g_{\\theta}\\rangle = \\sum_{j=0}^{2^n-1} \\sqrt{p_{\\theta}^{j}}\\big| j \\rangle $$\n",
        "\n",
        "where $p_{\\theta}^{j}$ describe the occurrence probabilities of the basis states $\\big| j\\rangle$.\n",
        "\n",
        "The aim of the qGAN training is to generate a state $\\big| g_{\\theta}\\rangle$ where $p_{\\theta}^{j}$, for $j\\in \\left\\{0, \\ldots, {2^n-1} \\right\\}$, describe a probability distribution that is close to the distribution underlying the training data $X=\\left\\{x^0, \\ldots, x^{k-1} \\right\\}$.\n",
        "\n",
        "For further details please refer to [Quantum Generative Adversarial Networks for Learning and Loading Random Distributions](https://arxiv.org/abs/1904.00043) _Zoufal, Lucchi, Woerner_ \\[2019\\].\n",
        "\n",
        "For an example of how to use a trained qGAN in an application, the pricing of financial derivatives, please see the\n",
        "[Option Pricing with qGANs](https://github.com/Qiskit/qiskit-finance/tree/main/docs/tutorials/10_qgan_option_pricing.ipynb) tutorial.\n",
        "\n",
        "\n",
        "### 2.2 Noise Model\n",
        "Consider the bit-flip  noise in measurment and gate noises.\n",
        "\n",
        "\n",
        "## 2. Data and Representation\n",
        "\n",
        "First, we need to load our training data $X$.\n",
        "\n",
        "In this tutorial, the training data is given by a 2D multivariate normal distribution.\n",
        "\n",
        "The goal of the generator is to learn how to represent such distribution, and the trained generator should correspond to an $n$-qubit quantum state\n",
        "\\begin{equation}\n",
        "|g_{\\text{trained}}\\rangle=\\sum\\limits_{j=0}^{k-1}\\sqrt{p_{j}}|x_{j}\\rangle,\n",
        "\\end{equation}\n",
        "where the basis states $|x_{j}\\rangle$ represent the data items in the training data set\n",
        "$X={x_0, \\ldots, x_{k-1}}$ with $k\\leq 2^n$ and $p_j$ refers to the sampling probability\n",
        "of $|x_{j}\\rangle$.\n",
        "\n",
        "To facilitate this representation, we need to map the samples from the multivariate\n",
        "normal distribution to discrete values. The number of values that can be represented\n",
        "depends on the number of qubits used for the mapping.\n",
        "Hence, the data resolution is defined by the number of qubits.\n",
        "If we use $3$ qubits to represent one feature, we have $2^3 = 8$ discrete values.\n",
        "\n",
        "We first begin by fixing seeds in the random number generators for reproducibility of the outcome in this tutorial."
      ]
    },
    {
      "cell_type": "code",
      "execution_count": 1,
      "metadata": {
        "colab": {
          "base_uri": "https://localhost:8080/"
        },
        "id": "c1BEBxpXc8Dx",
        "outputId": "11446063-dfdd-4999-b71a-23f691b61f61"
      },
      "outputs": [
        {
          "output_type": "stream",
          "name": "stdout",
          "text": [
            "Looking in indexes: https://pypi.org/simple, https://us-python.pkg.dev/colab-wheels/public/simple/\n",
            "Collecting qiskit\n",
            "  Downloading qiskit-0.43.0.tar.gz (10.0 kB)\n",
            "  Installing build dependencies ... \u001b[?25l\u001b[?25hdone\n",
            "  Getting requirements to build wheel ... \u001b[?25l\u001b[?25hdone\n",
            "  Installing backend dependencies ... \u001b[?25l\u001b[?25hdone\n",
            "  Preparing metadata (pyproject.toml) ... \u001b[?25l\u001b[?25hdone\n",
            "Collecting qiskit-terra==0.24.0\n",
            "  Downloading qiskit_terra-0.24.0-cp310-cp310-manylinux_2_17_x86_64.manylinux2014_x86_64.whl (5.9 MB)\n",
            "\u001b[2K     \u001b[90m━━━━━━━━━━━━━━━━━━━━━━━━━━━━━━━━━━━━━━━━\u001b[0m \u001b[32m5.9/5.9 MB\u001b[0m \u001b[31m78.8 MB/s\u001b[0m eta \u001b[36m0:00:00\u001b[0m\n",
            "\u001b[?25hCollecting qiskit-ibmq-provider==0.20.2\n",
            "  Downloading qiskit_ibmq_provider-0.20.2-py3-none-any.whl (241 kB)\n",
            "\u001b[2K     \u001b[90m━━━━━━━━━━━━━━━━━━━━━━━━━━━━━━━━━━━━━━\u001b[0m \u001b[32m241.5/241.5 kB\u001b[0m \u001b[31m25.7 MB/s\u001b[0m eta \u001b[36m0:00:00\u001b[0m\n",
            "\u001b[?25hCollecting qiskit-aer==0.12.0\n",
            "  Downloading qiskit_aer-0.12.0-cp310-cp310-manylinux_2_17_x86_64.manylinux2014_x86_64.whl (12.8 MB)\n",
            "\u001b[2K     \u001b[90m━━━━━━━━━━━━━━━━━━━━━━━━━━━━━━━━━━━━━━━━\u001b[0m \u001b[32m12.8/12.8 MB\u001b[0m \u001b[31m96.2 MB/s\u001b[0m eta \u001b[36m0:00:00\u001b[0m\n",
            "\u001b[?25hRequirement already satisfied: numpy>=1.16.3 in /usr/local/lib/python3.10/dist-packages (from qiskit-aer==0.12.0->qiskit) (1.22.4)\n",
            "Requirement already satisfied: scipy>=1.0 in /usr/local/lib/python3.10/dist-packages (from qiskit-aer==0.12.0->qiskit) (1.10.1)\n",
            "Collecting requests-ntlm<=1.1.0\n",
            "  Downloading requests_ntlm-1.1.0-py2.py3-none-any.whl (5.7 kB)\n",
            "Requirement already satisfied: requests>=2.19 in /usr/local/lib/python3.10/dist-packages (from qiskit-ibmq-provider==0.20.2->qiskit) (2.27.1)\n",
            "Requirement already satisfied: urllib3>=1.21.1 in /usr/local/lib/python3.10/dist-packages (from qiskit-ibmq-provider==0.20.2->qiskit) (1.26.15)\n",
            "Requirement already satisfied: python-dateutil>=2.8.0 in /usr/local/lib/python3.10/dist-packages (from qiskit-ibmq-provider==0.20.2->qiskit) (2.8.2)\n",
            "Collecting websockets>=10.0\n",
            "  Downloading websockets-11.0.2-cp310-cp310-manylinux_2_5_x86_64.manylinux1_x86_64.manylinux_2_17_x86_64.manylinux2014_x86_64.whl (129 kB)\n",
            "\u001b[2K     \u001b[90m━━━━━━━━━━━━━━━━━━━━━━━━━━━━━━━━━━━━━━\u001b[0m \u001b[32m129.9/129.9 kB\u001b[0m \u001b[31m19.3 MB/s\u001b[0m eta \u001b[36m0:00:00\u001b[0m\n",
            "\u001b[?25hRequirement already satisfied: websocket-client>=1.5.1 in /usr/local/lib/python3.10/dist-packages (from qiskit-ibmq-provider==0.20.2->qiskit) (1.5.1)\n",
            "Collecting symengine<0.10,>=0.9\n",
            "  Downloading symengine-0.9.2-cp310-cp310-manylinux2010_x86_64.whl (37.5 MB)\n",
            "\u001b[2K     \u001b[90m━━━━━━━━━━━━━━━━━━━━━━━━━━━━━━━━━━━━━━━━\u001b[0m \u001b[32m37.5/37.5 MB\u001b[0m \u001b[31m16.3 MB/s\u001b[0m eta \u001b[36m0:00:00\u001b[0m\n",
            "\u001b[?25hRequirement already satisfied: psutil>=5 in /usr/local/lib/python3.10/dist-packages (from qiskit-terra==0.24.0->qiskit) (5.9.5)\n",
            "Collecting ply>=3.10\n",
            "  Downloading ply-3.11-py2.py3-none-any.whl (49 kB)\n",
            "\u001b[2K     \u001b[90m━━━━━━━━━━━━━━━━━━━━━━━━━━━━━━━━━━━━━━━━\u001b[0m \u001b[32m49.6/49.6 kB\u001b[0m \u001b[31m7.1 MB/s\u001b[0m eta \u001b[36m0:00:00\u001b[0m\n",
            "\u001b[?25hCollecting dill>=0.3\n",
            "  Downloading dill-0.3.6-py3-none-any.whl (110 kB)\n",
            "\u001b[2K     \u001b[90m━━━━━━━━━━━━━━━━━━━━━━━━━━━━━━━━━━━━━━\u001b[0m \u001b[32m110.5/110.5 kB\u001b[0m \u001b[31m16.8 MB/s\u001b[0m eta \u001b[36m0:00:00\u001b[0m\n",
            "\u001b[?25hCollecting stevedore>=3.0.0\n",
            "  Downloading stevedore-5.0.0-py3-none-any.whl (49 kB)\n",
            "\u001b[2K     \u001b[90m━━━━━━━━━━━━━━━━━━━━━━━━━━━━━━━━━━━━━━━━\u001b[0m \u001b[32m49.6/49.6 kB\u001b[0m \u001b[31m6.8 MB/s\u001b[0m eta \u001b[36m0:00:00\u001b[0m\n",
            "\u001b[?25hCollecting rustworkx>=0.12.0\n",
            "  Downloading rustworkx-0.12.1-cp310-cp310-manylinux_2_17_x86_64.manylinux2014_x86_64.whl (1.9 MB)\n",
            "\u001b[2K     \u001b[90m━━━━━━━━━━━━━━━━━━━━━━━━━━━━━━━━━━━━━━━━\u001b[0m \u001b[32m1.9/1.9 MB\u001b[0m \u001b[31m71.2 MB/s\u001b[0m eta \u001b[36m0:00:00\u001b[0m\n",
            "\u001b[?25hRequirement already satisfied: sympy>=1.3 in /usr/local/lib/python3.10/dist-packages (from qiskit-terra==0.24.0->qiskit) (1.11.1)\n",
            "Requirement already satisfied: six>=1.5 in /usr/local/lib/python3.10/dist-packages (from python-dateutil>=2.8.0->qiskit-ibmq-provider==0.20.2->qiskit) (1.16.0)\n",
            "Requirement already satisfied: charset-normalizer~=2.0.0 in /usr/local/lib/python3.10/dist-packages (from requests>=2.19->qiskit-ibmq-provider==0.20.2->qiskit) (2.0.12)\n",
            "Requirement already satisfied: idna<4,>=2.5 in /usr/local/lib/python3.10/dist-packages (from requests>=2.19->qiskit-ibmq-provider==0.20.2->qiskit) (3.4)\n",
            "Requirement already satisfied: certifi>=2017.4.17 in /usr/local/lib/python3.10/dist-packages (from requests>=2.19->qiskit-ibmq-provider==0.20.2->qiskit) (2022.12.7)\n",
            "Collecting ntlm-auth>=1.0.2\n",
            "  Downloading ntlm_auth-1.5.0-py2.py3-none-any.whl (29 kB)\n",
            "Requirement already satisfied: cryptography>=1.3 in /usr/local/lib/python3.10/dist-packages (from requests-ntlm<=1.1.0->qiskit-ibmq-provider==0.20.2->qiskit) (40.0.2)\n",
            "Collecting pbr!=2.1.0,>=2.0.0\n",
            "  Downloading pbr-5.11.1-py2.py3-none-any.whl (112 kB)\n",
            "\u001b[2K     \u001b[90m━━━━━━━━━━━━━━━━━━━━━━━━━━━━━━━━━━━━━━\u001b[0m \u001b[32m112.7/112.7 kB\u001b[0m \u001b[31m15.5 MB/s\u001b[0m eta \u001b[36m0:00:00\u001b[0m\n",
            "\u001b[?25hRequirement already satisfied: mpmath>=0.19 in /usr/local/lib/python3.10/dist-packages (from sympy>=1.3->qiskit-terra==0.24.0->qiskit) (1.3.0)\n",
            "Requirement already satisfied: cffi>=1.12 in /usr/local/lib/python3.10/dist-packages (from cryptography>=1.3->requests-ntlm<=1.1.0->qiskit-ibmq-provider==0.20.2->qiskit) (1.15.1)\n",
            "Requirement already satisfied: pycparser in /usr/local/lib/python3.10/dist-packages (from cffi>=1.12->cryptography>=1.3->requests-ntlm<=1.1.0->qiskit-ibmq-provider==0.20.2->qiskit) (2.21)\n",
            "Building wheels for collected packages: qiskit\n",
            "  Building wheel for qiskit (pyproject.toml) ... \u001b[?25l\u001b[?25hdone\n",
            "  Created wheel for qiskit: filename=qiskit-0.43.0-py3-none-any.whl size=8013 sha256=a2a8d66773be3b363425df399bd3bd903d32ccbf4df79f051580cf501cd631c8\n",
            "  Stored in directory: /root/.cache/pip/wheels/11/fe/bc/59531707126e693bad48c61c0b86f3870b49f8f7ad49c18209\n",
            "Successfully built qiskit\n",
            "Installing collected packages: ply, websockets, symengine, rustworkx, pbr, ntlm-auth, dill, stevedore, requests-ntlm, qiskit-terra, qiskit-ibmq-provider, qiskit-aer, qiskit\n",
            "Successfully installed dill-0.3.6 ntlm-auth-1.5.0 pbr-5.11.1 ply-3.11 qiskit-0.43.0 qiskit-aer-0.12.0 qiskit-ibmq-provider-0.20.2 qiskit-terra-0.24.0 requests-ntlm-1.1.0 rustworkx-0.12.1 stevedore-5.0.0 symengine-0.9.2 websockets-11.0.2\n",
            "Looking in indexes: https://pypi.org/simple, https://us-python.pkg.dev/colab-wheels/public/simple/\n",
            "Collecting qiskit-machine-learning\n",
            "  Downloading qiskit_machine_learning-0.6.0-py3-none-any.whl (148 kB)\n",
            "\u001b[2K     \u001b[90m━━━━━━━━━━━━━━━━━━━━━━━━━━━━━━━━━━━━━━━\u001b[0m \u001b[32m148.7/148.7 kB\u001b[0m \u001b[31m8.2 MB/s\u001b[0m eta \u001b[36m0:00:00\u001b[0m\n",
            "\u001b[?25hCollecting dill<0.3.6,>=0.3.4\n",
            "  Downloading dill-0.3.5.1-py2.py3-none-any.whl (95 kB)\n",
            "\u001b[2K     \u001b[90m━━━━━━━━━━━━━━━━━━━━━━━━━━━━━━━━━━━━━━━━\u001b[0m \u001b[32m95.8/95.8 kB\u001b[0m \u001b[31m13.0 MB/s\u001b[0m eta \u001b[36m0:00:00\u001b[0m\n",
            "\u001b[?25hRequirement already satisfied: qiskit-terra>=0.22 in /usr/local/lib/python3.10/dist-packages (from qiskit-machine-learning) (0.24.0)\n",
            "Collecting fastdtw\n",
            "  Downloading fastdtw-0.3.4.tar.gz (133 kB)\n",
            "\u001b[2K     \u001b[90m━━━━━━━━━━━━━━━━━━━━━━━━━━━━━━━━━━━━━━\u001b[0m \u001b[32m133.4/133.4 kB\u001b[0m \u001b[31m17.9 MB/s\u001b[0m eta \u001b[36m0:00:00\u001b[0m\n",
            "\u001b[?25h  Preparing metadata (setup.py) ... \u001b[?25l\u001b[?25hdone\n",
            "Requirement already satisfied: setuptools>=40.1.0 in /usr/local/lib/python3.10/dist-packages (from qiskit-machine-learning) (67.7.2)\n",
            "Requirement already satisfied: numpy>=1.17 in /usr/local/lib/python3.10/dist-packages (from qiskit-machine-learning) (1.22.4)\n",
            "Requirement already satisfied: scipy>=1.4 in /usr/local/lib/python3.10/dist-packages (from qiskit-machine-learning) (1.10.1)\n",
            "Requirement already satisfied: psutil>=5 in /usr/local/lib/python3.10/dist-packages (from qiskit-machine-learning) (5.9.5)\n",
            "Requirement already satisfied: scikit-learn>=0.20.0 in /usr/local/lib/python3.10/dist-packages (from qiskit-machine-learning) (1.2.2)\n",
            "Requirement already satisfied: ply>=3.10 in /usr/local/lib/python3.10/dist-packages (from qiskit-terra>=0.22->qiskit-machine-learning) (3.11)\n",
            "Requirement already satisfied: python-dateutil>=2.8.0 in /usr/local/lib/python3.10/dist-packages (from qiskit-terra>=0.22->qiskit-machine-learning) (2.8.2)\n",
            "Requirement already satisfied: rustworkx>=0.12.0 in /usr/local/lib/python3.10/dist-packages (from qiskit-terra>=0.22->qiskit-machine-learning) (0.12.1)\n",
            "Requirement already satisfied: sympy>=1.3 in /usr/local/lib/python3.10/dist-packages (from qiskit-terra>=0.22->qiskit-machine-learning) (1.11.1)\n",
            "Requirement already satisfied: symengine<0.10,>=0.9 in /usr/local/lib/python3.10/dist-packages (from qiskit-terra>=0.22->qiskit-machine-learning) (0.9.2)\n",
            "Requirement already satisfied: stevedore>=3.0.0 in /usr/local/lib/python3.10/dist-packages (from qiskit-terra>=0.22->qiskit-machine-learning) (5.0.0)\n",
            "Requirement already satisfied: joblib>=1.1.1 in /usr/local/lib/python3.10/dist-packages (from scikit-learn>=0.20.0->qiskit-machine-learning) (1.2.0)\n",
            "Requirement already satisfied: threadpoolctl>=2.0.0 in /usr/local/lib/python3.10/dist-packages (from scikit-learn>=0.20.0->qiskit-machine-learning) (3.1.0)\n",
            "Requirement already satisfied: six>=1.5 in /usr/local/lib/python3.10/dist-packages (from python-dateutil>=2.8.0->qiskit-terra>=0.22->qiskit-machine-learning) (1.16.0)\n",
            "Requirement already satisfied: pbr!=2.1.0,>=2.0.0 in /usr/local/lib/python3.10/dist-packages (from stevedore>=3.0.0->qiskit-terra>=0.22->qiskit-machine-learning) (5.11.1)\n",
            "Requirement already satisfied: mpmath>=0.19 in /usr/local/lib/python3.10/dist-packages (from sympy>=1.3->qiskit-terra>=0.22->qiskit-machine-learning) (1.3.0)\n",
            "Building wheels for collected packages: fastdtw\n",
            "  Building wheel for fastdtw (setup.py) ... \u001b[?25l\u001b[?25hdone\n",
            "  Created wheel for fastdtw: filename=fastdtw-0.3.4-cp310-cp310-linux_x86_64.whl size=517915 sha256=ee3506f2a37bfd436d13385d11a6ac52d12feb9921f150678059cafd82cd2135\n",
            "  Stored in directory: /root/.cache/pip/wheels/73/c8/f7/c25448dab74c3acf4848bc25d513c736bb93910277e1528ef4\n",
            "Successfully built fastdtw\n",
            "Installing collected packages: fastdtw, dill, qiskit-machine-learning\n",
            "  Attempting uninstall: dill\n",
            "    Found existing installation: dill 0.3.6\n",
            "    Uninstalling dill-0.3.6:\n",
            "      Successfully uninstalled dill-0.3.6\n",
            "Successfully installed dill-0.3.5.1 fastdtw-0.3.4 qiskit-machine-learning-0.6.0\n"
          ]
        }
      ],
      "source": [
        "!pip install qiskit --upgrade\n",
        "!pip install qiskit-machine-learning"
      ]
    },
    {
      "cell_type": "code",
      "execution_count": 2,
      "metadata": {
        "id": "Ubhc6OH847oq"
      },
      "outputs": [],
      "source": [
        "import torch\n",
        "from qiskit.utils import algorithm_globals\n",
        "\n",
        "algorithm_globals.random_seed = 123456\n",
        "_ = torch.manual_seed(123456)  # suppress output"
      ]
    },
    {
      "cell_type": "markdown",
      "metadata": {
        "id": "hy2IN-Qu47os"
      },
      "source": [
        "We fix the number of dimensions, the discretization number and compute the number of qubits required as $2^3 = 8$."
      ]
    },
    {
      "cell_type": "code",
      "execution_count": null,
      "metadata": {
        "id": "UokIb-z147os"
      },
      "outputs": [],
      "source": [
        "import numpy as np\n",
        "\n",
        "num_dim = 2\n",
        "num_discrete_values = 8\n",
        "num_qubits = num_dim * int(np.log2(num_discrete_values))"
      ]
    },
    {
      "cell_type": "markdown",
      "metadata": {
        "id": "OgkREPuT47ot"
      },
      "source": [
        "Then, we prepare a discrete distribution from the continuous 2D normal distribution. We evaluate the continuous probability density function (PDF) on the grid $(-2, 2)^2$ with a discretization of $8$ values per feature. Thus, we have $64$ values of the PDF. Since this will be a discrete distribution we normalize the obtained probabilities."
      ]
    },
    {
      "cell_type": "code",
      "execution_count": null,
      "metadata": {
        "id": "MGMRS2Rd47ot"
      },
      "outputs": [],
      "source": [
        "from scipy.stats import multivariate_normal\n",
        "\n",
        "coords = np.linspace(-2, 2, num_discrete_values)\n",
        "rv = multivariate_normal(mean=[0.0, 0.0], cov=[[1, 0], [0, 1]], seed=algorithm_globals.random_seed)\n",
        "grid_elements = np.transpose([np.tile(coords, len(coords)), np.repeat(coords, len(coords))])\n",
        "prob_data = rv.pdf(grid_elements)\n",
        "prob_data = prob_data / np.sum(prob_data)"
      ]
    },
    {
      "cell_type": "markdown",
      "metadata": {
        "id": "xGrNC-kB47ou"
      },
      "source": [
        "Let's visualize our distribution. It is a nice bell-shaped bivariate normal distribution on a discrete grid."
      ]
    },
    {
      "cell_type": "code",
      "execution_count": null,
      "metadata": {
        "colab": {
          "base_uri": "https://localhost:8080/",
          "height": 595
        },
        "id": "xT7U_lxi47ov",
        "outputId": "794ee848-88f7-4c6a-fab4-9724d812873e"
      },
      "outputs": [
        {
          "output_type": "display_data",
          "data": {
            "text/plain": [
              "<Figure size 900x900 with 2 Axes>"
            ],
            "image/png": "[encoded data removed]"
          },
          "metadata": {}
        }
      ],
      "source": [
        "import matplotlib.pyplot as plt\n",
        "from matplotlib import cm\n",
        "\n",
        "mesh_x, mesh_y = np.meshgrid(coords, coords)\n",
        "grid_shape = (num_discrete_values, num_discrete_values)\n",
        "\n",
        "fig, ax = plt.subplots(figsize=(9, 9), subplot_kw={\"projection\": \"3d\"})\n",
        "prob_grid = np.reshape(prob_data, grid_shape)\n",
        "surf = ax.plot_surface(mesh_x, mesh_y, prob_grid, cmap=cm.coolwarm, linewidth=0, antialiased=False)\n",
        "fig.colorbar(surf, shrink=0.5, aspect=5)\n",
        "plt.show()"
      ]
    },
    {
      "cell_type": "markdown",
      "metadata": {
        "id": "so4IalED47ow"
      },
      "source": [
        "## 3. Definitions of the Neural Networks\n",
        "In this section we define two neural networks as described above:\n",
        "\n",
        "- A quantum generator as a quantum neural network.\n",
        "- A classical discriminator as a PyTorch-based neural network.\n",
        "\n",
        "### 3.1. Definition of the quantum neural network ansatz\n",
        "\n",
        "Now, we define the parameterized quantum circuit $G\\left(\\boldsymbol{\\theta}\\right)$ with $\\boldsymbol{\\theta} = {\\theta_1, ..., \\theta_k}$ which will be used in our quantum generator.\n",
        "\n",
        "To implement the quantum generator, we choose a hardware efficient ansatz with $6$ repetitions. The ansatz implements $R_Y$, $R_Z$ rotations and $CX$ gates which takes a uniform distribution as an input state. Notably, for $k>1$ the generator's parameters must be chosen carefully. For example, the circuit depth should be more than $1$ because higher circuit depths enable the representation of more complex structures. Here, we construct quite a deep circuit with a large number of parameters to be able to adequately capture and represent the distribution."
      ]
    },
    {
      "cell_type": "code",
      "execution_count": null,
      "metadata": {
        "id": "Yy2pA5bB47ox"
      },
      "outputs": [],
      "source": [
        "from qiskit import QuantumCircuit\n",
        "from qiskit.circuit.library import EfficientSU2\n",
        "\n",
        "qc = QuantumCircuit(num_qubits)\n",
        "qc.h(qc.qubits)\n",
        "\n",
        "#ansatz = EfficientSU2(num_qubits, su2_gates=['ry'], entanglement='circular', reps=1,insert_barriers=True)\n",
        "ansatz = EfficientSU2(num_qubits, reps=6,insert_barriers=True)\n",
        "qc.compose(ansatz, inplace=True)"
      ]
    },
    {
      "cell_type": "code",
      "execution_count": null,
      "metadata": {
        "id": "RFTajAiTK40k"
      },
      "outputs": [],
      "source": [
        "from qiskit import QuantumCircuit\n",
        "from qiskit.circuit.library import TwoLocal\n",
        "qc_zofal = TwoLocal(num_qubits,\n",
        "                     # Parameterized single qubit rotations\n",
        "                     ['ry'],\n",
        "                     'cz',  # Entangling gate\n",
        "                     'full', # Entanglement structure: all to all\n",
        "                     reps=6, # Number of layers\n",
        "                     parameter_prefix='θ_g',\n",
        "                     name='Generator',\n",
        "                    insert_barriers=True)\n",
        "qc_zofa = qc_zofal.decompose() # decompose into standard gates\n",
        "#qc_zofal.decompose().draw()\n",
        "\n"
      ]
    },
    {
      "cell_type": "code",
      "execution_count": null,
      "metadata": {
        "id": "nV8WFIv_5Wcm",
        "outputId": "bfd2ed32-2ccf-4c2b-c627-ef508face93e",
        "colab": {
          "base_uri": "https://localhost:8080/"
        }
      },
      "outputs": [
        {
          "output_type": "stream",
          "name": "stderr",
          "text": [
            "<ipython-input-8-ad2bbe9131a4>:20: DeprecationWarning: The class ``qiskit.utils.quantum_instance.QuantumInstance`` is deprecated as of qiskit-terra 0.24.0. It will be removed no earlier than 3 months after the release date. For code migration guidelines, visit https://qisk.it/qi_migration.\n",
            "  quantum_instance = QuantumInstance(Aer.get_backend('qasm_simulator'),noise_model=noise_model, shots=64,seed_simulator=algorithm_globals.random_seed)\n"
          ]
        }
      ],
      "source": [
        "from qiskit import Aer\n",
        "from qiskit.providers.aer.noise import NoiseModel\n",
        "from qiskit.utils import QuantumInstance\n",
        "from qiskit.providers.aer.noise.errors import pauli_error, depolarizing_error\n",
        "\n",
        "def get_noise(p_meas,p_gate):\n",
        "\n",
        "    error_meas = pauli_error([('X',p_meas), ('I', 1 - p_meas)])\n",
        "    error_gate1 = depolarizing_error(p_gate, 1)\n",
        "    error_gate2 = error_gate1.tensor(error_gate1)\n",
        "\n",
        "    noise_model = NoiseModel()\n",
        "    noise_model.add_all_qubit_quantum_error(error_meas, \"measure\") # measurement error is applied to measurements\n",
        "    noise_model.add_all_qubit_quantum_error(error_gate1, [\"x\"]) # single qubit gate error is applied to x gates\n",
        "    noise_model.add_all_qubit_quantum_error(error_gate2, [\"cx\"]) # two qubit gate error is applied to cx gates\n",
        "        \n",
        "    return noise_model\n",
        "noise_model = get_noise(0,0) \n",
        "\n",
        "quantum_instance = QuantumInstance(Aer.get_backend('qasm_simulator'),noise_model=noise_model, shots=64,seed_simulator=algorithm_globals.random_seed)\n",
        " \n"
      ]
    },
    {
      "cell_type": "code",
      "execution_count": null,
      "metadata": {
        "id": "AazawZuROTSK"
      },
      "outputs": [],
      "source": [
        "from qiskit_machine_learning.neural_networks import CircuitQNN\n",
        "from qiskit_machine_learning.algorithms import QGAN\n",
        "from qiskit import Aer\n",
        "from qiskit.providers.aer.noise import NoiseModel\n",
        "\n",
        "# Create a quantum circuit and a quantum neural network\n",
        "qc_n = QuantumCircuit(2)\n",
        "qc_n.h(0)\n",
        "qc_n.cx(0, 1)\n",
        "qnn = CircuitQNN(qc_n)\n",
        "\n",
        "\n"
      ]
    },
    {
      "cell_type": "markdown",
      "metadata": {
        "id": "IxzQjUkS47ox"
      },
      "source": [
        "Let's draw our circuit and see what it looks like. On the plot we may notice a pattern that appears $6$ times."
      ]
    },
    {
      "cell_type": "code",
      "execution_count": null,
      "metadata": {
        "id": "AjKy7Um76KPp"
      },
      "outputs": [],
      "source": [
        "#qc.decompose().draw()"
      ]
    },
    {
      "cell_type": "markdown",
      "metadata": {
        "id": "m_JyZAVF47oy"
      },
      "source": [
        "Let's print the number of trainable parameters."
      ]
    },
    {
      "cell_type": "code",
      "execution_count": null,
      "metadata": {
        "colab": {
          "base_uri": "https://localhost:8080/"
        },
        "id": "Mzyimb_547oz",
        "outputId": "01c5aa22-e0fe-4dcd-bdde-cb92a5a21d8a"
      },
      "outputs": [
        {
          "output_type": "execute_result",
          "data": {
            "text/plain": [
              "84"
            ]
          },
          "metadata": {},
          "execution_count": 11
        }
      ],
      "source": [
        "qc.num_parameters"
      ]
    },
    {
      "cell_type": "code",
      "execution_count": null,
      "metadata": {
        "colab": {
          "base_uri": "https://localhost:8080/"
        },
        "id": "EGf52JfrUCbf",
        "outputId": "fcd3c34e-8227-4e49-9165-d4890abe3763"
      },
      "outputs": [
        {
          "output_type": "execute_result",
          "data": {
            "text/plain": [
              "42"
            ]
          },
          "metadata": {},
          "execution_count": 12
        }
      ],
      "source": [
        "qc_zofal.num_parameters"
      ]
    },
    {
      "cell_type": "markdown",
      "metadata": {
        "id": "x7-iF5qK47oz"
      },
      "source": [
        "### 3.2. Definition of the quantum generator\n",
        "\n",
        "We start defining the generator by creating a sampler for the ansatz. The reference implementation is a statevector-based implementation, thus it returns exact probabilities as a result of circuit execution. We add the `shots` parameter to add some noise to the results. In this case the implementation samples probabilities from the multinomial distribution constructed from the measured quasi probabilities. And as usual we fix the seed for reproducibility purposes."
      ]
    },
    {
      "cell_type": "code",
      "execution_count": null,
      "metadata": {
        "id": "u8Pz6dmO47oz"
      },
      "outputs": [],
      "source": [
        "from qiskit.primitives import Sampler\n",
        "\n",
        "shots = 10000\n",
        "sampler = Sampler(options={\"shots\": shots, \"seed\": algorithm_globals.random_seed})"
      ]
    },
    {
      "cell_type": "markdown",
      "metadata": {
        "id": "C4MS-1nX47o0"
      },
      "source": [
        "Next, we define a function that creates the quantum generator from a given parameterized quantum circuit. Inside this function we create a neural network that returns the quasi probability distribution evaluated by the underlying Sampler. We fix `initial_weights` for reproducibility purposes. In the end we wrap the created quantum neural network in `TorchConnector` to make use of PyTorch-based training."
      ]
    },
    {
      "cell_type": "code",
      "execution_count": null,
      "metadata": {
        "id": "kOd_8J-O47o0"
      },
      "outputs": [],
      "source": [
        "from qiskit_machine_learning.connectors import TorchConnector\n",
        "from qiskit_machine_learning.neural_networks import SamplerQNN\n",
        "\n",
        "\n",
        "def create_generator() -> TorchConnector:\n",
        "    qnn = SamplerQNN(\n",
        "        circuit=qc,\n",
        "        sampler=sampler,\n",
        "        input_params=[],\n",
        "        weight_params=qc.parameters,\n",
        "        sparse=False,\n",
        "    )\n",
        "\n",
        "    initial_weights = algorithm_globals.random.random(qc.num_parameters)\n",
        "    return TorchConnector(qnn, initial_weights)\n",
        "\n",
        "def create_generator_noise() -> TorchConnector:\n",
        "    qnn = CircuitQNN(\n",
        "        circuit=qc,\n",
        "        sampling='true',\n",
        "        input_params=[],\n",
        "        weight_params=qc.parameters,\n",
        "        sparse=False,\n",
        "        quantum_instance=quantum_instance\n",
        "    )\n",
        "\n",
        "    initial_weights = algorithm_globals.random.random(qc.num_parameters)\n",
        "    return TorchConnector(qnn, initial_weights)    \n",
        "    \n",
        "def create_generator_zofal() -> TorchConnector:\n",
        "    qnn = SamplerQNN(\n",
        "        circuit=qc_zofal,\n",
        "        sampler=sampler,\n",
        "        input_params=[],\n",
        "        weight_params=qc_zofal.parameters,\n",
        "        sparse=False,\n",
        "    )\n",
        "\n",
        "    initial_weights = algorithm_globals.random.random(qc_zofal.num_parameters)\n",
        "    return TorchConnector(qnn, initial_weights)    "
      ]
    },
    {
      "cell_type": "markdown",
      "metadata": {
        "id": "zWpVizuZ47o1"
      },
      "source": [
        "### 3.3. Definition of the classical discriminator\n",
        "\n",
        "Next, we define a PyTorch-based classical neural network that represents the classical discriminator. The underlying gradients can be automatically computed with PyTorch."
      ]
    },
    {
      "cell_type": "code",
      "execution_count": null,
      "metadata": {
        "id": "oitU_4gm47o1"
      },
      "outputs": [],
      "source": [
        "from torch import nn\n",
        "\n",
        "\n",
        "class Discriminator(nn.Module):\n",
        "    def __init__(self, input_size):\n",
        "        super(Discriminator, self).__init__()\n",
        "\n",
        "        self.linear_input = nn.Linear(input_size, 20)\n",
        "        self.leaky_relu = nn.LeakyReLU(0.2)\n",
        "        self.linear20 = nn.Linear(20, 1)\n",
        "        self.sigmoid = nn.Sigmoid()\n",
        "\n",
        "    def forward(self, input: torch.Tensor) -> torch.Tensor:\n",
        "        x = self.linear_input(input)\n",
        "        x = self.leaky_relu(x)\n",
        "        x = self.linear20(x)\n",
        "        x = self.sigmoid(x)\n",
        "        return x\n",
        "      "
      ]
    },
    {
      "cell_type": "markdown",
      "metadata": {
        "id": "Bz_sNGS047o1"
      },
      "source": [
        "### 3.4. Create a generator and a discriminator\n",
        "\n",
        "Now we create a generator and a discriminator."
      ]
    },
    {
      "cell_type": "code",
      "execution_count": null,
      "metadata": {
        "id": "L8nfGBX247o2",
        "outputId": "a0326cb5-7208-4aba-9a96-47dc26de0367",
        "colab": {
          "base_uri": "https://localhost:8080/",
          "height": 240
        }
      },
      "outputs": [
        {
          "output_type": "error",
          "ename": "NameError",
          "evalue": "ignored",
          "traceback": [
            "\u001b[0;31m---------------------------------------------------------------------------\u001b[0m",
            "\u001b[0;31mNameError\u001b[0m                                 Traceback (most recent call last)",
            "\u001b[0;32m<ipython-input-16-961670175e20>\u001b[0m in \u001b[0;36m<cell line: 2>\u001b[0;34m()\u001b[0m\n\u001b[1;32m      1\u001b[0m \u001b[0mgenerator\u001b[0m \u001b[0;34m=\u001b[0m \u001b[0mcreate_generator\u001b[0m\u001b[0;34m(\u001b[0m\u001b[0;34m)\u001b[0m\u001b[0;34m\u001b[0m\u001b[0;34m\u001b[0m\u001b[0m\n\u001b[0;32m----> 2\u001b[0;31m \u001b[0mgeneratornoise\u001b[0m \u001b[0;34m=\u001b[0m \u001b[0mgeneratot\u001b[0m\u001b[0;34m.\u001b[0m\u001b[0mfit\u001b[0m\u001b[0;34m(\u001b[0m\u001b[0mnoise_model\u001b[0m\u001b[0;34m=\u001b[0m\u001b[0mnoise_model\u001b[0m\u001b[0;34m)\u001b[0m\u001b[0;34m\u001b[0m\u001b[0;34m\u001b[0m\u001b[0m\n\u001b[0m\u001b[1;32m      3\u001b[0m \u001b[0mgenerator_zofal\u001b[0m \u001b[0;34m=\u001b[0m \u001b[0mcreate_generator_zofal\u001b[0m\u001b[0;34m(\u001b[0m\u001b[0;34m)\u001b[0m\u001b[0;34m\u001b[0m\u001b[0;34m\u001b[0m\u001b[0m\n\u001b[1;32m      4\u001b[0m \u001b[0mgenerator_noise\u001b[0m \u001b[0;34m=\u001b[0m \u001b[0mcreate_generator_noise\u001b[0m\u001b[0;34m(\u001b[0m\u001b[0;34m)\u001b[0m\u001b[0;34m\u001b[0m\u001b[0;34m\u001b[0m\u001b[0m\n\u001b[1;32m      5\u001b[0m \u001b[0mdiscriminator\u001b[0m \u001b[0;34m=\u001b[0m \u001b[0mDiscriminator\u001b[0m\u001b[0;34m(\u001b[0m\u001b[0mnum_dim\u001b[0m\u001b[0;34m)\u001b[0m\u001b[0;34m\u001b[0m\u001b[0;34m\u001b[0m\u001b[0m\n",
            "\u001b[0;31mNameError\u001b[0m: name 'generatot' is not defined"
          ]
        }
      ],
      "source": [
        "generator = create_generator()\n",
        "generatornoise = generatot.fit(noise_model=noise_model)\n",
        "generator_zofal = create_generator_zofal()\n",
        "generator_noise = create_generator_noise()\n",
        "discriminator = Discriminator(num_dim)"
      ]
    },
    {
      "cell_type": "markdown",
      "metadata": {
        "id": "7arpNXCi47o2"
      },
      "source": [
        "## 4. Setting up the Training Loop\n",
        "In this section we set up:\n",
        "\n",
        "- A loss function for the generator and discriminator.\n",
        "- Optimizers for both.\n",
        "- A utility plotting function to visualize training process.\n",
        "\n",
        "### 4.1. Definition of the loss functions\n",
        "We want to train the generator and the discriminator with binary cross entropy as the loss function:\n",
        "$$L\\left(\\boldsymbol{\\theta}\\right)=\\sum_jp_j\\left(\\boldsymbol{\\theta}\\right)\\left[y_j\\log(x_j) + (1-y_j)\\log(1-x_j)\\right],$$\n",
        "where $x_j$ refers to a data sample and $y_j$ to the corresponding label.\n",
        "\n",
        "Since PyTorch's `binary_cross_entropy` is not differentiable with respect to weights, we implement the loss function manually to be able to evaluate gradients."
      ]
    },
    {
      "cell_type": "code",
      "execution_count": null,
      "metadata": {
        "id": "9HufAKqC47o2"
      },
      "outputs": [],
      "source": [
        "def adversarial_loss(input, target, w):\n",
        "    bce_loss = target * torch.log(input) + (1 - target) * torch.log(1 - input)\n",
        "    weighted_loss = w * bce_loss\n",
        "    total_loss = -torch.sum(weighted_loss)\n",
        "    return total_loss"
      ]
    },
    {
      "cell_type": "markdown",
      "metadata": {
        "id": "d12nrjP147o3"
      },
      "source": [
        "### 4.2. Definition of the optimizers\n",
        "In order to train the generator and discriminator, we need to define optimization schemes. In the following, we employ a momentum based optimizer called Adam, see [Kingma et al., Adam: A method for stochastic optimization](https://arxiv.org/abs/1412.6980) for more details."
      ]
    },
    {
      "cell_type": "code",
      "execution_count": null,
      "metadata": {
        "id": "2ZHUAb6a47o3"
      },
      "outputs": [],
      "source": [
        "from torch.optim import Adam\n",
        "\n",
        "lr = 0.01  # learning rate\n",
        "b1 = 0.7  # first momentum parameter\n",
        "b2 = 0.999  # second momentum parameter\n",
        "\n",
        "generator_optimizer = Adam(generator.parameters(), lr=lr, betas=(b1, b2), weight_decay=0.005)\n",
        "generator_optimizer_noise = Adam(generator_noise.parameters(), lr=lr, betas=(b1, b2), weight_decay=0.005)\n",
        "generator_optimizer_zofal = Adam(generator_zofal.parameters(), lr=lr, betas=(b1, b2), weight_decay=0.005)\n",
        "discriminator_optimizer = Adam(discriminator.parameters(), lr=lr, betas=(b1, b2), weight_decay=0.005)"
      ]
    },
    {
      "cell_type": "markdown",
      "metadata": {
        "id": "kRP4hVFm47o4"
      },
      "source": [
        "### 4.3. Visualization of the training process\n",
        "We will visualize what is happening during the training by plotting the evolution of the generator's and the discriminator's loss functions during the training, as well as the progress in the relative entropy between the trained and the target distribution. We define a function that plots the loss functions and relative entropy. We call this function once an epoch of training is complete.\n",
        "\n",
        "Visualization of the training process begins when training data is collected across two epochs."
      ]
    },
    {
      "cell_type": "code",
      "execution_count": null,
      "metadata": {
        "id": "b6rF1GPx47o4"
      },
      "outputs": [],
      "source": [
        "from IPython.display import clear_output\n",
        "\n",
        "\n",
        "def plot_training_progress():\n",
        "    # we don't plot if we don't have enough data\n",
        "    if len(generator_loss_values) < 2:\n",
        "        return\n",
        "\n",
        "    clear_output(wait=True)\n",
        "    fig, (ax1, ax2) = plt.subplots(1, 2, figsize=(18, 9))\n",
        "\n",
        "    # Generator Loss\n",
        "    ax1.set_title(\"Loss\")\n",
        "    ax1.plot(generator_loss_values, label=\"generator loss\", color=\"royalblue\")\n",
        "    ax1.plot(discriminator_loss_values, label=\"discriminator loss\", color=\"magenta\")\n",
        "    ax1.legend(loc=\"best\")\n",
        "    ax1.set_xlabel(\"Iteration\")\n",
        "    ax1.set_ylabel(\"Loss\")\n",
        "    ax1.grid()\n",
        "\n",
        "    # Relative Entropy\n",
        "    ax2.set_title(\"Relative entropy\")\n",
        "    ax2.plot(entropy_values)\n",
        "    ax2.set_xlabel(\"Iteration\")\n",
        "    ax2.set_ylabel(\"Relative entropy\")\n",
        "    ax2.grid()\n",
        "\n",
        "    plt.show()"
      ]
    },
    {
      "cell_type": "markdown",
      "metadata": {
        "id": "YjAAb41j47o4"
      },
      "source": [
        "## 5. Model Training\n",
        "In the training loop we monitor not only loss functions, but relative entropy as well. The relative entropy describes a distance metric for distributions. Hence, we can use it to benchmark how close/far away the trained distribution is from the target distribution.\n",
        "\n",
        "Now, we are ready to train our model. It may take some time to train the model so be patient."
      ]
    },
    {
      "cell_type": "code",
      "execution_count": null,
      "metadata": {
        "id": "UPoDxJ_I47o5"
      },
      "outputs": [],
      "source": [
        "import time\n",
        "from scipy.stats import multivariate_normal, entropy\n",
        "\n",
        "n_epochs = 50\n",
        "\n",
        "num_qnn_outputs = num_discrete_values**num_dim\n",
        "\n",
        "generator_loss_values = []\n",
        "discriminator_loss_values = []\n",
        "entropy_values = []\n",
        "\n",
        "start = time.time()\n",
        "for epoch in range(n_epochs):\n",
        "\n",
        "    valid = torch.ones(num_qnn_outputs, 1, dtype=torch.float)\n",
        "    fake = torch.zeros(num_qnn_outputs, 1, dtype=torch.float)\n",
        "\n",
        "    # Configure input\n",
        "    real_dist = torch.tensor(prob_data, dtype=torch.float).reshape(-1, 1)\n",
        "\n",
        "    # Configure samples\n",
        "    samples = torch.tensor(grid_elements, dtype=torch.float)\n",
        "    disc_value = discriminator(samples)\n",
        "\n",
        "    # Generate data\n",
        "    gen_dist = generator(torch.tensor([])).reshape(-1, 1)\n",
        "\n",
        "    # Train generator\n",
        "    generator_optimizer.zero_grad()\n",
        "    generator_loss = adversarial_loss(disc_value, valid, gen_dist)\n",
        "\n",
        "    # store for plotting\n",
        "    generator_loss_values.append(generator_loss.detach().item())\n",
        "\n",
        "    generator_loss.backward(retain_graph=True)\n",
        "    generator_optimizer.step()\n",
        "\n",
        "    # Train Discriminator\n",
        "    discriminator_optimizer.zero_grad()\n",
        "\n",
        "    real_loss = adversarial_loss(disc_value, valid, real_dist)\n",
        "    fake_loss = adversarial_loss(disc_value, fake, gen_dist.detach())\n",
        "    discriminator_loss = (real_loss + fake_loss) / 2\n",
        "\n",
        "    # Store for plotting\n",
        "    discriminator_loss_values.append(discriminator_loss.detach().item())\n",
        "\n",
        "    discriminator_loss.backward()\n",
        "    discriminator_optimizer.step()\n",
        "\n",
        "    entropy_value = entropy(gen_dist.detach().squeeze().numpy(), prob_data)\n",
        "    entropy_values.append(entropy_value)\n",
        "\n",
        "    plot_training_progress()\n",
        "\n",
        "elapsed = time.time() - start\n",
        "print(f\"Fit in {elapsed:0.2f} sec\")"
      ]
    },
    {
      "cell_type": "code",
      "execution_count": null,
      "metadata": {
        "id": "7mIGD5EhQmvU"
      },
      "outputs": [],
      "source": [
        "###zofal quantum circuit\n",
        "import time\n",
        "from scipy.stats import multivariate_normal, entropy\n",
        "\n",
        "n_epochs = 50\n",
        "\n",
        "num_qnn_outputs = num_discrete_values**num_dim\n",
        "\n",
        "generator_loss_values = []\n",
        "discriminator_loss_values = []\n",
        "entropy_values = []\n",
        "\n",
        "start = time.time()\n",
        "for epoch in range(n_epochs):\n",
        "\n",
        "    valid = torch.ones(num_qnn_outputs, 1, dtype=torch.float)\n",
        "    fake = torch.zeros(num_qnn_outputs, 1, dtype=torch.float)\n",
        "\n",
        "    # Configure input\n",
        "    real_dist = torch.tensor(prob_data, dtype=torch.float).reshape(-1, 1)\n",
        "\n",
        "    # Configure samples\n",
        "    samples = torch.tensor(grid_elements, dtype=torch.float)\n",
        "    disc_value = discriminator(samples)\n",
        "\n",
        "    # Generate data\n",
        "    gen_dist = generator_zofal(torch.tensor([])).reshape(-1, 1)\n",
        "\n",
        "    # Train generator\n",
        "    generator_optimizer_zofal.zero_grad()\n",
        "    generator_loss = adversarial_loss(disc_value, valid, gen_dist)\n",
        "\n",
        "    # store for plotting\n",
        "    generator_loss_values.append(generator_loss.detach().item())\n",
        "\n",
        "    generator_loss.backward(retain_graph=True)\n",
        "    generator_optimizer_zofal.step()\n",
        "\n",
        "    # Train Discriminator\n",
        "    discriminator_optimizer.zero_grad()\n",
        "\n",
        "    real_loss = adversarial_loss(disc_value, valid, real_dist)\n",
        "    fake_loss = adversarial_loss(disc_value, fake, gen_dist.detach())\n",
        "    discriminator_loss = (real_loss + fake_loss) / 2\n",
        "\n",
        "    # Store for plotting\n",
        "    discriminator_loss_values.append(discriminator_loss.detach().item())\n",
        "\n",
        "    discriminator_loss.backward()\n",
        "    discriminator_optimizer.step()\n",
        "\n",
        "    entropy_value = entropy(gen_dist.detach().squeeze().numpy(), prob_data)\n",
        "    entropy_values.append(entropy_value)\n",
        "\n",
        "    plot_training_progress()\n",
        "\n",
        "elapsed = time.time() - start\n",
        "print(f\"Fit in {elapsed:0.2f} sec\")"
      ]
    },
    {
      "cell_type": "code",
      "execution_count": null,
      "metadata": {
        "id": "ouoXcAHsuRLR"
      },
      "outputs": [],
      "source": [
        "#noise\n",
        "import time\n",
        "from scipy.stats import multivariate_normal, entropy\n",
        "\n",
        "n_epochs = 50\n",
        "\n",
        "num_qnn_outputs = num_discrete_values**num_dim\n",
        "\n",
        "generator_loss_values = []\n",
        "discriminator_loss_values = []\n",
        "entropy_values = []\n",
        "\n",
        "start = time.time()\n",
        "for epoch in range(n_epochs):\n",
        "\n",
        "    valid = torch.ones(num_qnn_outputs, 1, dtype=torch.float)\n",
        "    fake = torch.zeros(num_qnn_outputs, 1, dtype=torch.float)\n",
        "\n",
        "    # Configure input\n",
        "    real_dist = torch.tensor(prob_data, dtype=torch.float).reshape(-1, 1)\n",
        "\n",
        "    # Configure samples\n",
        "    samples = torch.tensor(grid_elements, dtype=torch.float)\n",
        "    disc_value = discriminator(samples)\n",
        "\n",
        "    # Generate data\n",
        "    gen_dist = generator_noise(torch.tensor([])).reshape(-1, 1)\n",
        "\n",
        "    # Train generator\n",
        "    generator_optimizer_noise.zero_grad()\n",
        "    generator_loss = adversarial_loss(disc_value, valid, gen_dist)\n",
        "\n",
        "    # store for plotting\n",
        "    generator_loss_values.append(generator_loss.detach().item())\n",
        "\n",
        "    generator_loss.backward(retain_graph=True)\n",
        "    generator_optimizer_noise.step()\n",
        "\n",
        "    # Train Discriminator\n",
        "    discriminator_optimizer.zero_grad()\n",
        "\n",
        "    real_loss = adversarial_loss(disc_value, valid, real_dist)\n",
        "    fake_loss = adversarial_loss(disc_value, fake, gen_dist.detach())\n",
        "    discriminator_loss = (real_loss + fake_loss) / 2\n",
        "\n",
        "    # Store for plotting\n",
        "    discriminator_loss_values.append(discriminator_loss.detach().item())\n",
        "\n",
        "    discriminator_loss.backward()\n",
        "    discriminator_optimizer.step()\n",
        "\n",
        "    entropy_value = entropy(gen_dist.detach().squeeze().numpy(), prob_data)\n",
        "    entropy_values.append(entropy_value)\n",
        "\n",
        "    plot_training_progress()\n",
        "\n",
        "elapsed = time.time() - start\n",
        "print(f\"Fit in {elapsed:0.2f} sec\")"
      ]
    },
    {
      "cell_type": "markdown",
      "metadata": {
        "id": "Ly4ekHcp47o5"
      },
      "source": [
        "## 6. Results: Cumulative Density Functions\n",
        "In this section we compare the cumulative distribution function (CDF) of the trained distribution to the CDF of the target distribution.\n",
        "\n",
        "First, we generate a new probability distribution with PyTorch autograd turned off as we are not going to train the model anymore."
      ]
    },
    {
      "cell_type": "code",
      "execution_count": null,
      "metadata": {
        "id": "7KM7z7P247o5"
      },
      "outputs": [],
      "source": [
        "with torch.no_grad():\n",
        "    generated_probabilities = generator().numpy()"
      ]
    },
    {
      "cell_type": "code",
      "execution_count": null,
      "metadata": {
        "id": "CU_dQGw_RK-8"
      },
      "outputs": [],
      "source": [
        "with torch.no_grad():\n",
        "    generated_probabilities_zofal = generator_zofal().numpy()"
      ]
    },
    {
      "cell_type": "markdown",
      "metadata": {
        "id": "e-WV-GRn47o6"
      },
      "source": [
        "And then, we plot the cumulative distribution functions of the generated distribution, original distribution, and the difference between them. Please, be careful, the scale on the third plot **is not the same** as on the first and second plot, and the actual difference between the two plotted CDFs is pretty small."
      ]
    },
    {
      "cell_type": "code",
      "execution_count": null,
      "metadata": {
        "id": "MsHFvyJC47o6"
      },
      "outputs": [],
      "source": [
        "fig = plt.figure(figsize=(18, 9))\n",
        "\n",
        "# Generated CDF\n",
        "gen_prob_grid = np.reshape(np.cumsum(generated_probabilities), grid_shape)\n",
        "\n",
        "ax1 = fig.add_subplot(1, 3, 1, projection=\"3d\")\n",
        "ax1.set_title(\"Generated CDF\")\n",
        "ax1.plot_surface(mesh_x, mesh_y, gen_prob_grid, linewidth=0, antialiased=False, cmap=cm.coolwarm)\n",
        "ax1.set_zlim(-0.05, 1.05)\n",
        "\n",
        "# Real CDF\n",
        "real_prob_grid = np.reshape(np.cumsum(prob_data), grid_shape)\n",
        "\n",
        "ax2 = fig.add_subplot(1, 3, 2, projection=\"3d\")\n",
        "ax2.set_title(\"True CDF\")\n",
        "ax2.plot_surface(mesh_x, mesh_y, real_prob_grid, linewidth=0, antialiased=False, cmap=cm.coolwarm)\n",
        "ax2.set_zlim(-0.05, 1.05)\n",
        "\n",
        "# Difference\n",
        "ax3 = fig.add_subplot(1, 3, 3, projection=\"3d\")\n",
        "ax3.set_title(\"Difference between CDFs\")\n",
        "ax3.plot_surface(\n",
        "    mesh_x, mesh_y, real_prob_grid - gen_prob_grid, linewidth=2, antialiased=False, cmap=cm.coolwarm\n",
        ")\n",
        "ax3.set_zlim(-0.05, 0.1)\n",
        "plt.show()"
      ]
    },
    {
      "cell_type": "code",
      "execution_count": null,
      "metadata": {
        "id": "t4bQds5LRWaX"
      },
      "outputs": [],
      "source": [
        "###zofal\n",
        "fig_zofal = plt.figure(figsize=(18, 9))\n",
        "\n",
        "# Generated CDF\n",
        "gen_prob_grid_zofal = np.reshape(np.cumsum(generated_probabilities_zofal), grid_shape)\n",
        "\n",
        "ax1 = fig_zofal.add_subplot(1, 4, 1, projection=\"3d\")\n",
        "ax1.set_title(\"Generated CDF\")\n",
        "ax1.plot_surface(mesh_x, mesh_y, gen_prob_grid, linewidth=0, antialiased=False, cmap=cm.coolwarm)\n",
        "ax1.set_zlim(-0.05, 1.05)\n",
        "\n",
        "# Real CDF\n",
        "real_prob_grid = np.reshape(np.cumsum(prob_data), grid_shape)\n",
        "\n",
        "ax2 = fig_zofal.add_subplot(1, 4, 2, projection=\"3d\")\n",
        "ax2.set_title(\"True CDF\")\n",
        "ax2.plot_surface(mesh_x, mesh_y, real_prob_grid, linewidth=0, antialiased=False, cmap=cm.coolwarm)\n",
        "ax2.set_zlim(-0.05, 1.05)\n",
        "\n",
        "# Difference\n",
        "ax3 = fig_zofal.add_subplot(1, 4, 3, projection=\"3d\")\n",
        "ax3.set_title(\"Difference between CDFs\")\n",
        "ax3.plot_surface(\n",
        "    mesh_x, mesh_y, real_prob_grid - gen_prob_grid, linewidth=2, antialiased=False, cmap=cm.coolwarm\n",
        ")\n",
        "ax3.set_zlim(-0.05, 0.1)\n",
        "\n",
        "# Difference zofal and torch\n",
        "ax4 = fig_zofal.add_subplot(1, 4, 4, projection=\"3d\")\n",
        "ax4.set_title(\"Difference Generated CDF of zofal and torch\")\n",
        "ax4.plot_surface(\n",
        "    mesh_x, mesh_y, gen_prob_grid_zofal - gen_prob_grid, linewidth=2, antialiased=False, cmap=cm.coolwarm\n",
        ")\n",
        "ax3.set_zlim(-0.05, 0.1)\n",
        "plt.show()"
      ]
    },
    {
      "cell_type": "markdown",
      "metadata": {
        "id": "yDMBa3jb47o6"
      },
      "source": [
        "## 7. Conclusion\n",
        "\n",
        "Quantum generative adversarial networks employ the interplay of a generator and discriminator to map an approximate representation of a probability distribution underlying given data samples into a quantum channel. This tutorial presents a self-standing PyTorch-based qGAN implementation where the generator is given by a quantum channel, i.e., a variational quantum circuit, and the discriminator by a classical neural network, and discusses the application of efficient learning and loading of generic probability distributions into quantum states. The loading requires $\\mathscr{O}\\left(poly\\left(n\\right)\\right)$ gates and can thus enable the use of potentially advantageous quantum algorithms."
      ]
    },
    {
      "cell_type": "code",
      "execution_count": null,
      "metadata": {
        "id": "qUbnjXIV47o7"
      },
      "outputs": [],
      "source": [
        "import qiskit.tools.jupyter\n",
        "\n",
        "%qiskit_version_table\n",
        "%qiskit_copyright"
      ]
    }
  ],
  "metadata": {
    "accelerator": "GPU",
    "celltoolbar": "Tags",
    "colab": {
      "provenance": [],
      "include_colab_link": true
    },
    "gpuClass": "standard",
    "kernelspec": {
      "display_name": "Python 3 (ipykernel)",
      "language": "python",
      "name": "python3"
    },
    "language_info": {
      "codemirror_mode": {
        "name": "ipython",
        "version": 3
      },
      "file_extension": ".py",
      "mimetype": "text/x-python",
      "name": "python",
      "nbconvert_exporter": "python",
      "pygments_lexer": "ipython3",
      "version": "3.9.13"
    }
  },
  "nbformat": 4,
  "nbformat_minor": 0
}