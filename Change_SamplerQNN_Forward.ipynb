{
  "nbformat": 4,
  "nbformat_minor": 0,
  "metadata": {
    "colab": {
      "provenance": [],
      "authorship_tag": "ABX9TyNBEjSaEkBgwD2Fr1QIn/LX",
      "include_colab_link": true
    },
    "kernelspec": {
      "name": "python3",
      "display_name": "Python 3"
    },
    "language_info": {
      "name": "python"
    }
  },
  "cells": [
    {
      "cell_type": "markdown",
      "metadata": {
        "id": "view-in-github",
        "colab_type": "text"
      },
      "source": [
        "<a href=\"https://colab.research.google.com/github/bathaee/QGAN-EQ-GAN/blob/main/Change_SamplerQNN_Forward.ipynb\" target=\"_parent\"><img src=\"https://colab.research.google.com/assets/colab-badge.svg\" alt=\"Open In Colab\"/></a>"
      ]
    },
    {
      "cell_type": "code",
      "execution_count": 1,
      "metadata": {
        "colab": {
          "base_uri": "https://localhost:8080/"
        },
        "id": "ENpoRdYX3ZaD",
        "outputId": "466b6b7f-c2d3-4b28-8d09-cd2c2fa4b965"
      },
      "outputs": [
        {
          "output_type": "stream",
          "name": "stdout",
          "text": [
            "Looking in indexes: https://pypi.org/simple, https://us-python.pkg.dev/colab-wheels/public/simple/\n",
            "Collecting qiskit\n",
            "  Downloading qiskit-0.43.0.tar.gz (10.0 kB)\n",
            "  Installing build dependencies ... \u001b[?25l\u001b[?25hdone\n",
            "  Getting requirements to build wheel ... \u001b[?25l\u001b[?25hdone\n",
            "  Installing backend dependencies ... \u001b[?25l\u001b[?25hdone\n",
            "  Preparing metadata (pyproject.toml) ... \u001b[?25l\u001b[?25hdone\n",
            "Collecting qiskit-terra==0.24.0 (from qiskit)\n",
            "  Downloading qiskit_terra-0.24.0-cp310-cp310-manylinux_2_17_x86_64.manylinux2014_x86_64.whl (5.9 MB)\n",
            "\u001b[2K     \u001b[90m━━━━━━━━━━━━━━━━━━━━━━━━━━━━━━━━━━━━━━━━\u001b[0m \u001b[32m5.9/5.9 MB\u001b[0m \u001b[31m45.0 MB/s\u001b[0m eta \u001b[36m0:00:00\u001b[0m\n",
            "\u001b[?25hCollecting qiskit-aer==0.12.0 (from qiskit)\n",
            "  Downloading qiskit_aer-0.12.0-cp310-cp310-manylinux_2_17_x86_64.manylinux2014_x86_64.whl (12.8 MB)\n",
            "\u001b[2K     \u001b[90m━━━━━━━━━━━━━━━━━━━━━━━━━━━━━━━━━━━━━━━━\u001b[0m \u001b[32m12.8/12.8 MB\u001b[0m \u001b[31m86.9 MB/s\u001b[0m eta \u001b[36m0:00:00\u001b[0m\n",
            "\u001b[?25hCollecting qiskit-ibmq-provider==0.20.2 (from qiskit)\n",
            "  Downloading qiskit_ibmq_provider-0.20.2-py3-none-any.whl (241 kB)\n",
            "\u001b[2K     \u001b[90m━━━━━━━━━━━━━━━━━━━━━━━━━━━━━━━━━━━━━━\u001b[0m \u001b[32m241.5/241.5 kB\u001b[0m \u001b[31m29.1 MB/s\u001b[0m eta \u001b[36m0:00:00\u001b[0m\n",
            "\u001b[?25hRequirement already satisfied: numpy>=1.16.3 in /usr/local/lib/python3.10/dist-packages (from qiskit-aer==0.12.0->qiskit) (1.22.4)\n",
            "Requirement already satisfied: scipy>=1.0 in /usr/local/lib/python3.10/dist-packages (from qiskit-aer==0.12.0->qiskit) (1.10.1)\n",
            "Requirement already satisfied: requests>=2.19 in /usr/local/lib/python3.10/dist-packages (from qiskit-ibmq-provider==0.20.2->qiskit) (2.27.1)\n",
            "Collecting requests-ntlm<=1.1.0 (from qiskit-ibmq-provider==0.20.2->qiskit)\n",
            "  Downloading requests_ntlm-1.1.0-py2.py3-none-any.whl (5.7 kB)\n",
            "Requirement already satisfied: urllib3>=1.21.1 in /usr/local/lib/python3.10/dist-packages (from qiskit-ibmq-provider==0.20.2->qiskit) (1.26.15)\n",
            "Requirement already satisfied: python-dateutil>=2.8.0 in /usr/local/lib/python3.10/dist-packages (from qiskit-ibmq-provider==0.20.2->qiskit) (2.8.2)\n",
            "Requirement already satisfied: websocket-client>=1.5.1 in /usr/local/lib/python3.10/dist-packages (from qiskit-ibmq-provider==0.20.2->qiskit) (1.5.1)\n",
            "Collecting websockets>=10.0 (from qiskit-ibmq-provider==0.20.2->qiskit)\n",
            "  Downloading websockets-11.0.3-cp310-cp310-manylinux_2_5_x86_64.manylinux1_x86_64.manylinux_2_17_x86_64.manylinux2014_x86_64.whl (129 kB)\n",
            "\u001b[2K     \u001b[90m━━━━━━━━━━━━━━━━━━━━━━━━━━━━━━━━━━━━━━\u001b[0m \u001b[32m129.9/129.9 kB\u001b[0m \u001b[31m18.9 MB/s\u001b[0m eta \u001b[36m0:00:00\u001b[0m\n",
            "\u001b[?25hCollecting rustworkx>=0.12.0 (from qiskit-terra==0.24.0->qiskit)\n",
            "  Downloading rustworkx-0.12.1-cp310-cp310-manylinux_2_17_x86_64.manylinux2014_x86_64.whl (1.9 MB)\n",
            "\u001b[2K     \u001b[90m━━━━━━━━━━━━━━━━━━━━━━━━━━━━━━━━━━━━━━━━\u001b[0m \u001b[32m1.9/1.9 MB\u001b[0m \u001b[31m83.5 MB/s\u001b[0m eta \u001b[36m0:00:00\u001b[0m\n",
            "\u001b[?25hCollecting ply>=3.10 (from qiskit-terra==0.24.0->qiskit)\n",
            "  Downloading ply-3.11-py2.py3-none-any.whl (49 kB)\n",
            "\u001b[2K     \u001b[90m━━━━━━━━━━━━━━━━━━━━━━━━━━━━━━━━━━━━━━━━\u001b[0m \u001b[32m49.6/49.6 kB\u001b[0m \u001b[31m7.1 MB/s\u001b[0m eta \u001b[36m0:00:00\u001b[0m\n",
            "\u001b[?25hRequirement already satisfied: psutil>=5 in /usr/local/lib/python3.10/dist-packages (from qiskit-terra==0.24.0->qiskit) (5.9.5)\n",
            "Requirement already satisfied: sympy>=1.3 in /usr/local/lib/python3.10/dist-packages (from qiskit-terra==0.24.0->qiskit) (1.11.1)\n",
            "Collecting dill>=0.3 (from qiskit-terra==0.24.0->qiskit)\n",
            "  Downloading dill-0.3.6-py3-none-any.whl (110 kB)\n",
            "\u001b[2K     \u001b[90m━━━━━━━━━━━━━━━━━━━━━━━━━━━━━━━━━━━━━━\u001b[0m \u001b[32m110.5/110.5 kB\u001b[0m \u001b[31m14.9 MB/s\u001b[0m eta \u001b[36m0:00:00\u001b[0m\n",
            "\u001b[?25hCollecting stevedore>=3.0.0 (from qiskit-terra==0.24.0->qiskit)\n",
            "  Downloading stevedore-5.0.0-py3-none-any.whl (49 kB)\n",
            "\u001b[2K     \u001b[90m━━━━━━━━━━━━━━━━━━━━━━━━━━━━━━━━━━━━━━━━\u001b[0m \u001b[32m49.6/49.6 kB\u001b[0m \u001b[31m6.5 MB/s\u001b[0m eta \u001b[36m0:00:00\u001b[0m\n",
            "\u001b[?25hCollecting symengine<0.10,>=0.9 (from qiskit-terra==0.24.0->qiskit)\n",
            "  Downloading symengine-0.9.2-cp310-cp310-manylinux2010_x86_64.whl (37.5 MB)\n",
            "\u001b[2K     \u001b[90m━━━━━━━━━━━━━━━━━━━━━━━━━━━━━━━━━━━━━━━━\u001b[0m \u001b[32m37.5/37.5 MB\u001b[0m \u001b[31m22.4 MB/s\u001b[0m eta \u001b[36m0:00:00\u001b[0m\n",
            "\u001b[?25hRequirement already satisfied: six>=1.5 in /usr/local/lib/python3.10/dist-packages (from python-dateutil>=2.8.0->qiskit-ibmq-provider==0.20.2->qiskit) (1.16.0)\n",
            "Requirement already satisfied: certifi>=2017.4.17 in /usr/local/lib/python3.10/dist-packages (from requests>=2.19->qiskit-ibmq-provider==0.20.2->qiskit) (2022.12.7)\n",
            "Requirement already satisfied: charset-normalizer~=2.0.0 in /usr/local/lib/python3.10/dist-packages (from requests>=2.19->qiskit-ibmq-provider==0.20.2->qiskit) (2.0.12)\n",
            "Requirement already satisfied: idna<4,>=2.5 in /usr/local/lib/python3.10/dist-packages (from requests>=2.19->qiskit-ibmq-provider==0.20.2->qiskit) (3.4)\n",
            "Collecting ntlm-auth>=1.0.2 (from requests-ntlm<=1.1.0->qiskit-ibmq-provider==0.20.2->qiskit)\n",
            "  Downloading ntlm_auth-1.5.0-py2.py3-none-any.whl (29 kB)\n",
            "Requirement already satisfied: cryptography>=1.3 in /usr/local/lib/python3.10/dist-packages (from requests-ntlm<=1.1.0->qiskit-ibmq-provider==0.20.2->qiskit) (40.0.2)\n",
            "Collecting pbr!=2.1.0,>=2.0.0 (from stevedore>=3.0.0->qiskit-terra==0.24.0->qiskit)\n",
            "  Downloading pbr-5.11.1-py2.py3-none-any.whl (112 kB)\n",
            "\u001b[2K     \u001b[90m━━━━━━━━━━━━━━━━━━━━━━━━━━━━━━━━━━━━━━\u001b[0m \u001b[32m112.7/112.7 kB\u001b[0m \u001b[31m15.5 MB/s\u001b[0m eta \u001b[36m0:00:00\u001b[0m\n",
            "\u001b[?25hRequirement already satisfied: mpmath>=0.19 in /usr/local/lib/python3.10/dist-packages (from sympy>=1.3->qiskit-terra==0.24.0->qiskit) (1.3.0)\n",
            "Requirement already satisfied: cffi>=1.12 in /usr/local/lib/python3.10/dist-packages (from cryptography>=1.3->requests-ntlm<=1.1.0->qiskit-ibmq-provider==0.20.2->qiskit) (1.15.1)\n",
            "Requirement already satisfied: pycparser in /usr/local/lib/python3.10/dist-packages (from cffi>=1.12->cryptography>=1.3->requests-ntlm<=1.1.0->qiskit-ibmq-provider==0.20.2->qiskit) (2.21)\n",
            "Building wheels for collected packages: qiskit\n",
            "  Building wheel for qiskit (pyproject.toml) ... \u001b[?25l\u001b[?25hdone\n",
            "  Created wheel for qiskit: filename=qiskit-0.43.0-py3-none-any.whl size=7996 sha256=ee82d95fd24dd7e1a028208804c1b62a5736b3ab64cd275ad8de97dae87ecc98\n",
            "  Stored in directory: /root/.cache/pip/wheels/11/fe/bc/59531707126e693bad48c61c0b86f3870b49f8f7ad49c18209\n",
            "Successfully built qiskit\n",
            "Installing collected packages: ply, websockets, symengine, rustworkx, pbr, ntlm-auth, dill, stevedore, requests-ntlm, qiskit-terra, qiskit-ibmq-provider, qiskit-aer, qiskit\n",
            "Successfully installed dill-0.3.6 ntlm-auth-1.5.0 pbr-5.11.1 ply-3.11 qiskit-0.43.0 qiskit-aer-0.12.0 qiskit-ibmq-provider-0.20.2 qiskit-terra-0.24.0 requests-ntlm-1.1.0 rustworkx-0.12.1 stevedore-5.0.0 symengine-0.9.2 websockets-11.0.3\n",
            "Looking in indexes: https://pypi.org/simple, https://us-python.pkg.dev/colab-wheels/public/simple/\n",
            "Collecting qiskit-machine-learning\n",
            "  Downloading qiskit_machine_learning-0.6.1-py3-none-any.whl (148 kB)\n",
            "\u001b[2K     \u001b[90m━━━━━━━━━━━━━━━━━━━━━━━━━━━━━━━━━━━━━━━\u001b[0m \u001b[32m148.7/148.7 kB\u001b[0m \u001b[31m3.8 MB/s\u001b[0m eta \u001b[36m0:00:00\u001b[0m\n",
            "\u001b[?25hRequirement already satisfied: qiskit-terra>=0.22.2 in /usr/local/lib/python3.10/dist-packages (from qiskit-machine-learning) (0.24.0)\n",
            "Requirement already satisfied: scipy>=1.4 in /usr/local/lib/python3.10/dist-packages (from qiskit-machine-learning) (1.10.1)\n",
            "Requirement already satisfied: numpy>=1.17 in /usr/local/lib/python3.10/dist-packages (from qiskit-machine-learning) (1.22.4)\n",
            "Requirement already satisfied: psutil>=5 in /usr/local/lib/python3.10/dist-packages (from qiskit-machine-learning) (5.9.5)\n",
            "Requirement already satisfied: scikit-learn>=0.20.0 in /usr/local/lib/python3.10/dist-packages (from qiskit-machine-learning) (1.2.2)\n",
            "Collecting fastdtw (from qiskit-machine-learning)\n",
            "  Downloading fastdtw-0.3.4.tar.gz (133 kB)\n",
            "\u001b[2K     \u001b[90m━━━━━━━━━━━━━━━━━━━━━━━━━━━━━━━━━━━━━━\u001b[0m \u001b[32m133.4/133.4 kB\u001b[0m \u001b[31m15.2 MB/s\u001b[0m eta \u001b[36m0:00:00\u001b[0m\n",
            "\u001b[?25h  Preparing metadata (setup.py) ... \u001b[?25l\u001b[?25hdone\n",
            "Requirement already satisfied: setuptools>=40.1.0 in /usr/local/lib/python3.10/dist-packages (from qiskit-machine-learning) (67.7.2)\n",
            "Requirement already satisfied: dill>=0.3.4 in /usr/local/lib/python3.10/dist-packages (from qiskit-machine-learning) (0.3.6)\n",
            "Requirement already satisfied: rustworkx>=0.12.0 in /usr/local/lib/python3.10/dist-packages (from qiskit-terra>=0.22.2->qiskit-machine-learning) (0.12.1)\n",
            "Requirement already satisfied: ply>=3.10 in /usr/local/lib/python3.10/dist-packages (from qiskit-terra>=0.22.2->qiskit-machine-learning) (3.11)\n",
            "Requirement already satisfied: sympy>=1.3 in /usr/local/lib/python3.10/dist-packages (from qiskit-terra>=0.22.2->qiskit-machine-learning) (1.11.1)\n",
            "Requirement already satisfied: python-dateutil>=2.8.0 in /usr/local/lib/python3.10/dist-packages (from qiskit-terra>=0.22.2->qiskit-machine-learning) (2.8.2)\n",
            "Requirement already satisfied: stevedore>=3.0.0 in /usr/local/lib/python3.10/dist-packages (from qiskit-terra>=0.22.2->qiskit-machine-learning) (5.0.0)\n",
            "Requirement already satisfied: symengine<0.10,>=0.9 in /usr/local/lib/python3.10/dist-packages (from qiskit-terra>=0.22.2->qiskit-machine-learning) (0.9.2)\n",
            "Requirement already satisfied: joblib>=1.1.1 in /usr/local/lib/python3.10/dist-packages (from scikit-learn>=0.20.0->qiskit-machine-learning) (1.2.0)\n",
            "Requirement already satisfied: threadpoolctl>=2.0.0 in /usr/local/lib/python3.10/dist-packages (from scikit-learn>=0.20.0->qiskit-machine-learning) (3.1.0)\n",
            "Requirement already satisfied: six>=1.5 in /usr/local/lib/python3.10/dist-packages (from python-dateutil>=2.8.0->qiskit-terra>=0.22.2->qiskit-machine-learning) (1.16.0)\n",
            "Requirement already satisfied: pbr!=2.1.0,>=2.0.0 in /usr/local/lib/python3.10/dist-packages (from stevedore>=3.0.0->qiskit-terra>=0.22.2->qiskit-machine-learning) (5.11.1)\n",
            "Requirement already satisfied: mpmath>=0.19 in /usr/local/lib/python3.10/dist-packages (from sympy>=1.3->qiskit-terra>=0.22.2->qiskit-machine-learning) (1.3.0)\n",
            "Building wheels for collected packages: fastdtw\n",
            "  Building wheel for fastdtw (setup.py) ... \u001b[?25l\u001b[?25hdone\n",
            "  Created wheel for fastdtw: filename=fastdtw-0.3.4-cp310-cp310-linux_x86_64.whl size=517900 sha256=20897fbeef299e25f2ec500db4fe72b639df8b9aa5c44c237b4d8adadf6d55b0\n",
            "  Stored in directory: /root/.cache/pip/wheels/73/c8/f7/c25448dab74c3acf4848bc25d513c736bb93910277e1528ef4\n",
            "Successfully built fastdtw\n",
            "Installing collected packages: fastdtw, qiskit-machine-learning\n",
            "Successfully installed fastdtw-0.3.4 qiskit-machine-learning-0.6.1\n"
          ]
        }
      ],
      "source": [
        "!pip install qiskit --upgrade\n",
        "!pip install qiskit-machine-learning"
      ]
    },
    {
      "cell_type": "code",
      "source": [
        "import torch\n",
        "from qiskit import QuantumCircuit, execute, Aer,transpile\n",
        "from qiskit.circuit.library import EfficientSU2,TwoLocal\n",
        "from qiskit.primitives import Sampler\n",
        "from qiskit_machine_learning.neural_networks import SamplerQNN\n",
        "from qiskit_machine_learning.connectors import TorchConnector\n",
        "from qiskit.visualization import plot_histogram\n",
        "from qiskit import Aer\n",
        "from qiskit_aer import AerSimulator\n",
        "import qiskit_aer.noise as noise\n",
        "from qiskit.utils import algorithm_globals\n",
        "from qiskit.providers import Options\n",
        "from qiskit.utils import QuantumInstance\n",
        "import qiskit.quantum_info as qi\n",
        "from qiskit_aer.noise import NoiseModel, amplitude_damping_error,pauli_error, depolarizing_error"
      ],
      "metadata": {
        "id": "fqGrZATI3st0"
      },
      "execution_count": 2,
      "outputs": []
    },
    {
      "cell_type": "code",
      "source": [
        "shots = 100000\n",
        "sampler = Sampler()\n",
        "\n",
        "\n",
        "sampler_n = Sampler(options={ \"shots\": shots, \"seed\": algorithm_globals.random_seed})"
      ],
      "metadata": {
        "id": "P1xWvg-05CvB"
      },
      "execution_count": 5,
      "outputs": []
    },
    {
      "cell_type": "code",
      "source": [
        "num_qubits = 2\n",
        "qc = QuantumCircuit(num_qubits)\n",
        "qc.h(qc.qubits)\n",
        "qc_zofal = QuantumCircuit(num_qubits)\n",
        "qc_zofal.h(qc.qubits)\n",
        "qc_zofal_ = TwoLocal(num_qubits,\n",
        "                     # Parameterized single qubit rotations\n",
        "                     ['ry'],\n",
        "                     'cz',  # Entangling gate\n",
        "                     'full', # Entanglement structure: all to all\n",
        "                     reps=1, # Number of layers\n",
        "                     parameter_prefix='θ_g',\n",
        "                     name='Generator',\n",
        "                    insert_barriers=True)\n",
        "qc_zofal.compose(qc_zofal_, inplace=True)\n",
        "qc_zofal.decompose().draw()"
      ],
      "metadata": {
        "colab": {
          "base_uri": "https://localhost:8080/",
          "height": 92
        },
        "id": "r9FMfCguQluk",
        "outputId": "46ce7517-5804-4a53-855d-a20a24d390bb"
      },
      "execution_count": 6,
      "outputs": [
        {
          "output_type": "execute_result",
          "data": {
            "text/plain": [
              "     ┌─────────┐┌────────────┐ ░     ░ ┌────────────┐\n",
              "q_0: ┤ U2(0,π) ├┤ Ry(θ_g[0]) ├─░──■──░─┤ Ry(θ_g[2]) ├\n",
              "     ├─────────┤├────────────┤ ░  │  ░ ├────────────┤\n",
              "q_1: ┤ U2(0,π) ├┤ Ry(θ_g[1]) ├─░──■──░─┤ Ry(θ_g[3]) ├\n",
              "     └─────────┘└────────────┘ ░     ░ └────────────┘"
            ],
            "text/html": [
              "<pre style=\"word-wrap: normal;white-space: pre;background: #fff0;line-height: 1.1;font-family: &quot;Courier New&quot;,Courier,monospace\">     ┌─────────┐┌────────────┐ ░     ░ ┌────────────┐\n",
              "q_0: ┤ U2(0,π) ├┤ Ry(θ_g[0]) ├─░──■──░─┤ Ry(θ_g[2]) ├\n",
              "     ├─────────┤├────────────┤ ░  │  ░ ├────────────┤\n",
              "q_1: ┤ U2(0,π) ├┤ Ry(θ_g[1]) ├─░──■──░─┤ Ry(θ_g[3]) ├\n",
              "     └─────────┘└────────────┘ ░     ░ └────────────┘</pre>"
            ]
          },
          "metadata": {},
          "execution_count": 6
        }
      ]
    },
    {
      "cell_type": "code",
      "source": [
        "p = qc_zofal.assign_parameters(algorithm_globals.random.random(qc_zofal.num_parameters))\n",
        "p.measure_all()\n",
        "print(p.decompose())"
      ],
      "metadata": {
        "colab": {
          "base_uri": "https://localhost:8080/"
        },
        "id": "2We_C6aA3wHx",
        "outputId": "f86118c8-aae1-431c-bdd4-76b3b588da92"
      },
      "execution_count": 7,
      "outputs": [
        {
          "output_type": "stream",
          "name": "stdout",
          "text": [
            "        ┌─────────┐┌───────────────────────┐ ░     ░ ┌───────────────────────┐»\n",
            "   q_0: ┤ U2(0,π) ├┤ Ry(0.516044030495997) ├─░──■──░─┤ Ry(0.627538822303176) ├»\n",
            "        ├─────────┤├───────────────────────┤ ░  │  ░ ├───────────────────────┤»\n",
            "   q_1: ┤ U2(0,π) ├┤ Ry(0.976220350547896) ├─░──■──░─┤ Ry(0.236204281589399) ├»\n",
            "        └─────────┘└───────────────────────┘ ░     ░ └───────────────────────┘»\n",
            "meas: 2/══════════════════════════════════════════════════════════════════════»\n",
            "                                                                              »\n",
            "«         ░ ┌─┐   \n",
            "«   q_0: ─░─┤M├───\n",
            "«         ░ └╥┘┌─┐\n",
            "«   q_1: ─░──╫─┤M├\n",
            "«         ░  ║ └╥┘\n",
            "«meas: 2/════╩══╩═\n",
            "«            0  1 \n"
          ]
        }
      ]
    },
    {
      "cell_type": "code",
      "source": [
        "#Custom Noise model for measurment, x and cx gates\n",
        "\n",
        "# Error probabilities\n",
        "prob_1 = 0.0  # 1-qubit gate\n",
        "prob_2 = 0.0  # 2-qubit gate\n",
        "prob_m = 0.1  # Measurment error\n",
        "\n",
        "# Depolarizing quantum errors\n",
        "error_1 = noise.depolarizing_error(prob_1, 1)\n",
        "error_2 = noise.depolarizing_error(prob_2, 2)\n",
        "error_meas = noise.pauli_error([('X',prob_m), ('I', 1 - prob_m)])\n",
        "\n",
        "# Add errors to noise model\n",
        "noise_model = noise.NoiseModel()\n",
        "noise_model.add_all_qubit_quantum_error(error_1, ['y'])\n",
        "noise_model.add_all_qubit_quantum_error(error_2, ['cz'])\n",
        "noise_model.add_all_qubit_quantum_error(error_meas, \"measure\")\n",
        "\n",
        "# Get basis gates from noise model\n",
        "basis_gates = noise_model.basis_gates\n",
        "\n",
        "#print(basis_gates)"
      ],
      "metadata": {
        "id": "VwYfDBdC2oVh"
      },
      "execution_count": 8,
      "outputs": []
    },
    {
      "cell_type": "code",
      "source": [
        "backend = AerSimulator(noise_model=noise_model)\n",
        "backend.set_options(noise_model=noise_model)\n",
        "job = execute(p, backend)\n",
        "result = job.result()\n",
        "# Get the counts from the simulation result\n",
        "counts = result.get_counts()\n",
        "print(counts)"
      ],
      "metadata": {
        "colab": {
          "base_uri": "https://localhost:8080/"
        },
        "id": "LccALOMb6MB9",
        "outputId": "b473842d-5f10-4f85-c567-454e8ae6727e"
      },
      "execution_count": 9,
      "outputs": [
        {
          "output_type": "stream",
          "name": "stdout",
          "text": [
            "{'01': 146, '11': 368, '00': 69, '10': 441}\n"
          ]
        }
      ]
    },
    {
      "cell_type": "code",
      "source": [
        "def create_generator() -> TorchConnector:\n",
        "    #sim_noise = AerSimulator(noise_model=noise_model)\n",
        "    #qcn = transpile(qc, sim_noise)\n",
        "    qnn = SamplerQNN(\n",
        "        sampler = sampler,\n",
        "        circuit= qc_zofal,\n",
        "        input_params=[],\n",
        "        weight_params=qc_zofal.parameters,\n",
        "        sparse=False,\n",
        "    )    \n",
        "    initial_weights = algorithm_globals.random.random(qc_zofal.num_parameters)\n",
        "\n",
        "    return TorchConnector(qnn, initial_weights)\n",
        "\n",
        "generator = create_generator()\n",
        "print(generator(torch.tensor([])).reshape(-1,1))\n",
        "print()\n",
        "print(generator.parameters())"
      ],
      "metadata": {
        "colab": {
          "base_uri": "https://localhost:8080/"
        },
        "id": "jyHmckWaQM9N",
        "outputId": "94b66049-e971-41d9-f5f8-f0de6f961e52"
      },
      "execution_count": 10,
      "outputs": [
        {
          "output_type": "stream",
          "name": "stdout",
          "text": [
            "tensor([[0.0029],\n",
            "        [0.4103],\n",
            "        [0.1495],\n",
            "        [0.4374]], grad_fn=<ReshapeAliasBackward0>)\n",
            "\n",
            "<generator object Module.parameters at 0x7f57df732960>\n"
          ]
        }
      ]
    },
    {
      "cell_type": "code",
      "source": [
        "from torch import nn\n",
        "\n",
        "\n",
        "class Discriminator(nn.Module):\n",
        "    def __init__(self, input_size):\n",
        "        super(Discriminator, self).__init__()\n",
        "\n",
        "        self.linear_input = nn.Linear(input_size, 20)\n",
        "        self.leaky_relu = nn.LeakyReLU(0.2)\n",
        "        self.linear20 = nn.Linear(20, 1)\n",
        "        self.sigmoid = nn.Sigmoid()\n",
        "\n",
        "    def forward(self, input: torch.Tensor) -> torch.Tensor:\n",
        "        x = self.linear_input(input)\n",
        "        x = self.leaky_relu(x)\n",
        "        x = self.linear20(x)\n",
        "        x = self.sigmoid(x)\n",
        "        return x"
      ],
      "metadata": {
        "id": "x4jxF17OUtqh"
      },
      "execution_count": 11,
      "outputs": []
    },
    {
      "cell_type": "code",
      "source": [
        "num_dim =1\n",
        "discriminator = Discriminator(num_dim)\n",
        "print(discriminator)"
      ],
      "metadata": {
        "colab": {
          "base_uri": "https://localhost:8080/"
        },
        "id": "b4466gdbRFUL",
        "outputId": "aa62bc56-4a09-42d3-80a6-21ee23c8ae65"
      },
      "execution_count": 12,
      "outputs": [
        {
          "output_type": "stream",
          "name": "stdout",
          "text": [
            "Discriminator(\n",
            "  (linear_input): Linear(in_features=1, out_features=20, bias=True)\n",
            "  (leaky_relu): LeakyReLU(negative_slope=0.2)\n",
            "  (linear20): Linear(in_features=20, out_features=1, bias=True)\n",
            "  (sigmoid): Sigmoid()\n",
            ")\n"
          ]
        }
      ]
    },
    {
      "cell_type": "code",
      "source": [
        "def adversarial_loss(input, target, w):\n",
        "    bce_loss = target * torch.log(input) + (1 - target) * torch.log(1 - input)\n",
        "    weighted_loss = w * bce_loss\n",
        "    total_loss = -torch.sum(weighted_loss)\n",
        "    return total_loss"
      ],
      "metadata": {
        "id": "nAhA01t1VTt9"
      },
      "execution_count": 13,
      "outputs": []
    },
    {
      "cell_type": "code",
      "source": [
        "from torch.optim import Adam\n",
        "\n",
        "lr = 0.01  # learning rate\n",
        "b1 = 0.7  # first momentum parameter\n",
        "b2 = 0.999  # second momentum parameter\n",
        "\n",
        "generator_optimizer = Adam(generator.parameters(), lr=lr, betas=(b1, b2), weight_decay=0.005)\n",
        "discriminator_optimizer = Adam(discriminator.parameters(), lr=lr, betas=(b1, b2), weight_decay=0.005)"
      ],
      "metadata": {
        "id": "WSQU4ksTVV8I"
      },
      "execution_count": 14,
      "outputs": []
    },
    {
      "cell_type": "code",
      "source": [
        "from IPython.display import clear_output\n",
        "import matplotlib.pyplot as plt\n",
        "from matplotlib import cm\n",
        "\n",
        "def plot_training_progress():\n",
        "    # we don't plot if we don't have enough data\n",
        "    if len(generator_loss_values) < 2:\n",
        "        return\n",
        "\n",
        "    clear_output(wait=True)\n",
        "    fig, (ax1, ax2) = plt.subplots(1, 2, figsize=(18, 9))\n",
        "\n",
        "    # Generator Loss\n",
        "    ax1.set_title(\"Loss\")\n",
        "    ax1.plot(generator_loss_values, label=\"generator loss\", color=\"royalblue\")\n",
        "    ax1.plot(discriminator_loss_values, label=\"discriminator loss\", color=\"magenta\")\n",
        "    ax1.legend(loc=\"best\")\n",
        "    ax1.set_xlabel(\"Iteration\")\n",
        "    ax1.set_ylabel(\"Loss\")\n",
        "    ax1.grid()\n",
        "\n",
        "    # Relative Entropy\n",
        "    ax2.set_title(\"Relative entropy\")\n",
        "    ax2.plot(entropy_values)\n",
        "    ax2.set_xlabel(\"Iteration\")\n",
        "    ax2.set_ylabel(\"Relative entropy\")\n",
        "    ax2.grid()\n",
        "\n",
        "    plt.show()"
      ],
      "metadata": {
        "id": "RK_v0RhPu-g0"
      },
      "execution_count": 15,
      "outputs": []
    },
    {
      "cell_type": "code",
      "source": [
        "import time\n",
        "from scipy.stats import multivariate_normal, entropy\n",
        "\n",
        "grid_elements = [[1],[2],[3],[4]]\n",
        "prob_data = [0.1, 0.3, 0.5, 0.1]\n",
        "n_epochs = 50\n",
        "\n",
        "num_qnn_outputs = 4\n",
        "\n",
        "generator_loss_values = []\n",
        "discriminator_loss_values = []\n",
        "entropy_values = []\n",
        "\n",
        "start = time.time()\n",
        "for epoch in range(n_epochs):\n",
        "\n",
        "    valid = torch.ones(num_qnn_outputs, 1, dtype=torch.float)\n",
        "    fake = torch.zeros(num_qnn_outputs, 1, dtype=torch.float)\n",
        "\n",
        "    # Configure input\n",
        "    real_dist = torch.tensor(prob_data, dtype=torch.float).reshape(-1, 1)\n",
        "\n",
        "    # Configure samples\n",
        "    samples = torch.tensor(grid_elements, dtype=torch.float)\n",
        "    disc_value = discriminator(samples)\n",
        "\n",
        "    # Generate data\n",
        "    gen_dist = generator(torch.tensor([])).reshape(-1, 1)\n",
        "\n",
        "    # Train generator\n",
        "    generator_optimizer.zero_grad()\n",
        "    generator_loss = adversarial_loss(disc_value, valid, gen_dist)\n",
        "\n",
        "    # store for plotting\n",
        "    generator_loss_values.append(generator_loss.detach().item())\n",
        "\n",
        "    generator_loss.backward(retain_graph=True)\n",
        "    generator_optimizer.step()\n",
        "\n",
        "    # Train Discriminator\n",
        "    discriminator_optimizer.zero_grad()\n",
        "\n",
        "    real_loss = adversarial_loss(disc_value, valid, real_dist)\n",
        "    fake_loss = adversarial_loss(disc_value, fake, gen_dist.detach())\n",
        "    discriminator_loss = (real_loss + fake_loss) / 2\n",
        "\n",
        "    # Store for plotting\n",
        "    discriminator_loss_values.append(discriminator_loss.detach().item())\n",
        "\n",
        "    discriminator_loss.backward()\n",
        "    discriminator_optimizer.step()\n",
        "\n",
        "    entropy_value = entropy(gen_dist.detach().squeeze().numpy(), prob_data)\n",
        "    entropy_values.append(entropy_value)\n",
        "\n",
        "    plot_training_progress()\n",
        "\n",
        "elapsed = time.time() - start\n",
        "print(f\"Fit in {elapsed:0.2f} sec\")"
      ],
      "metadata": {
        "colab": {
          "base_uri": "https://localhost:8080/",
          "height": 408
        },
        "id": "0VCxXTFLwqtU",
        "outputId": "95c67577-54ca-4dac-b54f-3cf963f48d35"
      },
      "execution_count": 16,
      "outputs": [
        {
          "output_type": "display_data",
          "data": {
            "text/plain": [
              "<Figure size 1800x900 with 2 Axes>"
            ],
            "image/png": "[encoded data removed]"
          },
          "metadata": {}
        },
        {
          "output_type": "stream",
          "name": "stdout",
          "text": [
            "Fit in 29.22 sec\n"
          ]
        }
      ]
    },
    {
      "cell_type": "code",
      "source": [
        "with torch.no_grad():\n",
        "    generated_probabilities = generator().numpy()\n",
        "\n",
        "with torch.no_grad():\n",
        "    generated_probabilities = generator().numpy()"
      ],
      "metadata": {
        "id": "0WMBITzlzMnH"
      },
      "execution_count": 17,
      "outputs": []
    },
    {
      "cell_type": "code",
      "source": [
        "fig = plt.figure(figsize=(18, 9))\n",
        "import numpy as np\n",
        "\n",
        "# Generated CDF\n",
        "gen_prob_grid = np.cumsum(generated_probabilities)\n",
        "\n",
        "ax1 = fig.add_subplot(1, 3, 1)\n",
        "ax1.set_title(\"Generated CDF\")\n",
        "ax1.set_ylim(-0.1, 1.1)\n",
        "ax1.scatter(grid_elements,gen_prob_grid)\n",
        "\n",
        "# Real CDF\n",
        "real_prob_grid = np.cumsum(prob_data)\n",
        "\n",
        "ax2 = fig.add_subplot(1, 3, 2)\n",
        "ax2.set_title(\"True CDF\")\n",
        "ax2.set_ylim(-0.1, 1.1)\n",
        "ax2.scatter(grid_elements,real_prob_grid)\n",
        "\n",
        "# Difference\n",
        "ax3 = fig.add_subplot(1, 3, 3)\n",
        "ax3.set_title(\"Difference between CDFs\")\n",
        "ax3.set_ylim(-0.1, 0.2)\n",
        "ax3.scatter(grid_elements,real_prob_grid-gen_prob_grid)\n",
        "plt.show()"
      ],
      "metadata": {
        "colab": {
          "base_uri": "https://localhost:8080/",
          "height": 388
        },
        "id": "M5fVccJgy-DH",
        "outputId": "003c85c0-eb47-4c96-dcad-80528d2ab7ec"
      },
      "execution_count": 18,
      "outputs": [
        {
          "output_type": "display_data",
          "data": {
            "text/plain": [
              "<Figure size 1800x900 with 3 Axes>"
            ],
            "image/png": "[encoded data removed]"
          },
          "metadata": {}
        }
      ]
    },
    {
      "cell_type": "code",
      "source": [
        "grid_elements = [[1],[2],[3],[4]]\n",
        "samples = torch.tensor(grid_elements, dtype=torch.float)\n",
        "disc_value = discriminator(samples)\n",
        "print(grid_elements)\n",
        "print(samples)\n",
        "print(disc_value)"
      ],
      "metadata": {
        "colab": {
          "base_uri": "https://localhost:8080/"
        },
        "id": "D7TiaNLdV1Mb",
        "outputId": "4380866b-e0a9-4d4b-ce6f-b58c06c0c9bb"
      },
      "execution_count": null,
      "outputs": [
        {
          "output_type": "stream",
          "name": "stdout",
          "text": [
            "[[1], [2], [3], [4]]\n",
            "tensor([[1.],\n",
            "        [2.],\n",
            "        [3.],\n",
            "        [4.]])\n",
            "tensor([[0.5327],\n",
            "        [0.5131],\n",
            "        [0.5037],\n",
            "        [0.4943]], grad_fn=<SigmoidBackward0>)\n"
          ]
        }
      ]
    },
    {
      "cell_type": "code",
      "source": [
        "gen_dist = generator(torch.tensor([])).reshape(-1, 1)\n",
        "print(torch.tensor([]))\n",
        "print(gen_dist.detach())"
      ],
      "metadata": {
        "colab": {
          "base_uri": "https://localhost:8080/"
        },
        "id": "2c38NmY_WxZ0",
        "outputId": "b21d47ac-6655-40b8-d65e-67640ad3288b"
      },
      "execution_count": null,
      "outputs": [
        {
          "output_type": "stream",
          "name": "stdout",
          "text": [
            "tensor([])\n",
            "tensor([[0.1057],\n",
            "        [0.4431],\n",
            "        [0.2776],\n",
            "        [0.1737]])\n"
          ]
        }
      ]
    },
    {
      "cell_type": "code",
      "source": [
        "prob_data = [0.1, 0.3, 0.5, 0.1]\n",
        "real_dist = torch.tensor(prob_data, dtype=torch.float).reshape(-1, 1)\n",
        "valid = torch.ones(4, 1, dtype=torch.float)\n",
        "fake = torch.ones(4, 1, dtype=torch.float)\n",
        "print(real_dist)\n",
        "print(valid)"
      ],
      "metadata": {
        "colab": {
          "base_uri": "https://localhost:8080/"
        },
        "id": "471UYoqKW-Ss",
        "outputId": "54153ba9-d426-48f5-e2cb-8828bdfc6e86"
      },
      "execution_count": null,
      "outputs": [
        {
          "output_type": "stream",
          "name": "stdout",
          "text": [
            "tensor([[0.1000],\n",
            "        [0.3000],\n",
            "        [0.5000],\n",
            "        [0.1000]])\n",
            "tensor([[1.],\n",
            "        [1.],\n",
            "        [1.],\n",
            "        [1.]])\n"
          ]
        }
      ]
    },
    {
      "cell_type": "code",
      "source": [
        "generator_optimizer.zero_grad()\n"
      ],
      "metadata": {
        "id": "W250Grluj6CK"
      },
      "execution_count": null,
      "outputs": []
    },
    {
      "cell_type": "code",
      "source": [
        "generator_loss = adversarial_loss(disc_value, valid, gen_dist.detach())\n",
        "print(generator_loss)"
      ],
      "metadata": {
        "colab": {
          "base_uri": "https://localhost:8080/"
        },
        "id": "HIe3GhQAjbjS",
        "outputId": "eaa61383-769f-4c37-9dd7-406c237fd35d"
      },
      "execution_count": null,
      "outputs": [
        {
          "output_type": "stream",
          "name": "stdout",
          "text": [
            "tensor(0.6749, grad_fn=<NegBackward0>)\n"
          ]
        }
      ]
    },
    {
      "cell_type": "code",
      "source": [
        "generator_loss.backward(retain_graph=True)\n",
        "generator_optimizer.step()"
      ],
      "metadata": {
        "id": "MVZP6Ztrp2t5"
      },
      "execution_count": null,
      "outputs": []
    },
    {
      "cell_type": "code",
      "source": [
        "discriminator_optimizer.zero_grad()\n",
        "\n",
        "real_loss = adversarial_loss(disc_value, valid, real_dist)\n",
        "fake_loss = adversarial_loss(disc_value, fake, gen_dist.detach())\n",
        "discriminator_loss = (real_loss + fake_loss) / 2\n",
        "print(discriminator_loss)"
      ],
      "metadata": {
        "colab": {
          "base_uri": "https://localhost:8080/"
        },
        "id": "s1rVa1G5qBh0",
        "outputId": "cef9df56-4599-459d-b321-fc8764da5716"
      },
      "execution_count": null,
      "outputs": [
        {
          "output_type": "stream",
          "name": "stdout",
          "text": [
            "tensor(0.6757, grad_fn=<DivBackward0>)\n"
          ]
        }
      ]
    },
    {
      "cell_type": "code",
      "source": [
        "discriminator_loss.backward()\n",
        "discriminator_optimizer.step()"
      ],
      "metadata": {
        "id": "RKeFk3KqqSPb"
      },
      "execution_count": null,
      "outputs": []
    },
    {
      "cell_type": "code",
      "source": [
        "from scipy.stats import multivariate_normal, entropy\n",
        "entropy_value = entropy(gen_dist.detach().squeeze().numpy(), prob_data)\n",
        "print(entropy_value)\n",
        "print(gen_dist.detach().squeeze().numpy())\n",
        "print(prob_data)"
      ],
      "metadata": {
        "colab": {
          "base_uri": "https://localhost:8080/"
        },
        "id": "ufVOhfaMrL8O",
        "outputId": "840f6fce-2b72-498b-8e0c-eba615869e0f"
      },
      "execution_count": null,
      "outputs": [
        {
          "output_type": "stream",
          "name": "stdout",
          "text": [
            "0.11109840318877957\n",
            "[0.10568087 0.44305262 0.27760056 0.17366599]\n",
            "[0.1, 0.3, 0.5, 0.1]\n"
          ]
        }
      ]
    },
    {
      "cell_type": "code",
      "source": [
        "disc_value = discriminator(samples)\n",
        "print(disc_value)"
      ],
      "metadata": {
        "colab": {
          "base_uri": "https://localhost:8080/"
        },
        "id": "gnXRN1GItIqF",
        "outputId": "055ad1c5-8a98-430e-bd94-ada2ca9541b3"
      },
      "execution_count": null,
      "outputs": [
        {
          "output_type": "stream",
          "name": "stdout",
          "text": [
            "tensor([[0.5602],\n",
            "        [0.5575],\n",
            "        [0.5638],\n",
            "        [0.5707]], grad_fn=<SigmoidBackward0>)\n"
          ]
        }
      ]
    },
    {
      "cell_type": "code",
      "source": [
        "print(generator(torch.tensor([])).reshape(-1,1))"
      ],
      "metadata": {
        "colab": {
          "base_uri": "https://localhost:8080/"
        },
        "id": "8LXfs3YJuCwo",
        "outputId": "b1076fbc-3b10-4691-ca97-5785cb65366f"
      },
      "execution_count": null,
      "outputs": [
        {
          "output_type": "stream",
          "name": "stdout",
          "text": [
            "tensor([[0.1057],\n",
            "        [0.4431],\n",
            "        [0.2776],\n",
            "        [0.1737]], grad_fn=<ReshapeAliasBackward0>)\n"
          ]
        }
      ]
    }
  ]
}