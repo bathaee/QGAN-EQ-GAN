{
  "nbformat": 4,
  "nbformat_minor": 0,
  "metadata": {
    "colab": {
      "provenance": [],
      "authorship_tag": "ABX9TyOa85EBoJvDKv2WvLvLajH6",
      "include_colab_link": true
    },
    "kernelspec": {
      "name": "python3",
      "display_name": "Python 3"
    },
    "language_info": {
      "name": "python"
    }
  },
  "cells": [
    {
      "cell_type": "markdown",
      "metadata": {
        "id": "view-in-github",
        "colab_type": "text"
      },
      "source": [
        "<a href=\"https://colab.research.google.com/github/bathaee/QGAN-EQ-GAN/blob/main/Noisy_SamplerQNN_final_QGAN_Hybrid.ipynb\" target=\"_parent\"><img src=\"https://colab.research.google.com/assets/colab-badge.svg\" alt=\"Open In Colab\"/></a>"
      ]
    },
    {
      "cell_type": "code",
      "execution_count": 1,
      "metadata": {
        "colab": {
          "base_uri": "https://localhost:8080/"
        },
        "id": "ENpoRdYX3ZaD",
        "outputId": "296995aa-ffed-44cb-c43b-da07ce4ab756"
      },
      "outputs": [
        {
          "output_type": "stream",
          "name": "stdout",
          "text": [
            "Looking in indexes: https://pypi.org/simple, https://us-python.pkg.dev/colab-wheels/public/simple/\n",
            "Requirement already satisfied: qiskit in /usr/local/lib/python3.10/dist-packages (0.43.0)\n",
            "Requirement already satisfied: qiskit-terra==0.24.0 in /usr/local/lib/python3.10/dist-packages (from qiskit) (0.24.0)\n",
            "Requirement already satisfied: qiskit-aer==0.12.0 in /usr/local/lib/python3.10/dist-packages (from qiskit) (0.12.0)\n",
            "Requirement already satisfied: qiskit-ibmq-provider==0.20.2 in /usr/local/lib/python3.10/dist-packages (from qiskit) (0.20.2)\n",
            "Requirement already satisfied: numpy>=1.16.3 in /usr/local/lib/python3.10/dist-packages (from qiskit-aer==0.12.0->qiskit) (1.22.4)\n",
            "Requirement already satisfied: scipy>=1.0 in /usr/local/lib/python3.10/dist-packages (from qiskit-aer==0.12.0->qiskit) (1.10.1)\n",
            "Requirement already satisfied: requests>=2.19 in /usr/local/lib/python3.10/dist-packages (from qiskit-ibmq-provider==0.20.2->qiskit) (2.27.1)\n",
            "Requirement already satisfied: requests-ntlm<=1.1.0 in /usr/local/lib/python3.10/dist-packages (from qiskit-ibmq-provider==0.20.2->qiskit) (1.1.0)\n",
            "Requirement already satisfied: urllib3>=1.21.1 in /usr/local/lib/python3.10/dist-packages (from qiskit-ibmq-provider==0.20.2->qiskit) (1.26.15)\n",
            "Requirement already satisfied: python-dateutil>=2.8.0 in /usr/local/lib/python3.10/dist-packages (from qiskit-ibmq-provider==0.20.2->qiskit) (2.8.2)\n",
            "Requirement already satisfied: websocket-client>=1.5.1 in /usr/local/lib/python3.10/dist-packages (from qiskit-ibmq-provider==0.20.2->qiskit) (1.5.1)\n",
            "Requirement already satisfied: websockets>=10.0 in /usr/local/lib/python3.10/dist-packages (from qiskit-ibmq-provider==0.20.2->qiskit) (11.0.3)\n",
            "Requirement already satisfied: rustworkx>=0.12.0 in /usr/local/lib/python3.10/dist-packages (from qiskit-terra==0.24.0->qiskit) (0.12.1)\n",
            "Requirement already satisfied: ply>=3.10 in /usr/local/lib/python3.10/dist-packages (from qiskit-terra==0.24.0->qiskit) (3.11)\n",
            "Requirement already satisfied: psutil>=5 in /usr/local/lib/python3.10/dist-packages (from qiskit-terra==0.24.0->qiskit) (5.9.5)\n",
            "Requirement already satisfied: sympy>=1.3 in /usr/local/lib/python3.10/dist-packages (from qiskit-terra==0.24.0->qiskit) (1.11.1)\n",
            "Requirement already satisfied: dill>=0.3 in /usr/local/lib/python3.10/dist-packages (from qiskit-terra==0.24.0->qiskit) (0.3.6)\n",
            "Requirement already satisfied: stevedore>=3.0.0 in /usr/local/lib/python3.10/dist-packages (from qiskit-terra==0.24.0->qiskit) (5.1.0)\n",
            "Requirement already satisfied: symengine<0.10,>=0.9 in /usr/local/lib/python3.10/dist-packages (from qiskit-terra==0.24.0->qiskit) (0.9.2)\n",
            "Requirement already satisfied: six>=1.5 in /usr/local/lib/python3.10/dist-packages (from python-dateutil>=2.8.0->qiskit-ibmq-provider==0.20.2->qiskit) (1.16.0)\n",
            "Requirement already satisfied: certifi>=2017.4.17 in /usr/local/lib/python3.10/dist-packages (from requests>=2.19->qiskit-ibmq-provider==0.20.2->qiskit) (2022.12.7)\n",
            "Requirement already satisfied: charset-normalizer~=2.0.0 in /usr/local/lib/python3.10/dist-packages (from requests>=2.19->qiskit-ibmq-provider==0.20.2->qiskit) (2.0.12)\n",
            "Requirement already satisfied: idna<4,>=2.5 in /usr/local/lib/python3.10/dist-packages (from requests>=2.19->qiskit-ibmq-provider==0.20.2->qiskit) (3.4)\n",
            "Requirement already satisfied: ntlm-auth>=1.0.2 in /usr/local/lib/python3.10/dist-packages (from requests-ntlm<=1.1.0->qiskit-ibmq-provider==0.20.2->qiskit) (1.5.0)\n",
            "Requirement already satisfied: cryptography>=1.3 in /usr/local/lib/python3.10/dist-packages (from requests-ntlm<=1.1.0->qiskit-ibmq-provider==0.20.2->qiskit) (40.0.2)\n",
            "Requirement already satisfied: pbr!=2.1.0,>=2.0.0 in /usr/local/lib/python3.10/dist-packages (from stevedore>=3.0.0->qiskit-terra==0.24.0->qiskit) (5.11.1)\n",
            "Requirement already satisfied: mpmath>=0.19 in /usr/local/lib/python3.10/dist-packages (from sympy>=1.3->qiskit-terra==0.24.0->qiskit) (1.3.0)\n",
            "Requirement already satisfied: cffi>=1.12 in /usr/local/lib/python3.10/dist-packages (from cryptography>=1.3->requests-ntlm<=1.1.0->qiskit-ibmq-provider==0.20.2->qiskit) (1.15.1)\n",
            "Requirement already satisfied: pycparser in /usr/local/lib/python3.10/dist-packages (from cffi>=1.12->cryptography>=1.3->requests-ntlm<=1.1.0->qiskit-ibmq-provider==0.20.2->qiskit) (2.21)\n",
            "Looking in indexes: https://pypi.org/simple, https://us-python.pkg.dev/colab-wheels/public/simple/\n",
            "Requirement already satisfied: qiskit-machine-learning in /usr/local/lib/python3.10/dist-packages (0.6.1)\n",
            "Requirement already satisfied: qiskit-terra>=0.22.2 in /usr/local/lib/python3.10/dist-packages (from qiskit-machine-learning) (0.24.0)\n",
            "Requirement already satisfied: scipy>=1.4 in /usr/local/lib/python3.10/dist-packages (from qiskit-machine-learning) (1.10.1)\n",
            "Requirement already satisfied: numpy>=1.17 in /usr/local/lib/python3.10/dist-packages (from qiskit-machine-learning) (1.22.4)\n",
            "Requirement already satisfied: psutil>=5 in /usr/local/lib/python3.10/dist-packages (from qiskit-machine-learning) (5.9.5)\n",
            "Requirement already satisfied: scikit-learn>=0.20.0 in /usr/local/lib/python3.10/dist-packages (from qiskit-machine-learning) (1.2.2)\n",
            "Requirement already satisfied: fastdtw in /usr/local/lib/python3.10/dist-packages (from qiskit-machine-learning) (0.3.4)\n",
            "Requirement already satisfied: setuptools>=40.1.0 in /usr/local/lib/python3.10/dist-packages (from qiskit-machine-learning) (67.7.2)\n",
            "Requirement already satisfied: dill>=0.3.4 in /usr/local/lib/python3.10/dist-packages (from qiskit-machine-learning) (0.3.6)\n",
            "Requirement already satisfied: rustworkx>=0.12.0 in /usr/local/lib/python3.10/dist-packages (from qiskit-terra>=0.22.2->qiskit-machine-learning) (0.12.1)\n",
            "Requirement already satisfied: ply>=3.10 in /usr/local/lib/python3.10/dist-packages (from qiskit-terra>=0.22.2->qiskit-machine-learning) (3.11)\n",
            "Requirement already satisfied: sympy>=1.3 in /usr/local/lib/python3.10/dist-packages (from qiskit-terra>=0.22.2->qiskit-machine-learning) (1.11.1)\n",
            "Requirement already satisfied: python-dateutil>=2.8.0 in /usr/local/lib/python3.10/dist-packages (from qiskit-terra>=0.22.2->qiskit-machine-learning) (2.8.2)\n",
            "Requirement already satisfied: stevedore>=3.0.0 in /usr/local/lib/python3.10/dist-packages (from qiskit-terra>=0.22.2->qiskit-machine-learning) (5.1.0)\n",
            "Requirement already satisfied: symengine<0.10,>=0.9 in /usr/local/lib/python3.10/dist-packages (from qiskit-terra>=0.22.2->qiskit-machine-learning) (0.9.2)\n",
            "Requirement already satisfied: joblib>=1.1.1 in /usr/local/lib/python3.10/dist-packages (from scikit-learn>=0.20.0->qiskit-machine-learning) (1.2.0)\n",
            "Requirement already satisfied: threadpoolctl>=2.0.0 in /usr/local/lib/python3.10/dist-packages (from scikit-learn>=0.20.0->qiskit-machine-learning) (3.1.0)\n",
            "Requirement already satisfied: six>=1.5 in /usr/local/lib/python3.10/dist-packages (from python-dateutil>=2.8.0->qiskit-terra>=0.22.2->qiskit-machine-learning) (1.16.0)\n",
            "Requirement already satisfied: pbr!=2.1.0,>=2.0.0 in /usr/local/lib/python3.10/dist-packages (from stevedore>=3.0.0->qiskit-terra>=0.22.2->qiskit-machine-learning) (5.11.1)\n",
            "Requirement already satisfied: mpmath>=0.19 in /usr/local/lib/python3.10/dist-packages (from sympy>=1.3->qiskit-terra>=0.22.2->qiskit-machine-learning) (1.3.0)\n"
          ]
        }
      ],
      "source": [
        "!pip install qiskit --upgrade\n",
        "!pip install qiskit-machine-learning"
      ]
    },
    {
      "cell_type": "code",
      "source": [
        "import torch\n",
        "from qiskit import QuantumCircuit, execute, Aer,transpile\n",
        "from qiskit.circuit.library import EfficientSU2,TwoLocal\n",
        "from qiskit_aer.primitives import Sampler as AerSampler\n",
        "from qiskit.primitives import Sampler as RefSampler\n",
        "from qiskit.primitives import Sampler,Estimator\n",
        "from qiskit_machine_learning.neural_networks import SamplerQNN, EstimatorQNN\n",
        "from qiskit_machine_learning.connectors import TorchConnector\n",
        "from qiskit.visualization import plot_histogram\n",
        "from qiskit import Aer\n",
        "from qiskit_aer import AerSimulator\n",
        "import qiskit_aer.noise as noise\n",
        "from qiskit.utils import algorithm_globals\n",
        "from qiskit.providers import Options\n",
        "from qiskit.utils import QuantumInstance\n",
        "import qiskit.quantum_info as qi\n",
        "from qiskit_aer.noise import NoiseModel, amplitude_damping_error,pauli_error, depolarizing_error"
      ],
      "metadata": {
        "id": "fqGrZATI3st0"
      },
      "execution_count": 2,
      "outputs": []
    },
    {
      "cell_type": "code",
      "source": [
        "#Custom Noise model for measurment, x and cx gates\n",
        "\n",
        "# Error probabilities\n",
        "prob_1 = 0.01  # 1-qubit gate\n",
        "prob_2 = 0.01  # 2-qubit gate\n",
        "prob_m = 0.01  # Measurment error\n",
        "\n",
        "# Depolarizing quantum errors\n",
        "error_1 = noise.depolarizing_error(prob_1, 1)\n",
        "error_2 = noise.depolarizing_error(prob_2, 2)\n",
        "error_meas = noise.pauli_error([('X',prob_m), ('I', 1 - prob_m)])\n",
        "\n",
        "# Add errors to noise model\n",
        "noise_model = noise.NoiseModel()\n",
        "noise_model.add_all_qubit_quantum_error(error_1, ['y'])\n",
        "noise_model.add_all_qubit_quantum_error(error_2, ['cz'])\n",
        "noise_model.add_all_qubit_quantum_error(error_meas, \"measure\")\n",
        "\n",
        "# Get basis gates from noise model\n",
        "basis_gates = noise_model.basis_gates\n",
        "\n",
        "#print(basis_gates)"
      ],
      "metadata": {
        "id": "VwYfDBdC2oVh"
      },
      "execution_count": 4,
      "outputs": []
    },
    {
      "cell_type": "code",
      "source": [
        "shots = 10000\n",
        "#Without Noise\n",
        "sampler = Sampler(options={ \"shots\": shots, \"seed\": algorithm_globals.random_seed})\n",
        "sam = Sampler(options={\"backend\": AerSampler(),\"backend.set_options\": AerSampler().set_options(noise_model=noise_model)})\n",
        "#With Noise\n",
        "sampler_n = AerSampler()\n",
        "#sampler_n.set_options(noise_model=noise_model,shots=shots, seed=algorithm_globals.random_seed)\n",
        "sampler_n.set_options(noise_model=noise_model)\n",
        "#test\n",
        "sampler_nn = RefSampler()\n",
        "#sampler_n.set_options(noise_model=noise_model,shots=shots, seed=algorithm_globals.random_seed)\n",
        "sampler_nn.set_options(noise_model=noise_model)"
      ],
      "metadata": {
        "id": "P1xWvg-05CvB"
      },
      "execution_count": 5,
      "outputs": []
    },
    {
      "cell_type": "code",
      "source": [
        "# Test if it works for SamplerQNN\n",
        "qc_test = QuantumCircuit(2)\n",
        "qc_test.h([0])\n",
        "qc_test.cx([0],[1])\n",
        "qnn = SamplerQNN(\n",
        "        sampler = sampler_n,\n",
        "        circuit= qc_test,\n",
        "        input_params=[],\n",
        "        weight_params=qc_test.parameters,\n",
        "        sparse=False,\n",
        "    ) \n",
        "qnn.forward(input_data=[], weights=[])"
      ],
      "metadata": {
        "colab": {
          "base_uri": "https://localhost:8080/"
        },
        "id": "GC7rATC8a-u2",
        "outputId": "2f3fee22-81e0-4f97-faf7-a7790281f89e"
      },
      "execution_count": 6,
      "outputs": [
        {
          "output_type": "execute_result",
          "data": {
            "text/plain": [
              "array([[0.48046875, 0.01464844, 0.00976562, 0.49511719]])"
            ]
          },
          "metadata": {},
          "execution_count": 6
        }
      ]
    },
    {
      "cell_type": "code",
      "source": [
        "num_qubits = 2\n",
        "qc = QuantumCircuit(num_qubits)\n",
        "qc.h(qc.qubits)\n",
        "qc_zofal = QuantumCircuit(num_qubits)\n",
        "qc_zofal.h(qc.qubits)\n",
        "qc_zofal_ = TwoLocal(num_qubits,\n",
        "                     # Parameterized single qubit rotations\n",
        "                     ['ry'],\n",
        "                     'cz',  # Entangling gate\n",
        "                     'full', # Entanglement structure: all to all\n",
        "                     reps=1, # Number of layers\n",
        "                     parameter_prefix='θ_g',\n",
        "                     name='Generator',\n",
        "                    insert_barriers=True)\n",
        "qc_zofal.compose(qc_zofal_, inplace=True)\n",
        "qc_zofal.decompose().draw()"
      ],
      "metadata": {
        "colab": {
          "base_uri": "https://localhost:8080/",
          "height": 92
        },
        "id": "r9FMfCguQluk",
        "outputId": "8ad36914-0b2c-46b4-dac3-9908e575b8bf"
      },
      "execution_count": 7,
      "outputs": [
        {
          "output_type": "execute_result",
          "data": {
            "text/plain": [
              "     ┌─────────┐┌────────────┐ ░     ░ ┌────────────┐\n",
              "q_0: ┤ U2(0,π) ├┤ Ry(θ_g[0]) ├─░──■──░─┤ Ry(θ_g[2]) ├\n",
              "     ├─────────┤├────────────┤ ░  │  ░ ├────────────┤\n",
              "q_1: ┤ U2(0,π) ├┤ Ry(θ_g[1]) ├─░──■──░─┤ Ry(θ_g[3]) ├\n",
              "     └─────────┘└────────────┘ ░     ░ └────────────┘"
            ],
            "text/html": [
              "<pre style=\"word-wrap: normal;white-space: pre;background: #fff0;line-height: 1.1;font-family: &quot;Courier New&quot;,Courier,monospace\">     ┌─────────┐┌────────────┐ ░     ░ ┌────────────┐\n",
              "q_0: ┤ U2(0,π) ├┤ Ry(θ_g[0]) ├─░──■──░─┤ Ry(θ_g[2]) ├\n",
              "     ├─────────┤├────────────┤ ░  │  ░ ├────────────┤\n",
              "q_1: ┤ U2(0,π) ├┤ Ry(θ_g[1]) ├─░──■──░─┤ Ry(θ_g[3]) ├\n",
              "     └─────────┘└────────────┘ ░     ░ └────────────┘</pre>"
            ]
          },
          "metadata": {},
          "execution_count": 7
        }
      ]
    },
    {
      "cell_type": "code",
      "source": [
        "qnn = SamplerQNN(\n",
        "        sampler = sampler,\n",
        "        circuit= qc_zofal,\n",
        "        input_params=[],\n",
        "        weight_params=qc_zofal.parameters,\n",
        "        sparse=False,\n",
        "    ) \n",
        "qnn.forward(input_data=[], weights=[0.1, 0.2, 0.3, 0.4])"
      ],
      "metadata": {
        "colab": {
          "base_uri": "https://localhost:8080/"
        },
        "id": "UdYN2dTGp5PH",
        "outputId": "3151cd88-41fb-4fd5-a88c-fd3808688791"
      },
      "execution_count": 13,
      "outputs": [
        {
          "output_type": "execute_result",
          "data": {
            "text/plain": [
              "array([[0.049 , 0.3759, 0.4343, 0.1408]])"
            ]
          },
          "metadata": {},
          "execution_count": 13
        }
      ]
    },
    {
      "cell_type": "code",
      "source": [
        "#p = qc_zofal.assign_parameters(algorithm_globals.random.random(qc_zofal.num_parameters))\n",
        "p = qc_zofal.assign_parameters([0.1,0.2,0.3,0.4])\n",
        "print(p.decompose())"
      ],
      "metadata": {
        "colab": {
          "base_uri": "https://localhost:8080/"
        },
        "id": "2We_C6aA3wHx",
        "outputId": "b01d6323-e5ec-4c06-ef85-685cfd204ce0"
      },
      "execution_count": 14,
      "outputs": [
        {
          "output_type": "stream",
          "name": "stdout",
          "text": [
            "     ┌─────────┐┌─────────┐ ░     ░ ┌─────────┐\n",
            "q_0: ┤ U2(0,π) ├┤ Ry(0.1) ├─░──■──░─┤ Ry(0.3) ├\n",
            "     ├─────────┤├─────────┤ ░  │  ░ ├─────────┤\n",
            "q_1: ┤ U2(0,π) ├┤ Ry(0.2) ├─░──■──░─┤ Ry(0.4) ├\n",
            "     └─────────┘└─────────┘ ░     ░ └─────────┘\n"
          ]
        }
      ]
    },
    {
      "cell_type": "code",
      "source": [
        "weights_n = algorithm_globals.random.random(qc_zofal.num_parameters)\n",
        "p = qc_zofal.assign_parameters(weights_n)\n",
        "qnn = SamplerQNN(\n",
        "        sampler = sampler,\n",
        "        circuit= p,\n",
        "        input_params=[],\n",
        "        weight_params=[],\n",
        "        sparse=False,\n",
        "    ) \n",
        "qnn.forward(input_data=[], weights=[])"
      ],
      "metadata": {
        "colab": {
          "base_uri": "https://localhost:8080/"
        },
        "id": "je-sty60tAb0",
        "outputId": "71a6710d-2a87-435a-d365-ed191cf64bae"
      },
      "execution_count": 15,
      "outputs": [
        {
          "output_type": "execute_result",
          "data": {
            "text/plain": [
              "array([[0.0281, 0.4322, 0.2447, 0.295 ]])"
            ]
          },
          "metadata": {},
          "execution_count": 15
        }
      ]
    },
    {
      "cell_type": "code",
      "source": [
        "#Without Noise\n",
        "def create_generator() -> TorchConnector:\n",
        "    qnn = SamplerQNN(\n",
        "        sampler = sampler,\n",
        "        circuit= qc_zofal,\n",
        "        input_params=[],\n",
        "        weight_params=qc_zofal.parameters,\n",
        "        sparse=False,\n",
        "    )    \n",
        "    initial_weights = [0.1,0.2,0.3,0.4]\n",
        "    #print(qnn.weight_params)\n",
        "\n",
        "    return TorchConnector(qnn, initial_weights)\n",
        "\n",
        "generator = create_generator()\n",
        "print(generator(torch.tensor([])).reshape(-1,1))\n",
        "#print(generator.get_parameters())\n"
      ],
      "metadata": {
        "colab": {
          "base_uri": "https://localhost:8080/"
        },
        "id": "jyHmckWaQM9N",
        "outputId": "7ebc4ad5-2bd7-4bdd-c00f-6e3233d8406b"
      },
      "execution_count": 25,
      "outputs": [
        {
          "output_type": "stream",
          "name": "stdout",
          "text": [
            "tensor([[0.0507],\n",
            "        [0.3794],\n",
            "        [0.4282],\n",
            "        [0.1417]], grad_fn=<ReshapeAliasBackward0>)\n"
          ]
        }
      ]
    },
    {
      "cell_type": "code",
      "source": [
        "#With Noise\n",
        "weights_n = algorithm_globals.random.random(qc_zofal.num_parameters)\n",
        "def create_generator_n(weights_n) -> TorchConnector:\n",
        "    p = qc_zofal.assign_parameters(weights_n)\n",
        "    qnn = SamplerQNN(\n",
        "        sampler = sampler_n,\n",
        "        circuit= p,\n",
        "        input_params=[],\n",
        "        weight_params=p.parameters,\n",
        "        sparse=False,\n",
        "    )    \n",
        "    return TorchConnector(qnn, [])\n",
        "\n",
        "generator_n = create_generator_n(weights_n)\n",
        "print(generator_n)\n",
        "print(generator_n(torch.tensor([])).reshape(-1,1))   \n",
        "print(generator.parameters) "
      ],
      "metadata": {
        "colab": {
          "base_uri": "https://localhost:8080/"
        },
        "id": "YtFgNDe9Xyh3",
        "outputId": "501ed89d-7d9b-4c66-b924-efe45f9b8176"
      },
      "execution_count": 24,
      "outputs": [
        {
          "output_type": "stream",
          "name": "stdout",
          "text": [
            "TorchConnector()\n",
            "tensor([[0.0791],\n",
            "        [0.6338],\n",
            "        [0.1865],\n",
            "        [0.1006]], grad_fn=<ReshapeAliasBackward0>)\n",
            "<bound method Module.parameters of TorchConnector()>\n"
          ]
        }
      ]
    },
    {
      "cell_type": "code",
      "source": [
        "#With Noise parametrized circuit\n",
        "def create_generator_nn() -> TorchConnector:\n",
        "    qnn = SamplerQNN(\n",
        "        sampler = sampler_n,\n",
        "        circuit= qc_zofal,\n",
        "        input_params=[],\n",
        "        weight_params=qc_zofal.parameters,\n",
        "        sparse=False,\n",
        "    )    \n",
        "    initial_weights = [0.1,0.2,0.3,0.4]\n",
        "    #print(qnn.weight_params)\n",
        "\n",
        "    return TorchConnector(qnn, initial_weights)\n",
        "\n",
        "generator = create_generator()\n",
        "print(generator(torch.tensor([])).reshape(-1,1))\n",
        "#print(generator.get_parameters())"
      ],
      "metadata": {
        "colab": {
          "base_uri": "https://localhost:8080/",
          "height": 565
        },
        "id": "oszC-B7vLgMv",
        "outputId": "9d710baf-b455-4823-d9ab-a594bc3096c0"
      },
      "execution_count": 23,
      "outputs": [
        {
          "output_type": "stream",
          "name": "stderr",
          "text": [
            "WARNING:qiskit_aer.backends.aerbackend:Simulation failed and returned the following error message:\n",
            "ERROR: Failed to load circuits: Invalid parameterized qobj: instruction param position out of range\n"
          ]
        },
        {
          "output_type": "error",
          "ename": "QiskitMachineLearningError",
          "evalue": "ignored",
          "traceback": [
            "\u001b[0;31m---------------------------------------------------------------------------\u001b[0m",
            "\u001b[0;31mIndexError\u001b[0m                                Traceback (most recent call last)",
            "\u001b[0;32m/usr/local/lib/python3.10/dist-packages/qiskit/result/result.py\u001b[0m in \u001b[0;36m_get_experiment\u001b[0;34m(self, key)\u001b[0m\n\u001b[1;32m    367\u001b[0m             \u001b[0;32mtry\u001b[0m\u001b[0;34m:\u001b[0m\u001b[0;34m\u001b[0m\u001b[0;34m\u001b[0m\u001b[0m\n\u001b[0;32m--> 368\u001b[0;31m                 \u001b[0mexp\u001b[0m \u001b[0;34m=\u001b[0m \u001b[0mself\u001b[0m\u001b[0;34m.\u001b[0m\u001b[0mresults\u001b[0m\u001b[0;34m[\u001b[0m\u001b[0mkey\u001b[0m\u001b[0;34m]\u001b[0m\u001b[0;34m\u001b[0m\u001b[0;34m\u001b[0m\u001b[0m\n\u001b[0m\u001b[1;32m    369\u001b[0m             \u001b[0;32mexcept\u001b[0m \u001b[0mIndexError\u001b[0m \u001b[0;32mas\u001b[0m \u001b[0mex\u001b[0m\u001b[0;34m:\u001b[0m\u001b[0;34m\u001b[0m\u001b[0;34m\u001b[0m\u001b[0m\n",
            "\u001b[0;31mIndexError\u001b[0m: list index out of range",
            "\nThe above exception was the direct cause of the following exception:\n",
            "\u001b[0;31mQiskitError\u001b[0m                               Traceback (most recent call last)",
            "\u001b[0;32m/usr/local/lib/python3.10/dist-packages/qiskit_machine_learning/neural_networks/sampler_qnn.py\u001b[0m in \u001b[0;36m_forward\u001b[0;34m(self, input_data, weights)\u001b[0m\n\u001b[1;32m    359\u001b[0m         \u001b[0;32mtry\u001b[0m\u001b[0;34m:\u001b[0m\u001b[0;34m\u001b[0m\u001b[0;34m\u001b[0m\u001b[0m\n\u001b[0;32m--> 360\u001b[0;31m             \u001b[0mresults\u001b[0m \u001b[0;34m=\u001b[0m \u001b[0mjob\u001b[0m\u001b[0;34m.\u001b[0m\u001b[0mresult\u001b[0m\u001b[0;34m(\u001b[0m\u001b[0;34m)\u001b[0m\u001b[0;34m\u001b[0m\u001b[0;34m\u001b[0m\u001b[0m\n\u001b[0m\u001b[1;32m    361\u001b[0m         \u001b[0;32mexcept\u001b[0m \u001b[0mException\u001b[0m \u001b[0;32mas\u001b[0m \u001b[0mexc\u001b[0m\u001b[0;34m:\u001b[0m\u001b[0;34m\u001b[0m\u001b[0;34m\u001b[0m\u001b[0m\n",
            "\u001b[0;32m/usr/local/lib/python3.10/dist-packages/qiskit/primitives/primitive_job.py\u001b[0m in \u001b[0;36mresult\u001b[0;34m(self)\u001b[0m\n\u001b[1;32m     54\u001b[0m         \u001b[0mself\u001b[0m\u001b[0;34m.\u001b[0m\u001b[0m_check_submitted\u001b[0m\u001b[0;34m(\u001b[0m\u001b[0;34m)\u001b[0m\u001b[0;34m\u001b[0m\u001b[0;34m\u001b[0m\u001b[0m\n\u001b[0;32m---> 55\u001b[0;31m         \u001b[0;32mreturn\u001b[0m \u001b[0mself\u001b[0m\u001b[0;34m.\u001b[0m\u001b[0m_future\u001b[0m\u001b[0;34m.\u001b[0m\u001b[0mresult\u001b[0m\u001b[0;34m(\u001b[0m\u001b[0;34m)\u001b[0m\u001b[0;34m\u001b[0m\u001b[0;34m\u001b[0m\u001b[0m\n\u001b[0m\u001b[1;32m     56\u001b[0m \u001b[0;34m\u001b[0m\u001b[0m\n",
            "\u001b[0;32m/usr/lib/python3.10/concurrent/futures/_base.py\u001b[0m in \u001b[0;36mresult\u001b[0;34m(self, timeout)\u001b[0m\n\u001b[1;32m    457\u001b[0m                 \u001b[0;32melif\u001b[0m \u001b[0mself\u001b[0m\u001b[0;34m.\u001b[0m\u001b[0m_state\u001b[0m \u001b[0;34m==\u001b[0m \u001b[0mFINISHED\u001b[0m\u001b[0;34m:\u001b[0m\u001b[0;34m\u001b[0m\u001b[0;34m\u001b[0m\u001b[0m\n\u001b[0;32m--> 458\u001b[0;31m                     \u001b[0;32mreturn\u001b[0m \u001b[0mself\u001b[0m\u001b[0;34m.\u001b[0m\u001b[0m__get_result\u001b[0m\u001b[0;34m(\u001b[0m\u001b[0;34m)\u001b[0m\u001b[0;34m\u001b[0m\u001b[0;34m\u001b[0m\u001b[0m\n\u001b[0m\u001b[1;32m    459\u001b[0m                 \u001b[0;32melse\u001b[0m\u001b[0;34m:\u001b[0m\u001b[0;34m\u001b[0m\u001b[0;34m\u001b[0m\u001b[0m\n",
            "\u001b[0;32m/usr/lib/python3.10/concurrent/futures/_base.py\u001b[0m in \u001b[0;36m__get_result\u001b[0;34m(self)\u001b[0m\n\u001b[1;32m    402\u001b[0m             \u001b[0;32mtry\u001b[0m\u001b[0;34m:\u001b[0m\u001b[0;34m\u001b[0m\u001b[0;34m\u001b[0m\u001b[0m\n\u001b[0;32m--> 403\u001b[0;31m                 \u001b[0;32mraise\u001b[0m \u001b[0mself\u001b[0m\u001b[0;34m.\u001b[0m\u001b[0m_exception\u001b[0m\u001b[0;34m\u001b[0m\u001b[0;34m\u001b[0m\u001b[0m\n\u001b[0m\u001b[1;32m    404\u001b[0m             \u001b[0;32mfinally\u001b[0m\u001b[0;34m:\u001b[0m\u001b[0;34m\u001b[0m\u001b[0;34m\u001b[0m\u001b[0m\n",
            "\u001b[0;32m/usr/lib/python3.10/concurrent/futures/thread.py\u001b[0m in \u001b[0;36mrun\u001b[0;34m(self)\u001b[0m\n\u001b[1;32m     57\u001b[0m         \u001b[0;32mtry\u001b[0m\u001b[0;34m:\u001b[0m\u001b[0;34m\u001b[0m\u001b[0;34m\u001b[0m\u001b[0m\n\u001b[0;32m---> 58\u001b[0;31m             \u001b[0mresult\u001b[0m \u001b[0;34m=\u001b[0m \u001b[0mself\u001b[0m\u001b[0;34m.\u001b[0m\u001b[0mfn\u001b[0m\u001b[0;34m(\u001b[0m\u001b[0;34m*\u001b[0m\u001b[0mself\u001b[0m\u001b[0;34m.\u001b[0m\u001b[0margs\u001b[0m\u001b[0;34m,\u001b[0m \u001b[0;34m**\u001b[0m\u001b[0mself\u001b[0m\u001b[0;34m.\u001b[0m\u001b[0mkwargs\u001b[0m\u001b[0;34m)\u001b[0m\u001b[0;34m\u001b[0m\u001b[0;34m\u001b[0m\u001b[0m\n\u001b[0m\u001b[1;32m     59\u001b[0m         \u001b[0;32mexcept\u001b[0m \u001b[0mBaseException\u001b[0m \u001b[0;32mas\u001b[0m \u001b[0mexc\u001b[0m\u001b[0;34m:\u001b[0m\u001b[0;34m\u001b[0m\u001b[0;34m\u001b[0m\u001b[0m\n",
            "\u001b[0;32m/usr/local/lib/python3.10/dist-packages/qiskit_aer/primitives/sampler.py\u001b[0m in \u001b[0;36m_call\u001b[0;34m(self, circuits, parameter_values, **run_options)\u001b[0m\n\u001b[1;32m    122\u001b[0m             \u001b[0;32melse\u001b[0m\u001b[0;34m:\u001b[0m\u001b[0;34m\u001b[0m\u001b[0;34m\u001b[0m\u001b[0m\n\u001b[0;32m--> 123\u001b[0;31m                 \u001b[0mcounts\u001b[0m \u001b[0;34m=\u001b[0m \u001b[0mresult\u001b[0m\u001b[0;34m.\u001b[0m\u001b[0mget_counts\u001b[0m\u001b[0;34m(\u001b[0m\u001b[0mi\u001b[0m\u001b[0;34m)\u001b[0m\u001b[0;34m\u001b[0m\u001b[0;34m\u001b[0m\u001b[0m\n\u001b[0m\u001b[1;32m    124\u001b[0m                 \u001b[0mshots\u001b[0m \u001b[0;34m=\u001b[0m \u001b[0msum\u001b[0m\u001b[0;34m(\u001b[0m\u001b[0mcounts\u001b[0m\u001b[0;34m.\u001b[0m\u001b[0mvalues\u001b[0m\u001b[0;34m(\u001b[0m\u001b[0;34m)\u001b[0m\u001b[0;34m)\u001b[0m\u001b[0;34m\u001b[0m\u001b[0;34m\u001b[0m\u001b[0m\n",
            "\u001b[0;32m/usr/local/lib/python3.10/dist-packages/qiskit/result/result.py\u001b[0m in \u001b[0;36mget_counts\u001b[0;34m(self, experiment)\u001b[0m\n\u001b[1;32m    268\u001b[0m         \u001b[0;32mfor\u001b[0m \u001b[0mkey\u001b[0m \u001b[0;32min\u001b[0m \u001b[0mexp_keys\u001b[0m\u001b[0;34m:\u001b[0m\u001b[0;34m\u001b[0m\u001b[0;34m\u001b[0m\u001b[0m\n\u001b[0;32m--> 269\u001b[0;31m             \u001b[0mexp\u001b[0m \u001b[0;34m=\u001b[0m \u001b[0mself\u001b[0m\u001b[0;34m.\u001b[0m\u001b[0m_get_experiment\u001b[0m\u001b[0;34m(\u001b[0m\u001b[0mkey\u001b[0m\u001b[0;34m)\u001b[0m\u001b[0;34m\u001b[0m\u001b[0;34m\u001b[0m\u001b[0m\n\u001b[0m\u001b[1;32m    270\u001b[0m             \u001b[0;32mtry\u001b[0m\u001b[0;34m:\u001b[0m\u001b[0;34m\u001b[0m\u001b[0;34m\u001b[0m\u001b[0m\n",
            "\u001b[0;32m/usr/local/lib/python3.10/dist-packages/qiskit/result/result.py\u001b[0m in \u001b[0;36m_get_experiment\u001b[0;34m(self, key)\u001b[0m\n\u001b[1;32m    369\u001b[0m             \u001b[0;32mexcept\u001b[0m \u001b[0mIndexError\u001b[0m \u001b[0;32mas\u001b[0m \u001b[0mex\u001b[0m\u001b[0;34m:\u001b[0m\u001b[0;34m\u001b[0m\u001b[0;34m\u001b[0m\u001b[0m\n\u001b[0;32m--> 370\u001b[0;31m                 \u001b[0;32mraise\u001b[0m \u001b[0mQiskitError\u001b[0m\u001b[0;34m(\u001b[0m\u001b[0;34mf'Result for experiment \"{key}\" could not be found.'\u001b[0m\u001b[0;34m)\u001b[0m \u001b[0;32mfrom\u001b[0m \u001b[0mex\u001b[0m\u001b[0;34m\u001b[0m\u001b[0;34m\u001b[0m\u001b[0m\n\u001b[0m\u001b[1;32m    371\u001b[0m         \u001b[0;32melse\u001b[0m\u001b[0;34m:\u001b[0m\u001b[0;34m\u001b[0m\u001b[0;34m\u001b[0m\u001b[0m\n",
            "\u001b[0;31mQiskitError\u001b[0m: 'Result for experiment \"0\" could not be found.'",
            "\nThe above exception was the direct cause of the following exception:\n",
            "\u001b[0;31mQiskitMachineLearningError\u001b[0m                Traceback (most recent call last)",
            "\u001b[0;32m<ipython-input-23-cc78879dfa3a>\u001b[0m in \u001b[0;36m<cell line: 16>\u001b[0;34m()\u001b[0m\n\u001b[1;32m     14\u001b[0m \u001b[0;34m\u001b[0m\u001b[0m\n\u001b[1;32m     15\u001b[0m \u001b[0mgenerator\u001b[0m \u001b[0;34m=\u001b[0m \u001b[0mcreate_generator\u001b[0m\u001b[0;34m(\u001b[0m\u001b[0;34m)\u001b[0m\u001b[0;34m\u001b[0m\u001b[0;34m\u001b[0m\u001b[0m\n\u001b[0;32m---> 16\u001b[0;31m \u001b[0mprint\u001b[0m\u001b[0;34m(\u001b[0m\u001b[0mgenerator\u001b[0m\u001b[0;34m(\u001b[0m\u001b[0mtorch\u001b[0m\u001b[0;34m.\u001b[0m\u001b[0mtensor\u001b[0m\u001b[0;34m(\u001b[0m\u001b[0;34m[\u001b[0m\u001b[0;34m]\u001b[0m\u001b[0;34m)\u001b[0m\u001b[0;34m)\u001b[0m\u001b[0;34m.\u001b[0m\u001b[0mreshape\u001b[0m\u001b[0;34m(\u001b[0m\u001b[0;34m-\u001b[0m\u001b[0;36m1\u001b[0m\u001b[0;34m,\u001b[0m\u001b[0;36m1\u001b[0m\u001b[0;34m)\u001b[0m\u001b[0;34m)\u001b[0m\u001b[0;34m\u001b[0m\u001b[0;34m\u001b[0m\u001b[0m\n\u001b[0m\u001b[1;32m     17\u001b[0m \u001b[0;31m#print(generator.get_parameters())\u001b[0m\u001b[0;34m\u001b[0m\u001b[0;34m\u001b[0m\u001b[0m\n",
            "\u001b[0;32m/usr/local/lib/python3.10/dist-packages/torch/nn/modules/module.py\u001b[0m in \u001b[0;36m_call_impl\u001b[0;34m(self, *args, **kwargs)\u001b[0m\n\u001b[1;32m   1499\u001b[0m                 \u001b[0;32mor\u001b[0m \u001b[0m_global_backward_pre_hooks\u001b[0m \u001b[0;32mor\u001b[0m \u001b[0m_global_backward_hooks\u001b[0m\u001b[0;34m\u001b[0m\u001b[0;34m\u001b[0m\u001b[0m\n\u001b[1;32m   1500\u001b[0m                 or _global_forward_hooks or _global_forward_pre_hooks):\n\u001b[0;32m-> 1501\u001b[0;31m             \u001b[0;32mreturn\u001b[0m \u001b[0mforward_call\u001b[0m\u001b[0;34m(\u001b[0m\u001b[0;34m*\u001b[0m\u001b[0margs\u001b[0m\u001b[0;34m,\u001b[0m \u001b[0;34m**\u001b[0m\u001b[0mkwargs\u001b[0m\u001b[0;34m)\u001b[0m\u001b[0;34m\u001b[0m\u001b[0;34m\u001b[0m\u001b[0m\n\u001b[0m\u001b[1;32m   1502\u001b[0m         \u001b[0;31m# Do not call functions when jit is used\u001b[0m\u001b[0;34m\u001b[0m\u001b[0;34m\u001b[0m\u001b[0m\n\u001b[1;32m   1503\u001b[0m         \u001b[0mfull_backward_hooks\u001b[0m\u001b[0;34m,\u001b[0m \u001b[0mnon_full_backward_hooks\u001b[0m \u001b[0;34m=\u001b[0m \u001b[0;34m[\u001b[0m\u001b[0;34m]\u001b[0m\u001b[0;34m,\u001b[0m \u001b[0;34m[\u001b[0m\u001b[0;34m]\u001b[0m\u001b[0;34m\u001b[0m\u001b[0;34m\u001b[0m\u001b[0m\n",
            "\u001b[0;32m/usr/local/lib/python3.10/dist-packages/qiskit_machine_learning/connectors/torch_connector.py\u001b[0m in \u001b[0;36mforward\u001b[0;34m(self, input_data)\u001b[0m\n\u001b[1;32m    337\u001b[0m         \"\"\"\n\u001b[1;32m    338\u001b[0m         \u001b[0minput_\u001b[0m \u001b[0;34m=\u001b[0m \u001b[0minput_data\u001b[0m \u001b[0;32mif\u001b[0m \u001b[0minput_data\u001b[0m \u001b[0;32mis\u001b[0m \u001b[0;32mnot\u001b[0m \u001b[0;32mNone\u001b[0m \u001b[0;32melse\u001b[0m \u001b[0mtorch\u001b[0m\u001b[0;34m.\u001b[0m\u001b[0mzeros\u001b[0m\u001b[0;34m(\u001b[0m\u001b[0;36m0\u001b[0m\u001b[0;34m)\u001b[0m\u001b[0;34m\u001b[0m\u001b[0;34m\u001b[0m\u001b[0m\n\u001b[0;32m--> 339\u001b[0;31m         return TorchConnector._TorchNNFunction.apply(\n\u001b[0m\u001b[1;32m    340\u001b[0m             \u001b[0minput_\u001b[0m\u001b[0;34m,\u001b[0m \u001b[0mself\u001b[0m\u001b[0;34m.\u001b[0m\u001b[0m_weights\u001b[0m\u001b[0;34m,\u001b[0m \u001b[0mself\u001b[0m\u001b[0;34m.\u001b[0m\u001b[0m_neural_network\u001b[0m\u001b[0;34m,\u001b[0m \u001b[0mself\u001b[0m\u001b[0;34m.\u001b[0m\u001b[0m_sparse\u001b[0m\u001b[0;34m\u001b[0m\u001b[0;34m\u001b[0m\u001b[0m\n\u001b[1;32m    341\u001b[0m         )\n",
            "\u001b[0;32m/usr/local/lib/python3.10/dist-packages/torch/autograd/function.py\u001b[0m in \u001b[0;36mapply\u001b[0;34m(cls, *args, **kwargs)\u001b[0m\n\u001b[1;32m    504\u001b[0m             \u001b[0;31m# See NOTE: [functorch vjp and autograd interaction]\u001b[0m\u001b[0;34m\u001b[0m\u001b[0;34m\u001b[0m\u001b[0m\n\u001b[1;32m    505\u001b[0m             \u001b[0margs\u001b[0m \u001b[0;34m=\u001b[0m \u001b[0m_functorch\u001b[0m\u001b[0;34m.\u001b[0m\u001b[0mutils\u001b[0m\u001b[0;34m.\u001b[0m\u001b[0munwrap_dead_wrappers\u001b[0m\u001b[0;34m(\u001b[0m\u001b[0margs\u001b[0m\u001b[0;34m)\u001b[0m\u001b[0;34m\u001b[0m\u001b[0;34m\u001b[0m\u001b[0m\n\u001b[0;32m--> 506\u001b[0;31m             \u001b[0;32mreturn\u001b[0m \u001b[0msuper\u001b[0m\u001b[0;34m(\u001b[0m\u001b[0;34m)\u001b[0m\u001b[0;34m.\u001b[0m\u001b[0mapply\u001b[0m\u001b[0;34m(\u001b[0m\u001b[0;34m*\u001b[0m\u001b[0margs\u001b[0m\u001b[0;34m,\u001b[0m \u001b[0;34m**\u001b[0m\u001b[0mkwargs\u001b[0m\u001b[0;34m)\u001b[0m  \u001b[0;31m# type: ignore[misc]\u001b[0m\u001b[0;34m\u001b[0m\u001b[0;34m\u001b[0m\u001b[0m\n\u001b[0m\u001b[1;32m    507\u001b[0m \u001b[0;34m\u001b[0m\u001b[0m\n\u001b[1;32m    508\u001b[0m         \u001b[0;32mif\u001b[0m \u001b[0mcls\u001b[0m\u001b[0;34m.\u001b[0m\u001b[0msetup_context\u001b[0m \u001b[0;34m==\u001b[0m \u001b[0m_SingleLevelFunction\u001b[0m\u001b[0;34m.\u001b[0m\u001b[0msetup_context\u001b[0m\u001b[0;34m:\u001b[0m\u001b[0;34m\u001b[0m\u001b[0;34m\u001b[0m\u001b[0m\n",
            "\u001b[0;32m/usr/local/lib/python3.10/dist-packages/qiskit_machine_learning/connectors/torch_connector.py\u001b[0m in \u001b[0;36mforward\u001b[0;34m(ctx, input_data, weights, neural_network, sparse)\u001b[0m\n\u001b[1;32m     99\u001b[0m             \u001b[0;31m# of the quantum neural network. If the tensors are on CPU already this does nothing.\u001b[0m\u001b[0;34m\u001b[0m\u001b[0;34m\u001b[0m\u001b[0m\n\u001b[1;32m    100\u001b[0m             \u001b[0;31m# Some other tensors down below are also moved to CPU for computations.\u001b[0m\u001b[0;34m\u001b[0m\u001b[0;34m\u001b[0m\u001b[0m\n\u001b[0;32m--> 101\u001b[0;31m             result = neural_network.forward(\n\u001b[0m\u001b[1;32m    102\u001b[0m                 \u001b[0minput_data\u001b[0m\u001b[0;34m.\u001b[0m\u001b[0mdetach\u001b[0m\u001b[0;34m(\u001b[0m\u001b[0;34m)\u001b[0m\u001b[0;34m.\u001b[0m\u001b[0mcpu\u001b[0m\u001b[0;34m(\u001b[0m\u001b[0;34m)\u001b[0m\u001b[0;34m.\u001b[0m\u001b[0mnumpy\u001b[0m\u001b[0;34m(\u001b[0m\u001b[0;34m)\u001b[0m\u001b[0;34m,\u001b[0m \u001b[0mweights\u001b[0m\u001b[0;34m.\u001b[0m\u001b[0mdetach\u001b[0m\u001b[0;34m(\u001b[0m\u001b[0;34m)\u001b[0m\u001b[0;34m.\u001b[0m\u001b[0mcpu\u001b[0m\u001b[0;34m(\u001b[0m\u001b[0;34m)\u001b[0m\u001b[0;34m.\u001b[0m\u001b[0mnumpy\u001b[0m\u001b[0;34m(\u001b[0m\u001b[0;34m)\u001b[0m\u001b[0;34m\u001b[0m\u001b[0;34m\u001b[0m\u001b[0m\n\u001b[1;32m    103\u001b[0m             )\n",
            "\u001b[0;32m/usr/local/lib/python3.10/dist-packages/qiskit_machine_learning/neural_networks/neural_network.py\u001b[0m in \u001b[0;36mforward\u001b[0;34m(self, input_data, weights)\u001b[0m\n\u001b[1;32m    224\u001b[0m         \u001b[0minput_\u001b[0m\u001b[0;34m,\u001b[0m \u001b[0mshape\u001b[0m \u001b[0;34m=\u001b[0m \u001b[0mself\u001b[0m\u001b[0;34m.\u001b[0m\u001b[0m_validate_input\u001b[0m\u001b[0;34m(\u001b[0m\u001b[0minput_data\u001b[0m\u001b[0;34m)\u001b[0m\u001b[0;34m\u001b[0m\u001b[0;34m\u001b[0m\u001b[0m\n\u001b[1;32m    225\u001b[0m         \u001b[0mweights_\u001b[0m \u001b[0;34m=\u001b[0m \u001b[0mself\u001b[0m\u001b[0;34m.\u001b[0m\u001b[0m_validate_weights\u001b[0m\u001b[0;34m(\u001b[0m\u001b[0mweights\u001b[0m\u001b[0;34m)\u001b[0m\u001b[0;34m\u001b[0m\u001b[0;34m\u001b[0m\u001b[0m\n\u001b[0;32m--> 226\u001b[0;31m         \u001b[0moutput_data\u001b[0m \u001b[0;34m=\u001b[0m \u001b[0mself\u001b[0m\u001b[0;34m.\u001b[0m\u001b[0m_forward\u001b[0m\u001b[0;34m(\u001b[0m\u001b[0minput_\u001b[0m\u001b[0;34m,\u001b[0m \u001b[0mweights_\u001b[0m\u001b[0;34m)\u001b[0m\u001b[0;34m\u001b[0m\u001b[0;34m\u001b[0m\u001b[0m\n\u001b[0m\u001b[1;32m    227\u001b[0m         \u001b[0;32mreturn\u001b[0m \u001b[0mself\u001b[0m\u001b[0;34m.\u001b[0m\u001b[0m_validate_forward_output\u001b[0m\u001b[0;34m(\u001b[0m\u001b[0moutput_data\u001b[0m\u001b[0;34m,\u001b[0m \u001b[0mshape\u001b[0m\u001b[0;34m)\u001b[0m\u001b[0;34m\u001b[0m\u001b[0;34m\u001b[0m\u001b[0m\n\u001b[1;32m    228\u001b[0m \u001b[0;34m\u001b[0m\u001b[0m\n",
            "\u001b[0;32m/usr/local/lib/python3.10/dist-packages/qiskit_machine_learning/neural_networks/sampler_qnn.py\u001b[0m in \u001b[0;36m_forward\u001b[0;34m(self, input_data, weights)\u001b[0m\n\u001b[1;32m    360\u001b[0m             \u001b[0mresults\u001b[0m \u001b[0;34m=\u001b[0m \u001b[0mjob\u001b[0m\u001b[0;34m.\u001b[0m\u001b[0mresult\u001b[0m\u001b[0;34m(\u001b[0m\u001b[0;34m)\u001b[0m\u001b[0;34m\u001b[0m\u001b[0;34m\u001b[0m\u001b[0m\n\u001b[1;32m    361\u001b[0m         \u001b[0;32mexcept\u001b[0m \u001b[0mException\u001b[0m \u001b[0;32mas\u001b[0m \u001b[0mexc\u001b[0m\u001b[0;34m:\u001b[0m\u001b[0;34m\u001b[0m\u001b[0;34m\u001b[0m\u001b[0m\n\u001b[0;32m--> 362\u001b[0;31m             \u001b[0;32mraise\u001b[0m \u001b[0mQiskitMachineLearningError\u001b[0m\u001b[0;34m(\u001b[0m\u001b[0;34m\"Sampler job failed.\"\u001b[0m\u001b[0;34m)\u001b[0m \u001b[0;32mfrom\u001b[0m \u001b[0mexc\u001b[0m\u001b[0;34m\u001b[0m\u001b[0;34m\u001b[0m\u001b[0m\n\u001b[0m\u001b[1;32m    363\u001b[0m         \u001b[0mresult\u001b[0m \u001b[0;34m=\u001b[0m \u001b[0mself\u001b[0m\u001b[0;34m.\u001b[0m\u001b[0m_postprocess\u001b[0m\u001b[0;34m(\u001b[0m\u001b[0mnum_samples\u001b[0m\u001b[0;34m,\u001b[0m \u001b[0mresults\u001b[0m\u001b[0;34m)\u001b[0m\u001b[0;34m\u001b[0m\u001b[0;34m\u001b[0m\u001b[0m\n\u001b[1;32m    364\u001b[0m \u001b[0;34m\u001b[0m\u001b[0m\n",
            "\u001b[0;31mQiskitMachineLearningError\u001b[0m: 'Sampler job failed.'"
          ]
        }
      ]
    },
    {
      "cell_type": "markdown",
      "source": [
        "backend = AerSimulator(noise_model=noise_model)\n",
        "backend.set_options(noise_model=noise_model)\n",
        "job = execute(p, backend)\n",
        "result = job.result()\n",
        "# Get the counts from the simulation result\n",
        "counts = result.get_counts()\n",
        "print(counts)"
      ],
      "metadata": {
        "id": "xG1ZWEE7lRhd"
      }
    },
    {
      "cell_type": "code",
      "source": [
        "from torch import nn\n",
        "\n",
        "\n",
        "class Discriminator(nn.Module):\n",
        "    def __init__(self, input_size):\n",
        "        super(Discriminator, self).__init__()\n",
        "\n",
        "        self.linear_input = nn.Linear(input_size, 20)\n",
        "        self.leaky_relu = nn.LeakyReLU(0.2)\n",
        "        self.linear20 = nn.Linear(20, 1)\n",
        "        self.sigmoid = nn.Sigmoid()\n",
        "\n",
        "    def forward(self, input: torch.Tensor) -> torch.Tensor:\n",
        "        x = self.linear_input(input)\n",
        "        x = self.leaky_relu(x)\n",
        "        x = self.linear20(x)\n",
        "        x = self.sigmoid(x)\n",
        "        return x"
      ],
      "metadata": {
        "id": "x4jxF17OUtqh"
      },
      "execution_count": null,
      "outputs": []
    },
    {
      "cell_type": "code",
      "source": [
        "num_dim =1\n",
        "discriminator = Discriminator(num_dim)\n",
        "print(discriminator)"
      ],
      "metadata": {
        "colab": {
          "base_uri": "https://localhost:8080/"
        },
        "id": "b4466gdbRFUL",
        "outputId": "2bc7a6dc-3b82-4cd7-aba2-2058ce7a14ac"
      },
      "execution_count": null,
      "outputs": [
        {
          "output_type": "stream",
          "name": "stdout",
          "text": [
            "Discriminator(\n",
            "  (linear_input): Linear(in_features=1, out_features=20, bias=True)\n",
            "  (leaky_relu): LeakyReLU(negative_slope=0.2)\n",
            "  (linear20): Linear(in_features=20, out_features=1, bias=True)\n",
            "  (sigmoid): Sigmoid()\n",
            ")\n"
          ]
        }
      ]
    },
    {
      "cell_type": "code",
      "source": [
        "def adversarial_loss(input, target, w):\n",
        "    bce_loss = target * torch.log(input) + (1 - target) * torch.log(1 - input)\n",
        "    weighted_loss = w * bce_loss\n",
        "    total_loss = -torch.sum(weighted_loss)\n",
        "    return total_loss"
      ],
      "metadata": {
        "id": "nAhA01t1VTt9"
      },
      "execution_count": null,
      "outputs": []
    },
    {
      "cell_type": "code",
      "source": [
        "from torch.optim import Adam\n",
        "\n",
        "lr = 0.01  # learning rate\n",
        "b1 = 0.7  # first momentum parameter\n",
        "b2 = 0.999  # second momentum parameter\n",
        "\n",
        "generator_optimizer = Adam(generator.parameters(), lr=lr, betas=(b1, b2), weight_decay=0.005)\n",
        "discriminator_optimizer = Adam(discriminator.parameters(), lr=lr, betas=(b1, b2), weight_decay=0.005)"
      ],
      "metadata": {
        "id": "WSQU4ksTVV8I"
      },
      "execution_count": null,
      "outputs": []
    },
    {
      "cell_type": "code",
      "source": [
        "from IPython.display import clear_output\n",
        "import matplotlib.pyplot as plt\n",
        "from matplotlib import cm\n",
        "\n",
        "def plot_training_progress():\n",
        "    # we don't plot if we don't have enough data\n",
        "    if len(generator_loss_values) < 2:\n",
        "        return\n",
        "\n",
        "    clear_output(wait=True)\n",
        "    fig, (ax1, ax2) = plt.subplots(1, 2, figsize=(18, 9))\n",
        "\n",
        "    # Generator Loss\n",
        "    ax1.set_title(\"Loss\")\n",
        "    ax1.plot(generator_loss_values, label=\"generator loss\", color=\"royalblue\")\n",
        "    ax1.plot(discriminator_loss_values, label=\"discriminator loss\", color=\"magenta\")\n",
        "    ax1.legend(loc=\"best\")\n",
        "    ax1.set_xlabel(\"Iteration\")\n",
        "    ax1.set_ylabel(\"Loss\")\n",
        "    ax1.grid()\n",
        "\n",
        "    # Relative Entropy\n",
        "    ax2.set_title(\"Relative entropy\")\n",
        "    ax2.plot(entropy_values)\n",
        "    ax2.set_xlabel(\"Iteration\")\n",
        "    ax2.set_ylabel(\"Relative entropy\")\n",
        "    ax2.grid()\n",
        "\n",
        "    plt.show()"
      ],
      "metadata": {
        "id": "RK_v0RhPu-g0"
      },
      "execution_count": null,
      "outputs": []
    },
    {
      "cell_type": "code",
      "source": [
        "import time\n",
        "from scipy.stats import multivariate_normal, entropy\n",
        "\n",
        "grid_elements = [[1],[2],[3],[4]]\n",
        "prob_data = [0.1, 0.3, 0.5, 0.1]\n",
        "n_epochs = 10\n",
        "\n",
        "num_qnn_outputs = 4\n",
        "\n",
        "generator_loss_values = []\n",
        "discriminator_loss_values = []\n",
        "entropy_values = []\n",
        "\n",
        "start = time.time()\n",
        "for epoch in range(n_epochs):\n",
        "\n",
        "    valid = torch.ones(num_qnn_outputs, 1, dtype=torch.float)\n",
        "    fake = torch.zeros(num_qnn_outputs, 1, dtype=torch.float)\n",
        "\n",
        "    # Configure input\n",
        "    real_dist = torch.tensor(prob_data, dtype=torch.float).reshape(-1, 1)\n",
        "\n",
        "    # Configure samples\n",
        "    samples = torch.tensor(grid_elements, dtype=torch.float)\n",
        "    disc_value = discriminator(samples)\n",
        "\n",
        "    # Generate data\n",
        "    gen_dist = generator_n(torch.tensor([])).reshape(-1, 1)\n",
        "    \n",
        "\n",
        "    # Train generator\n",
        "    generator_optimizer.zero_grad()\n",
        "    generator_loss = adversarial_loss(disc_value, valid, gen_dist)\n",
        "\n",
        "    # store for plotting\n",
        "    generator_loss_values.append(generator_loss.detach().item())\n",
        "\n",
        "    generator_loss.backward(retain_graph=True)\n",
        "    generator_optimizer.step()\n",
        "\n",
        "    # Train Discriminator\n",
        "    discriminator_optimizer.zero_grad()\n",
        "\n",
        "    real_loss = adversarial_loss(disc_value, valid, real_dist)\n",
        "    fake_loss = adversarial_loss(disc_value, fake, gen_dist.detach())\n",
        "    discriminator_loss = (real_loss + fake_loss) / 2\n",
        "\n",
        "    # Store for plotting\n",
        "    discriminator_loss_values.append(discriminator_loss.detach().item())\n",
        "\n",
        "    discriminator_loss.backward()\n",
        "    discriminator_optimizer.step()\n",
        "\n",
        "    ##\n",
        "    qnode = generator.qnode\n",
        "    weights = qnode.get_parameters()\n",
        "\n",
        "\n",
        "\n",
        "    entropy_value = entropy(gen_dist.detach().squeeze().numpy(), prob_data)\n",
        "    entropy_values.append(entropy_value)\n",
        "\n",
        "    plot_training_progress()\n",
        "\n",
        "elapsed = time.time() - start\n",
        "print(f\"Fit in {elapsed:0.2f} sec\")"
      ],
      "metadata": {
        "colab": {
          "base_uri": "https://localhost:8080/",
          "height": 405
        },
        "id": "0VCxXTFLwqtU",
        "outputId": "d9ae017e-1e7a-4617-8a7e-800a50c54746"
      },
      "execution_count": null,
      "outputs": [
        {
          "output_type": "error",
          "ename": "AttributeError",
          "evalue": "ignored",
          "traceback": [
            "\u001b[0;31m---------------------------------------------------------------------------\u001b[0m",
            "\u001b[0;31mAttributeError\u001b[0m                            Traceback (most recent call last)",
            "\u001b[0;32m<ipython-input-343-40509de4160f>\u001b[0m in \u001b[0;36m<cell line: 15>\u001b[0;34m()\u001b[0m\n\u001b[1;32m     53\u001b[0m \u001b[0;34m\u001b[0m\u001b[0m\n\u001b[1;32m     54\u001b[0m     \u001b[0;31m##\u001b[0m\u001b[0;34m\u001b[0m\u001b[0;34m\u001b[0m\u001b[0m\n\u001b[0;32m---> 55\u001b[0;31m     \u001b[0mqnode\u001b[0m \u001b[0;34m=\u001b[0m \u001b[0mgenerator\u001b[0m\u001b[0;34m.\u001b[0m\u001b[0mqnode\u001b[0m\u001b[0;34m\u001b[0m\u001b[0;34m\u001b[0m\u001b[0m\n\u001b[0m\u001b[1;32m     56\u001b[0m     \u001b[0mweights\u001b[0m \u001b[0;34m=\u001b[0m \u001b[0mqnode\u001b[0m\u001b[0;34m.\u001b[0m\u001b[0mget_parameters\u001b[0m\u001b[0;34m(\u001b[0m\u001b[0;34m)\u001b[0m\u001b[0;34m\u001b[0m\u001b[0;34m\u001b[0m\u001b[0m\n\u001b[1;32m     57\u001b[0m \u001b[0;34m\u001b[0m\u001b[0m\n",
            "\u001b[0;32m/usr/local/lib/python3.10/dist-packages/torch/nn/modules/module.py\u001b[0m in \u001b[0;36m__getattr__\u001b[0;34m(self, name)\u001b[0m\n\u001b[1;32m   1612\u001b[0m             \u001b[0;32mif\u001b[0m \u001b[0mname\u001b[0m \u001b[0;32min\u001b[0m \u001b[0mmodules\u001b[0m\u001b[0;34m:\u001b[0m\u001b[0;34m\u001b[0m\u001b[0;34m\u001b[0m\u001b[0m\n\u001b[1;32m   1613\u001b[0m                 \u001b[0;32mreturn\u001b[0m \u001b[0mmodules\u001b[0m\u001b[0;34m[\u001b[0m\u001b[0mname\u001b[0m\u001b[0;34m]\u001b[0m\u001b[0;34m\u001b[0m\u001b[0;34m\u001b[0m\u001b[0m\n\u001b[0;32m-> 1614\u001b[0;31m         raise AttributeError(\"'{}' object has no attribute '{}'\".format(\n\u001b[0m\u001b[1;32m   1615\u001b[0m             type(self).__name__, name))\n\u001b[1;32m   1616\u001b[0m \u001b[0;34m\u001b[0m\u001b[0m\n",
            "\u001b[0;31mAttributeError\u001b[0m: 'TorchConnector' object has no attribute 'qnode'"
          ]
        }
      ]
    },
    {
      "cell_type": "code",
      "source": [
        "with torch.no_grad():\n",
        "    generated_probabilities = generator().numpy()\n",
        "\n",
        "with torch.no_grad():\n",
        "    generated_probabilities = generator().numpy()"
      ],
      "metadata": {
        "id": "0WMBITzlzMnH"
      },
      "execution_count": null,
      "outputs": []
    },
    {
      "cell_type": "code",
      "source": [
        "fig = plt.figure(figsize=(18, 9))\n",
        "import numpy as np\n",
        "\n",
        "# Generated CDF\n",
        "gen_prob_grid = np.cumsum(generated_probabilities)\n",
        "\n",
        "ax1 = fig.add_subplot(1, 3, 1)\n",
        "ax1.set_title(\"Generated CDF\")\n",
        "ax1.set_ylim(-0.1, 1.1)\n",
        "ax1.scatter(grid_elements,gen_prob_grid)\n",
        "\n",
        "# Real CDF\n",
        "real_prob_grid = np.cumsum(prob_data)\n",
        "\n",
        "ax2 = fig.add_subplot(1, 3, 2)\n",
        "ax2.set_title(\"True CDF\")\n",
        "ax2.set_ylim(-0.1, 1.1)\n",
        "ax2.scatter(grid_elements,real_prob_grid)\n",
        "\n",
        "# Difference\n",
        "ax3 = fig.add_subplot(1, 3, 3)\n",
        "ax3.set_title(\"Difference between CDFs\")\n",
        "ax3.set_ylim(-0.1, 0.2)\n",
        "ax3.scatter(grid_elements,real_prob_grid-gen_prob_grid)\n",
        "plt.show()"
      ],
      "metadata": {
        "colab": {
          "base_uri": "https://localhost:8080/",
          "height": 347
        },
        "id": "M5fVccJgy-DH",
        "outputId": "003c85c0-eb47-4c96-dcad-80528d2ab7ec"
      },
      "execution_count": null,
      "outputs": [
        {
          "output_type": "display_data",
          "data": {
            "text/plain": [
              "<Figure size 1800x900 with 3 Axes>"
            ],
            "image/png": "[encoded data removed]"
          },
          "metadata": {}
        }
      ]
    },
    {
      "cell_type": "code",
      "source": [
        "grid_elements = [[1],[2],[3],[4]]\n",
        "samples = torch.tensor(grid_elements, dtype=torch.float)\n",
        "disc_value = discriminator(samples)\n",
        "print(grid_elements)\n",
        "print(samples)\n",
        "print(disc_value)"
      ],
      "metadata": {
        "colab": {
          "base_uri": "https://localhost:8080/"
        },
        "id": "D7TiaNLdV1Mb",
        "outputId": "4380866b-e0a9-4d4b-ce6f-b58c06c0c9bb"
      },
      "execution_count": null,
      "outputs": [
        {
          "output_type": "stream",
          "name": "stdout",
          "text": [
            "[[1], [2], [3], [4]]\n",
            "tensor([[1.],\n",
            "        [2.],\n",
            "        [3.],\n",
            "        [4.]])\n",
            "tensor([[0.5327],\n",
            "        [0.5131],\n",
            "        [0.5037],\n",
            "        [0.4943]], grad_fn=<SigmoidBackward0>)\n"
          ]
        }
      ]
    },
    {
      "cell_type": "code",
      "source": [
        "gen_dist = generator(torch.tensor([])).reshape(-1, 1)\n",
        "print(torch.tensor([]))\n",
        "print(gen_dist.detach())"
      ],
      "metadata": {
        "colab": {
          "base_uri": "https://localhost:8080/"
        },
        "id": "2c38NmY_WxZ0",
        "outputId": "b21d47ac-6655-40b8-d65e-67640ad3288b"
      },
      "execution_count": null,
      "outputs": [
        {
          "output_type": "stream",
          "name": "stdout",
          "text": [
            "tensor([])\n",
            "tensor([[0.1057],\n",
            "        [0.4431],\n",
            "        [0.2776],\n",
            "        [0.1737]])\n"
          ]
        }
      ]
    },
    {
      "cell_type": "code",
      "source": [
        "prob_data = [0.1, 0.3, 0.5, 0.1]\n",
        "real_dist = torch.tensor(prob_data, dtype=torch.float).reshape(-1, 1)\n",
        "valid = torch.ones(4, 1, dtype=torch.float)\n",
        "fake = torch.ones(4, 1, dtype=torch.float)\n",
        "print(real_dist)\n",
        "print(valid)"
      ],
      "metadata": {
        "colab": {
          "base_uri": "https://localhost:8080/"
        },
        "id": "471UYoqKW-Ss",
        "outputId": "54153ba9-d426-48f5-e2cb-8828bdfc6e86"
      },
      "execution_count": null,
      "outputs": [
        {
          "output_type": "stream",
          "name": "stdout",
          "text": [
            "tensor([[0.1000],\n",
            "        [0.3000],\n",
            "        [0.5000],\n",
            "        [0.1000]])\n",
            "tensor([[1.],\n",
            "        [1.],\n",
            "        [1.],\n",
            "        [1.]])\n"
          ]
        }
      ]
    },
    {
      "cell_type": "code",
      "source": [
        "generator_optimizer.zero_grad()\n"
      ],
      "metadata": {
        "id": "W250Grluj6CK"
      },
      "execution_count": null,
      "outputs": []
    },
    {
      "cell_type": "code",
      "source": [
        "generator_loss = adversarial_loss(disc_value, valid, gen_dist.detach())\n",
        "print(generator_loss)"
      ],
      "metadata": {
        "colab": {
          "base_uri": "https://localhost:8080/"
        },
        "id": "HIe3GhQAjbjS",
        "outputId": "eaa61383-769f-4c37-9dd7-406c237fd35d"
      },
      "execution_count": null,
      "outputs": [
        {
          "output_type": "stream",
          "name": "stdout",
          "text": [
            "tensor(0.6749, grad_fn=<NegBackward0>)\n"
          ]
        }
      ]
    },
    {
      "cell_type": "code",
      "source": [
        "generator_loss.backward(retain_graph=True)\n",
        "generator_optimizer.step()"
      ],
      "metadata": {
        "id": "MVZP6Ztrp2t5"
      },
      "execution_count": null,
      "outputs": []
    },
    {
      "cell_type": "code",
      "source": [
        "discriminator_optimizer.zero_grad()\n",
        "\n",
        "real_loss = adversarial_loss(disc_value, valid, real_dist)\n",
        "fake_loss = adversarial_loss(disc_value, fake, gen_dist.detach())\n",
        "discriminator_loss = (real_loss + fake_loss) / 2\n",
        "print(discriminator_loss)"
      ],
      "metadata": {
        "colab": {
          "base_uri": "https://localhost:8080/"
        },
        "id": "s1rVa1G5qBh0",
        "outputId": "cef9df56-4599-459d-b321-fc8764da5716"
      },
      "execution_count": null,
      "outputs": [
        {
          "output_type": "stream",
          "name": "stdout",
          "text": [
            "tensor(0.6757, grad_fn=<DivBackward0>)\n"
          ]
        }
      ]
    },
    {
      "cell_type": "code",
      "source": [
        "discriminator_loss.backward()\n",
        "discriminator_optimizer.step()"
      ],
      "metadata": {
        "id": "RKeFk3KqqSPb"
      },
      "execution_count": null,
      "outputs": []
    },
    {
      "cell_type": "code",
      "source": [
        "from scipy.stats import multivariate_normal, entropy\n",
        "entropy_value = entropy(gen_dist.detach().squeeze().numpy(), prob_data)\n",
        "print(entropy_value)\n",
        "print(gen_dist.detach().squeeze().numpy())\n",
        "print(prob_data)"
      ],
      "metadata": {
        "colab": {
          "base_uri": "https://localhost:8080/"
        },
        "id": "ufVOhfaMrL8O",
        "outputId": "840f6fce-2b72-498b-8e0c-eba615869e0f"
      },
      "execution_count": null,
      "outputs": [
        {
          "output_type": "stream",
          "name": "stdout",
          "text": [
            "0.11109840318877957\n",
            "[0.10568087 0.44305262 0.27760056 0.17366599]\n",
            "[0.1, 0.3, 0.5, 0.1]\n"
          ]
        }
      ]
    },
    {
      "cell_type": "code",
      "source": [
        "disc_value = discriminator(samples)\n",
        "print(disc_value)"
      ],
      "metadata": {
        "colab": {
          "base_uri": "https://localhost:8080/"
        },
        "id": "gnXRN1GItIqF",
        "outputId": "055ad1c5-8a98-430e-bd94-ada2ca9541b3"
      },
      "execution_count": null,
      "outputs": [
        {
          "output_type": "stream",
          "name": "stdout",
          "text": [
            "tensor([[0.5602],\n",
            "        [0.5575],\n",
            "        [0.5638],\n",
            "        [0.5707]], grad_fn=<SigmoidBackward0>)\n"
          ]
        }
      ]
    },
    {
      "cell_type": "code",
      "source": [
        "print(generator(torch.tensor([])).reshape(-1,1))"
      ],
      "metadata": {
        "colab": {
          "base_uri": "https://localhost:8080/"
        },
        "id": "8LXfs3YJuCwo",
        "outputId": "b1076fbc-3b10-4691-ca97-5785cb65366f"
      },
      "execution_count": null,
      "outputs": [
        {
          "output_type": "stream",
          "name": "stdout",
          "text": [
            "tensor([[0.1057],\n",
            "        [0.4431],\n",
            "        [0.2776],\n",
            "        [0.1737]], grad_fn=<ReshapeAliasBackward0>)\n"
          ]
        }
      ]
    }
  ]
}